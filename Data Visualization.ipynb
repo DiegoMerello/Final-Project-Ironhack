{
 "cells": [
  {
   "cell_type": "code",
   "execution_count": null,
   "id": "be12bee0",
   "metadata": {},
   "outputs": [],
   "source": [
    "import pandas as pd\n",
    "import os"
   ]
  },
  {
   "cell_type": "code",
   "execution_count": 2,
   "id": "1a5ea669",
   "metadata": {},
   "outputs": [
    {
     "data": {
      "text/html": [
       "<div>\n",
       "<style scoped>\n",
       "    .dataframe tbody tr th:only-of-type {\n",
       "        vertical-align: middle;\n",
       "    }\n",
       "\n",
       "    .dataframe tbody tr th {\n",
       "        vertical-align: top;\n",
       "    }\n",
       "\n",
       "    .dataframe thead th {\n",
       "        text-align: right;\n",
       "    }\n",
       "</style>\n",
       "<table border=\"1\" class=\"dataframe\">\n",
       "  <thead>\n",
       "    <tr style=\"text-align: right;\">\n",
       "      <th></th>\n",
       "      <th>Date</th>\n",
       "      <th>Tungsten Price</th>\n",
       "    </tr>\n",
       "  </thead>\n",
       "  <tbody>\n",
       "    <tr>\n",
       "      <th>0</th>\n",
       "      <td>2022-02-04</td>\n",
       "      <td>322.390173</td>\n",
       "    </tr>\n",
       "    <tr>\n",
       "      <th>1</th>\n",
       "      <td>2022-02-05</td>\n",
       "      <td>322.503009</td>\n",
       "    </tr>\n",
       "    <tr>\n",
       "      <th>2</th>\n",
       "      <td>2022-02-06</td>\n",
       "      <td>322.503009</td>\n",
       "    </tr>\n",
       "    <tr>\n",
       "      <th>3</th>\n",
       "      <td>2022-02-07</td>\n",
       "      <td>322.393396</td>\n",
       "    </tr>\n",
       "    <tr>\n",
       "      <th>4</th>\n",
       "      <td>2022-02-08</td>\n",
       "      <td>322.245213</td>\n",
       "    </tr>\n",
       "    <tr>\n",
       "      <th>...</th>\n",
       "      <td>...</td>\n",
       "      <td>...</td>\n",
       "    </tr>\n",
       "    <tr>\n",
       "      <th>76</th>\n",
       "      <td>2022-04-21</td>\n",
       "      <td>344.372353</td>\n",
       "    </tr>\n",
       "    <tr>\n",
       "      <th>77</th>\n",
       "      <td>2022-04-22</td>\n",
       "      <td>344.313842</td>\n",
       "    </tr>\n",
       "    <tr>\n",
       "      <th>78</th>\n",
       "      <td>2022-04-24</td>\n",
       "      <td>339.503168</td>\n",
       "    </tr>\n",
       "    <tr>\n",
       "      <th>79</th>\n",
       "      <td>2022-04-25</td>\n",
       "      <td>339.326718</td>\n",
       "    </tr>\n",
       "    <tr>\n",
       "      <th>80</th>\n",
       "      <td>2022-04-26</td>\n",
       "      <td>339.353852</td>\n",
       "    </tr>\n",
       "  </tbody>\n",
       "</table>\n",
       "<p>81 rows × 2 columns</p>\n",
       "</div>"
      ],
      "text/plain": [
       "          Date  Tungsten Price\n",
       "0   2022-02-04      322.390173\n",
       "1   2022-02-05      322.503009\n",
       "2   2022-02-06      322.503009\n",
       "3   2022-02-07      322.393396\n",
       "4   2022-02-08      322.245213\n",
       "..         ...             ...\n",
       "76  2022-04-21      344.372353\n",
       "77  2022-04-22      344.313842\n",
       "78  2022-04-24      339.503168\n",
       "79  2022-04-25      339.326718\n",
       "80  2022-04-26      339.353852\n",
       "\n",
       "[81 rows x 2 columns]"
      ]
     },
     "execution_count": 2,
     "metadata": {},
     "output_type": "execute_result"
    }
   ],
   "source": [
    "tungsten=pd.read_csv('tungsten_daily_price.csv')\n",
    "tungsten"
   ]
  },
  {
   "cell_type": "code",
   "execution_count": 3,
   "id": "b5268372",
   "metadata": {},
   "outputs": [],
   "source": [
    "import plotly.express as px"
   ]
  },
  {
   "cell_type": "code",
   "execution_count": 4,
   "id": "b4895560",
   "metadata": {},
   "outputs": [],
   "source": [
    "import plotly.graph_objs as go\n",
    "import chart_studio.plotly as py"
   ]
  },
  {
   "cell_type": "code",
   "execution_count": null,
   "id": "d770022e",
   "metadata": {},
   "outputs": [],
   "source": [
    "fig= px.line(tungsten, x='Date', y='Tungsten Price USD/tonne',\n",
    "             title='Tungsten price evolution')"
   ]
  },
  {
   "cell_type": "code",
   "execution_count": null,
   "id": "a6066429",
   "metadata": {},
   "outputs": [],
   "source": []
  }
 ],
 "metadata": {
  "kernelspec": {
   "display_name": "Python [conda env:proyectofinal]",
   "language": "python",
   "name": "conda-env-proyectofinal-py"
  },
  "language_info": {
   "codemirror_mode": {
    "name": "ipython",
    "version": 3
   },
   "file_extension": ".py",
   "mimetype": "text/x-python",
   "name": "python",
   "nbconvert_exporter": "python",
   "pygments_lexer": "ipython3",
   "version": "3.7.13"
  }
 },
 "nbformat": 4,
 "nbformat_minor": 5
}
