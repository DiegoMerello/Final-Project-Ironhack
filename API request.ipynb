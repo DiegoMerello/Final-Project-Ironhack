{
 "cells": [
  {
   "cell_type": "code",
   "execution_count": 4,
   "id": "302a5947",
   "metadata": {},
   "outputs": [],
   "source": [
    "import requests "
   ]
  },
  {
   "cell_type": "code",
   "execution_count": 2,
   "id": "de53ff6c",
   "metadata": {},
   "outputs": [],
   "source": [
    "base_currency= 'USD'\n",
    "symbol = 'XCU, ALU, TUNGSTEN, TIN, IRON' \n",
    "endpoint = 'latest'\n",
    "access_key = 'kw1gi2e747957w1xqebd3ok2hh7sgfljbt9q9f1y3hs37jxb2f9dcgh12xu4'"
   ]
  },
  {
   "cell_type": "code",
   "execution_count": 13,
   "id": "49d26a41",
   "metadata": {},
   "outputs": [],
   "source": [
    "resp = requests.get(\n",
    "        'https://www.metals-api.com/api/'+endpoint+'?access_key='+access_key+'&base='+base_currency+'&symbols=XCU, ALU, TUNGSTEN, TIN, IRON')"
   ]
  },
  {
   "cell_type": "code",
   "execution_count": 14,
   "id": "9db87401",
   "metadata": {},
   "outputs": [],
   "source": [
    "if resp.status_code != 200:\n",
    "    raise ApiError('GET /'+endpoint+'/ {}'.format(resp.status_code))"
   ]
  },
  {
   "cell_type": "code",
   "execution_count": 15,
   "id": "2b94ebf5",
   "metadata": {},
   "outputs": [
    {
     "name": "stdout",
     "output_type": "stream",
     "text": [
      "{'success': True, 'timestamp': 1649705400, 'date': '2022-04-11', 'base': 'USD', 'rates': {'USD': 1, 'XCU': 3.4516206896552}, 'unit': 'per ounce'}\n"
     ]
    }
   ],
   "source": [
    " print(resp.json())"
   ]
  },
  {
   "cell_type": "code",
   "execution_count": null,
   "id": "11aec19c",
   "metadata": {},
   "outputs": [],
   "source": []
  },
  {
   "cell_type": "code",
   "execution_count": null,
   "id": "04646182",
   "metadata": {},
   "outputs": [],
   "source": []
  }
 ],
 "metadata": {
  "kernelspec": {
   "display_name": "Python [conda env:proyectofinal]",
   "language": "python",
   "name": "conda-env-proyectofinal-py"
  },
  "language_info": {
   "codemirror_mode": {
    "name": "ipython",
    "version": 3
   },
   "file_extension": ".py",
   "mimetype": "text/x-python",
   "name": "python",
   "nbconvert_exporter": "python",
   "pygments_lexer": "ipython3",
   "version": "3.7.13"
  }
 },
 "nbformat": 4,
 "nbformat_minor": 5
}
