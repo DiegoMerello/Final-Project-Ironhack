{
 "cells": [
  {
   "cell_type": "code",
   "execution_count": 2,
   "id": "302a5947",
   "metadata": {},
   "outputs": [],
   "source": [
    "import requests "
   ]
  },
  {
   "cell_type": "code",
   "execution_count": 26,
   "id": "de53ff6c",
   "metadata": {},
   "outputs": [],
   "source": [
    "base_currency= 'USD'\n",
    "symbol = 'ALU, TUNGSTEN, TIN, IRON' \n",
    "endpoint = 'latest'\n",
    "access_key = 'kw1gi2e747957w1xqebd3ok2hh7sgfljbt9q9f1y3hs37jxb2f9dcgh12xu4'"
   ]
  },
  {
   "cell_type": "code",
   "execution_count": 17,
   "id": "49d26a41",
   "metadata": {},
   "outputs": [],
   "source": [
    "resp = requests.get(\n",
    "        'https://www.metals-api.com/api/latest?access_key=kw1gi2e747957w1xqebd3ok2hh7sgfljbt9q9f1y3hs37jxb2f9dcgh12xu4&base=USD&symbols=TUNGSTEN')"
   ]
  },
  {
   "cell_type": "code",
   "execution_count": 18,
   "id": "9db87401",
   "metadata": {},
   "outputs": [],
   "source": [
    "if resp.status_code != 200:\n",
    "    raise ApiError('GET /'+endpoint+'/ {}'.format(resp.status_code))"
   ]
  },
  {
   "cell_type": "code",
   "execution_count": 19,
   "id": "2b94ebf5",
   "metadata": {},
   "outputs": [
    {
     "name": "stdout",
     "output_type": "stream",
     "text": [
      "{'success': True, 'timestamp': 1649782320, 'date': '2022-04-12', 'base': 'USD', 'rates': {'TUNGSTEN': 93.38448458926, 'USD': 1}}\n"
     ]
    }
   ],
   "source": [
    " print(resp.json())"
   ]
  },
  {
   "cell_type": "code",
   "execution_count": 15,
   "id": "11aec19c",
   "metadata": {},
   "outputs": [],
   "source": [
    "req1= requests.get('https://api.metals.live/v1/spot/commodities').json()\n",
    "if resp.status_code != 200:\n",
    "    raise ApiError('GET /'+endpoint+'/ {}'.format(resp.status_code))"
   ]
  },
  {
   "cell_type": "code",
   "execution_count": 16,
   "id": "04646182",
   "metadata": {},
   "outputs": [
    {
     "name": "stdout",
     "output_type": "stream",
     "text": [
      "[{'iridium': '6100.00'}, {'rhodium': '19100.00'}, {'ruthenium': '750.00'}, {'lead': '1.0843'}, {'aluminum': '1.47'}, {'copper': '4.6240'}, {'nickel': '77.960'}, {'tin': '19.65'}, {'zinc': '24.866'}, {'cobalt': '36.99'}, {'bronze': '1.77'}, {'brass': '2.11'}, {'timestamp': 1649781997664}]\n"
     ]
    }
   ],
   "source": [
    "print(req1)"
   ]
  },
  {
   "cell_type": "code",
   "execution_count": 23,
   "id": "46ffbe3f",
   "metadata": {},
   "outputs": [],
   "source": [
    "resp2=requests.get(\n",
    "        'https://www.metals-api.com/api/2019-12-01?access_key=kw1gi2e747957w1xqebd3ok2hh7sgfljbt9q9f1y3hs37jxb2f9dcgh12xu4&base=USD&symbols=TUNGSTEN')"
   ]
  },
  {
   "cell_type": "code",
   "execution_count": 24,
   "id": "0308884c",
   "metadata": {},
   "outputs": [],
   "source": [
    "if resp2.status_code != 200:\n",
    "    raise ApiError('GET /'+endpoint+'/ {}'.format(resp.status_code))"
   ]
  },
  {
   "cell_type": "code",
   "execution_count": 25,
   "id": "0899f413",
   "metadata": {},
   "outputs": [
    {
     "name": "stdout",
     "output_type": "stream",
     "text": [
      "{'success': True, 'historical': True, 'date': '2019-12-01', 'base': 'USD', 'rates': {'USD': 1.1}}\n"
     ]
    }
   ],
   "source": [
    " print(resp2.json())"
   ]
  },
  {
   "cell_type": "code",
   "execution_count": 27,
   "id": "c07a3050",
   "metadata": {},
   "outputs": [],
   "source": [
    "resp3= requests.get(\n",
    "        'https://www.metals-api.com/api/'+endpoint+'?access_key='+access_key+'&base='+base_currency+'&symbols='+symbol)"
   ]
  },
  {
   "cell_type": "code",
   "execution_count": 29,
   "id": "d4b4e7ea",
   "metadata": {},
   "outputs": [],
   "source": [
    "if resp3.status_code != 200:\n",
    "    raise ApiError('GET /'+endpoint+'/ {}'.format(resp.status_code))"
   ]
  },
  {
   "cell_type": "code",
   "execution_count": 30,
   "id": "8dbdfd18",
   "metadata": {},
   "outputs": [
    {
     "name": "stdout",
     "output_type": "stream",
     "text": [
      "{'success': True, 'timestamp': 1649788080, 'date': '2022-04-12', 'base': 'USD', 'rates': {'USD': 1, 'XCU': 3.4021553831438}, 'unit': 'per ounce'}\n"
     ]
    }
   ],
   "source": [
    " print(resp3.json())"
   ]
  },
  {
   "cell_type": "code",
   "execution_count": 7,
   "id": "67e52823",
   "metadata": {},
   "outputs": [],
   "source": [
    "base_currency = 'USD'\n",
    "symbol = ['TUNGSTEN', 'IRON']\n",
    "endpoint = 'latest'\n",
    "access_key = 'kw1gi2e747957w1xqebd3ok2hh7sgfljbt9q9f1y3hs37jxb2f9dcgh12xu4'\n",
    "\n",
    "\n",
    "endpoint = 'timeseries'\n",
    "start_date = '2022-02-04'\n",
    "end_date = '2022-04-15'\n",
    "time_call = 'https://www.metals-api.com/api/'+endpoint+'?access_key='+access_key+ '&start_date=' + start_date +'& end_date='+end_date+'&base='+base_currency+'&symbols='+'TUNGSTEN'\n",
    "\n",
    "resp4=requests.get(time_call).json()"
   ]
  },
  {
   "cell_type": "code",
   "execution_count": 8,
   "id": "60d03baa",
   "metadata": {},
   "outputs": [
    {
     "data": {
      "text/plain": [
       "{'success': True,\n",
       " 'timeseries': True,\n",
       " 'start_date': '2022-02-04',\n",
       " 'end_date': '2022-04-15',\n",
       " 'base': 'USD',\n",
       " 'rates': {'2022-02-04': {'USD': 1, 'TUNGSTEN': 99.726985255814},\n",
       "  '2022-02-05': {'USD': 1, 'TUNGSTEN': 99.692093023256},\n",
       "  '2022-02-06': {'USD': 1, 'TUNGSTEN': 99.692093023256},\n",
       "  '2022-02-07': {'USD': 1, 'TUNGSTEN': 99.725988334884},\n",
       "  '2022-02-08': {'USD': 1, 'TUNGSTEN': 99.771846697674},\n",
       "  '2022-02-09': {'USD': 1, 'TUNGSTEN': 99.745926753488},\n",
       "  '2022-02-10': {'USD': 1, 'TUNGSTEN': 98.811793465438},\n",
       "  '2022-02-11': {'USD': 1, 'TUNGSTEN': 98.816732129032},\n",
       "  '2022-02-12': {'USD': 1, 'TUNGSTEN': 98.773271889401},\n",
       "  '2022-02-13': {'USD': 1, 'TUNGSTEN': 98.773271889401},\n",
       "  '2022-02-14': {'USD': 1, 'TUNGSTEN': 98.840437714286},\n",
       "  '2022-02-15': {'USD': 1, 'TUNGSTEN': 98.788087880184},\n",
       "  '2022-02-16': {'USD': 1, 'TUNGSTEN': 98.851302774194},\n",
       "  '2022-02-17': {'USD': 1, 'TUNGSTEN': 97.333447479576},\n",
       "  '2022-02-18': {'USD': 1, 'TUNGSTEN': 97.322746792738},\n",
       "  '2022-02-19': {'USD': 1, 'TUNGSTEN': 97.278971255673},\n",
       "  '2022-02-20': {'USD': 1, 'TUNGSTEN': 97.278971255673},\n",
       "  '2022-02-21': {'USD': 1, 'TUNGSTEN': 97.342202586989},\n",
       "  '2022-02-22': {'USD': 1, 'TUNGSTEN': 97.309127736762},\n",
       "  '2022-02-23': {'USD': 1, 'TUNGSTEN': 97.372359068079},\n",
       "  '2022-02-24': {'USD': 1, 'TUNGSTEN': 96.785693729323},\n",
       "  '2022-02-25': {'USD': 1, 'TUNGSTEN': 96.779892099248},\n",
       "  '2022-02-26': {'USD': 1, 'TUNGSTEN': 96.693834586466},\n",
       "  '2022-02-27': {'USD': 1, 'TUNGSTEN': 96.693834586466},\n",
       "  '2022-02-28': {'USD': 1, 'TUNGSTEN': 96.726710490226},\n",
       "  '2022-03-01': {'USD': 1, 'TUNGSTEN': 96.740247627068},\n",
       "  '2022-03-02': {'USD': 1, 'TUNGSTEN': 96.707371723308},\n",
       "  '2022-03-03': {'USD': 1, 'TUNGSTEN': 96.731545181955},\n",
       "  '2022-03-04': {'USD': 1, 'TUNGSTEN': 96.730578243609},\n",
       "  '2022-03-05': {'USD': 1, 'TUNGSTEN': 96.693834586466},\n",
       "  '2022-03-06': {'USD': 1, 'TUNGSTEN': 96.693834586466},\n",
       "  '2022-03-07': {'USD': 1, 'TUNGSTEN': 96.73734681203},\n",
       "  '2022-03-08': {'USD': 1, 'TUNGSTEN': 96.786660667669},\n",
       "  '2022-03-09': {'USD': 1, 'TUNGSTEN': 96.759586393985},\n",
       "  '2022-03-10': {'USD': 1, 'TUNGSTEN': 96.760553332331},\n",
       "  '2022-03-11': {'USD': 1, 'TUNGSTEN': 96.785693729323},\n",
       "  '2022-03-12': {'USD': 1, 'TUNGSTEN': 95.261333333333},\n",
       "  '2022-03-13': {'USD': 1, 'TUNGSTEN': 95.261333333333},\n",
       "  '2022-03-14': {'USD': 1, 'TUNGSTEN': 95.29181696},\n",
       "  '2022-03-15': {'USD': 1, 'TUNGSTEN': 95.289911733333},\n",
       "  '2022-03-16': {'USD': 1, 'TUNGSTEN': 95.305153546667},\n",
       "  '2022-03-17': {'USD': 1, 'TUNGSTEN': 95.352784213333},\n",
       "  '2022-03-18': {'USD': 1, 'TUNGSTEN': 95.2803856},\n",
       "  '2022-03-19': {'USD': 1, 'TUNGSTEN': 95.261333333333},\n",
       "  '2022-03-20': {'USD': 1, 'TUNGSTEN': 95.261333333333},\n",
       "  '2022-03-21': {'USD': 1, 'TUNGSTEN': 95.308011386667},\n",
       "  '2022-03-22': {'USD': 1, 'TUNGSTEN': 95.3375424},\n",
       "  '2022-03-23': {'USD': 1, 'TUNGSTEN': 95.3232532},\n",
       "  '2022-03-24': {'USD': 1, 'TUNGSTEN': 94.464516343612},\n",
       "  '2022-03-25': {'USD': 1, 'TUNGSTEN': 94.44657615859},\n",
       "  '2022-03-26': {'USD': 1, 'TUNGSTEN': 94.422026431718},\n",
       "  '2022-03-27': {'USD': 1, 'TUNGSTEN': 94.422026431718},\n",
       "  '2022-03-28': {'USD': 1, 'TUNGSTEN': 94.436189735683},\n",
       "  '2022-03-29': {'USD': 1, 'TUNGSTEN': 94.452241480176},\n",
       "  '2022-03-30': {'USD': 1, 'TUNGSTEN': 94.502285154185},\n",
       "  '2022-03-31': {'USD': 1, 'TUNGSTEN': 93.885676239416},\n",
       "  '2022-04-01': {'USD': 1, 'TUNGSTEN': 93.919469675912},\n",
       "  '2022-04-02': {'USD': 1, 'TUNGSTEN': 93.870656934307},\n",
       "  '2022-04-03': {'USD': 1, 'TUNGSTEN': 93.870656934307},\n",
       "  '2022-04-04': {'USD': 1, 'TUNGSTEN': 93.914776143066},\n",
       "  '2022-04-05': {'USD': 1, 'TUNGSTEN': 93.957017938686},\n",
       "  '2022-04-06': {'USD': 1, 'TUNGSTEN': 93.898818131387},\n",
       "  '2022-04-07': {'USD': 1, 'TUNGSTEN': 93.938243807299},\n",
       "  '2022-04-08': {'USD': 1, 'TUNGSTEN': 93.885676239416},\n",
       "  '2022-04-09': {'USD': 1, 'TUNGSTEN': 93.325689404935},\n",
       "  '2022-04-10': {'USD': 1, 'TUNGSTEN': 93.325689404935},\n",
       "  '2022-04-11': {'USD': 1, 'TUNGSTEN': 93.397550185776},\n",
       "  '2022-04-12': {'USD': 1, 'TUNGSTEN': 93.3938171582},\n",
       "  '2022-04-13': {'USD': 1, 'TUNGSTEN': 93.376085277213},\n",
       "  '2022-04-14': {'USD': 1, 'TUNGSTEN': 93.405016240929},\n",
       "  '2022-04-15': {'USD': 1, 'TUNGSTEN': 93.402216470247}}}"
      ]
     },
     "execution_count": 8,
     "metadata": {},
     "output_type": "execute_result"
    }
   ],
   "source": [
    "resp4"
   ]
  },
  {
   "cell_type": "code",
   "execution_count": null,
   "id": "713dafd8",
   "metadata": {},
   "outputs": [],
   "source": []
  }
 ],
 "metadata": {
  "kernelspec": {
   "display_name": "Python [conda env:proyectofinal]",
   "language": "python",
   "name": "conda-env-proyectofinal-py"
  },
  "language_info": {
   "codemirror_mode": {
    "name": "ipython",
    "version": 3
   },
   "file_extension": ".py",
   "mimetype": "text/x-python",
   "name": "python",
   "nbconvert_exporter": "python",
   "pygments_lexer": "ipython3",
   "version": "3.7.13"
  }
 },
 "nbformat": 4,
 "nbformat_minor": 5
}
