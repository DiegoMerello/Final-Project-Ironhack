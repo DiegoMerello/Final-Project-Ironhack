{
 "cells": [
  {
   "cell_type": "code",
   "execution_count": 1,
   "id": "302a5947",
   "metadata": {},
   "outputs": [],
   "source": [
    "import requests "
   ]
  },
  {
   "cell_type": "code",
   "execution_count": 2,
   "id": "de53ff6c",
   "metadata": {},
   "outputs": [],
   "source": [
    "base_currency= 'USD'\n",
    "symbol = 'ALU, TUNGSTEN, TIN, IRON' \n",
    "endpoint = 'latest'\n",
    "access_key = 'kw1gi2e747957w1xqebd3ok2hh7sgfljbt9q9f1y3hs37jxb2f9dcgh12xu4'"
   ]
  },
  {
   "cell_type": "code",
   "execution_count": 17,
   "id": "49d26a41",
   "metadata": {},
   "outputs": [],
   "source": [
    "resp = requests.get(\n",
    "        'https://www.metals-api.com/api/latest?access_key=kw1gi2e747957w1xqebd3ok2hh7sgfljbt9q9f1y3hs37jxb2f9dcgh12xu4&base=USD&symbols=TUNGSTEN')"
   ]
  },
  {
   "cell_type": "code",
   "execution_count": 18,
   "id": "9db87401",
   "metadata": {},
   "outputs": [],
   "source": [
    "if resp.status_code != 200:\n",
    "    raise ApiError('GET /'+endpoint+'/ {}'.format(resp.status_code))"
   ]
  },
  {
   "cell_type": "code",
   "execution_count": 19,
   "id": "2b94ebf5",
   "metadata": {},
   "outputs": [
    {
     "name": "stdout",
     "output_type": "stream",
     "text": [
      "{'success': True, 'timestamp': 1649782320, 'date': '2022-04-12', 'base': 'USD', 'rates': {'TUNGSTEN': 93.38448458926, 'USD': 1}}\n"
     ]
    }
   ],
   "source": [
    " print(resp.json())"
   ]
  },
  {
   "cell_type": "code",
   "execution_count": 15,
   "id": "11aec19c",
   "metadata": {},
   "outputs": [],
   "source": [
    "req1= requests.get('https://api.metals.live/v1/spot/commodities').json()\n",
    "if resp.status_code != 200:\n",
    "    raise ApiError('GET /'+endpoint+'/ {}'.format(resp.status_code))"
   ]
  },
  {
   "cell_type": "code",
   "execution_count": 16,
   "id": "04646182",
   "metadata": {},
   "outputs": [
    {
     "name": "stdout",
     "output_type": "stream",
     "text": [
      "[{'iridium': '6100.00'}, {'rhodium': '19100.00'}, {'ruthenium': '750.00'}, {'lead': '1.0843'}, {'aluminum': '1.47'}, {'copper': '4.6240'}, {'nickel': '77.960'}, {'tin': '19.65'}, {'zinc': '24.866'}, {'cobalt': '36.99'}, {'bronze': '1.77'}, {'brass': '2.11'}, {'timestamp': 1649781997664}]\n"
     ]
    }
   ],
   "source": [
    "print(req1)"
   ]
  },
  {
   "cell_type": "code",
   "execution_count": 23,
   "id": "46ffbe3f",
   "metadata": {},
   "outputs": [],
   "source": [
    "resp2=requests.get(\n",
    "        'https://www.metals-api.com/api/2019-12-01?access_key=kw1gi2e747957w1xqebd3ok2hh7sgfljbt9q9f1y3hs37jxb2f9dcgh12xu4&base=USD&symbols=TUNGSTEN')"
   ]
  },
  {
   "cell_type": "code",
   "execution_count": 24,
   "id": "0308884c",
   "metadata": {},
   "outputs": [],
   "source": [
    "if resp2.status_code != 200:\n",
    "    raise ApiError('GET /'+endpoint+'/ {}'.format(resp.status_code))"
   ]
  },
  {
   "cell_type": "code",
   "execution_count": 25,
   "id": "0899f413",
   "metadata": {},
   "outputs": [
    {
     "name": "stdout",
     "output_type": "stream",
     "text": [
      "{'success': True, 'historical': True, 'date': '2019-12-01', 'base': 'USD', 'rates': {'USD': 1.1}}\n"
     ]
    }
   ],
   "source": [
    " print(resp2.json())"
   ]
  },
  {
   "cell_type": "code",
   "execution_count": 27,
   "id": "c07a3050",
   "metadata": {},
   "outputs": [],
   "source": [
    "resp3= requests.get(\n",
    "        'https://www.metals-api.com/api/'+endpoint+'?access_key='+access_key+'&base='+base_currency+'&symbols='+symbol)"
   ]
  },
  {
   "cell_type": "code",
   "execution_count": 29,
   "id": "d4b4e7ea",
   "metadata": {},
   "outputs": [],
   "source": [
    "if resp3.status_code != 200:\n",
    "    raise ApiError('GET /'+endpoint+'/ {}'.format(resp.status_code))"
   ]
  },
  {
   "cell_type": "code",
   "execution_count": 30,
   "id": "8dbdfd18",
   "metadata": {},
   "outputs": [
    {
     "name": "stdout",
     "output_type": "stream",
     "text": [
      "{'success': True, 'timestamp': 1649788080, 'date': '2022-04-12', 'base': 'USD', 'rates': {'USD': 1, 'XCU': 3.4021553831438}, 'unit': 'per ounce'}\n"
     ]
    }
   ],
   "source": [
    " print(resp3.json())"
   ]
  },
  {
   "cell_type": "code",
   "execution_count": 18,
   "id": "67e52823",
   "metadata": {},
   "outputs": [
    {
     "ename": "TypeError",
     "evalue": "can only concatenate str (not \"list\") to str",
     "output_type": "error",
     "traceback": [
      "\u001b[1;31m---------------------------------------------------------------------------\u001b[0m",
      "\u001b[1;31mTypeError\u001b[0m                                 Traceback (most recent call last)",
      "\u001b[1;32m~\\AppData\\Local\\Temp\\ipykernel_4736\\1993319762.py\u001b[0m in \u001b[0;36m<module>\u001b[1;34m\u001b[0m\n\u001b[0;32m      8\u001b[0m \u001b[0mstart_date\u001b[0m \u001b[1;33m=\u001b[0m \u001b[1;34m'2022-02-04'\u001b[0m\u001b[1;33m\u001b[0m\u001b[1;33m\u001b[0m\u001b[0m\n\u001b[0;32m      9\u001b[0m \u001b[0mend_date\u001b[0m \u001b[1;33m=\u001b[0m \u001b[1;34m'2022-04-15'\u001b[0m\u001b[1;33m\u001b[0m\u001b[1;33m\u001b[0m\u001b[0m\n\u001b[1;32m---> 10\u001b[1;33m \u001b[0mtime_call\u001b[0m \u001b[1;33m=\u001b[0m \u001b[1;34m'https://www.metals-api.com/api/'\u001b[0m\u001b[1;33m+\u001b[0m\u001b[0mendpoint\u001b[0m\u001b[1;33m+\u001b[0m\u001b[1;34m'?access_key='\u001b[0m\u001b[1;33m+\u001b[0m\u001b[0maccess_key\u001b[0m\u001b[1;33m+\u001b[0m \u001b[1;34m'&start_date='\u001b[0m \u001b[1;33m+\u001b[0m \u001b[0mstart_date\u001b[0m \u001b[1;33m+\u001b[0m\u001b[1;34m'& end_date='\u001b[0m\u001b[1;33m+\u001b[0m\u001b[0mend_date\u001b[0m\u001b[1;33m+\u001b[0m\u001b[1;34m'&base='\u001b[0m\u001b[1;33m+\u001b[0m\u001b[0mbase_currency\u001b[0m\u001b[1;33m+\u001b[0m\u001b[1;34m'&symbols='\u001b[0m\u001b[1;33m+\u001b[0m\u001b[0msymbol\u001b[0m\u001b[1;33m\u001b[0m\u001b[1;33m\u001b[0m\u001b[0m\n\u001b[0m\u001b[0;32m     11\u001b[0m \u001b[1;33m\u001b[0m\u001b[0m\n\u001b[0;32m     12\u001b[0m \u001b[0mresp4\u001b[0m\u001b[1;33m=\u001b[0m\u001b[0mrequests\u001b[0m\u001b[1;33m.\u001b[0m\u001b[0mget\u001b[0m\u001b[1;33m(\u001b[0m\u001b[0mtime_call\u001b[0m\u001b[1;33m)\u001b[0m\u001b[1;33m.\u001b[0m\u001b[0mjson\u001b[0m\u001b[1;33m(\u001b[0m\u001b[1;33m)\u001b[0m\u001b[1;33m\u001b[0m\u001b[1;33m\u001b[0m\u001b[0m\n",
      "\u001b[1;31mTypeError\u001b[0m: can only concatenate str (not \"list\") to str"
     ]
    }
   ],
   "source": [
    "base_currency = 'USD'\n",
    "symbol = ['TUNGSTEN', 'IRON']\n",
    "endpoint = 'latest'\n",
    "access_key = 'kw1gi2e747957w1xqebd3ok2hh7sgfljbt9q9f1y3hs37jxb2f9dcgh12xu4'\n",
    "\n",
    "\n",
    "endpoint = 'timeseries'\n",
    "start_date = '2022-02-04'\n",
    "end_date = '2022-04-15'\n",
    "time_call = 'https://www.metals-api.com/api/'+endpoint+'?access_key='+access_key+ '&start_date=' + start_date +'& end_date='+end_date+'&base='+base_currency+'&symbols='+'TUNGSTEN'\n",
    "\n",
    "resp4=requests.get(time_call).json()"
   ]
  },
  {
   "cell_type": "code",
   "execution_count": 16,
   "id": "60d03baa",
   "metadata": {},
   "outputs": [
    {
     "data": {
      "text/plain": [
       "{'success': True,\n",
       " 'timeseries': True,\n",
       " 'start_date': '2022-02-04',\n",
       " 'end_date': '2022-04-15',\n",
       " 'base': 'USD',\n",
       " 'rates': {'2022-02-04': {'USD': 1, 'TUNGSTEN': 99.726985255814},\n",
       "  '2022-02-05': {'USD': 1, 'TUNGSTEN': 99.692093023256},\n",
       "  '2022-02-06': {'USD': 1, 'TUNGSTEN': 99.692093023256},\n",
       "  '2022-02-07': {'USD': 1, 'TUNGSTEN': 99.725988334884},\n",
       "  '2022-02-08': {'USD': 1, 'TUNGSTEN': 99.771846697674},\n",
       "  '2022-02-09': {'USD': 1, 'TUNGSTEN': 99.745926753488},\n",
       "  '2022-02-10': {'USD': 1, 'TUNGSTEN': 98.811793465438},\n",
       "  '2022-02-11': {'USD': 1, 'TUNGSTEN': 98.816732129032},\n",
       "  '2022-02-12': {'USD': 1, 'TUNGSTEN': 98.773271889401},\n",
       "  '2022-02-13': {'USD': 1, 'TUNGSTEN': 98.773271889401},\n",
       "  '2022-02-14': {'USD': 1, 'TUNGSTEN': 98.840437714286},\n",
       "  '2022-02-15': {'USD': 1, 'TUNGSTEN': 98.788087880184},\n",
       "  '2022-02-16': {'USD': 1, 'TUNGSTEN': 98.851302774194},\n",
       "  '2022-02-17': {'USD': 1, 'TUNGSTEN': 97.333447479576},\n",
       "  '2022-02-18': {'USD': 1, 'TUNGSTEN': 97.322746792738},\n",
       "  '2022-02-19': {'USD': 1, 'TUNGSTEN': 97.278971255673},\n",
       "  '2022-02-20': {'USD': 1, 'TUNGSTEN': 97.278971255673},\n",
       "  '2022-02-21': {'USD': 1, 'TUNGSTEN': 97.342202586989},\n",
       "  '2022-02-22': {'USD': 1, 'TUNGSTEN': 97.309127736762},\n",
       "  '2022-02-23': {'USD': 1, 'TUNGSTEN': 97.372359068079},\n",
       "  '2022-02-24': {'USD': 1, 'TUNGSTEN': 96.785693729323},\n",
       "  '2022-02-25': {'USD': 1, 'TUNGSTEN': 96.779892099248},\n",
       "  '2022-02-26': {'USD': 1, 'TUNGSTEN': 96.693834586466},\n",
       "  '2022-02-27': {'USD': 1, 'TUNGSTEN': 96.693834586466},\n",
       "  '2022-02-28': {'USD': 1, 'TUNGSTEN': 96.726710490226},\n",
       "  '2022-03-01': {'USD': 1, 'TUNGSTEN': 96.740247627068},\n",
       "  '2022-03-02': {'USD': 1, 'TUNGSTEN': 96.707371723308},\n",
       "  '2022-03-03': {'USD': 1, 'TUNGSTEN': 96.731545181955},\n",
       "  '2022-03-04': {'USD': 1, 'TUNGSTEN': 96.730578243609},\n",
       "  '2022-03-05': {'USD': 1, 'TUNGSTEN': 96.693834586466},\n",
       "  '2022-03-06': {'USD': 1, 'TUNGSTEN': 96.693834586466},\n",
       "  '2022-03-07': {'USD': 1, 'TUNGSTEN': 96.73734681203},\n",
       "  '2022-03-08': {'USD': 1, 'TUNGSTEN': 96.786660667669},\n",
       "  '2022-03-09': {'USD': 1, 'TUNGSTEN': 96.759586393985},\n",
       "  '2022-03-10': {'USD': 1, 'TUNGSTEN': 96.760553332331},\n",
       "  '2022-03-11': {'USD': 1, 'TUNGSTEN': 96.785693729323},\n",
       "  '2022-03-12': {'USD': 1, 'TUNGSTEN': 95.261333333333},\n",
       "  '2022-03-13': {'USD': 1, 'TUNGSTEN': 95.261333333333},\n",
       "  '2022-03-14': {'USD': 1, 'TUNGSTEN': 95.29181696},\n",
       "  '2022-03-15': {'USD': 1, 'TUNGSTEN': 95.289911733333},\n",
       "  '2022-03-16': {'USD': 1, 'TUNGSTEN': 95.305153546667},\n",
       "  '2022-03-17': {'USD': 1, 'TUNGSTEN': 95.352784213333},\n",
       "  '2022-03-18': {'USD': 1, 'TUNGSTEN': 95.2803856},\n",
       "  '2022-03-19': {'USD': 1, 'TUNGSTEN': 95.261333333333},\n",
       "  '2022-03-20': {'USD': 1, 'TUNGSTEN': 95.261333333333},\n",
       "  '2022-03-21': {'USD': 1, 'TUNGSTEN': 95.308011386667},\n",
       "  '2022-03-22': {'USD': 1, 'TUNGSTEN': 95.3375424},\n",
       "  '2022-03-23': {'USD': 1, 'TUNGSTEN': 95.3232532},\n",
       "  '2022-03-24': {'USD': 1, 'TUNGSTEN': 94.464516343612},\n",
       "  '2022-03-25': {'USD': 1, 'TUNGSTEN': 94.44657615859},\n",
       "  '2022-03-26': {'USD': 1, 'TUNGSTEN': 94.422026431718},\n",
       "  '2022-03-27': {'USD': 1, 'TUNGSTEN': 94.422026431718},\n",
       "  '2022-03-28': {'USD': 1, 'TUNGSTEN': 94.436189735683},\n",
       "  '2022-03-29': {'USD': 1, 'TUNGSTEN': 94.452241480176},\n",
       "  '2022-03-30': {'USD': 1, 'TUNGSTEN': 94.502285154185},\n",
       "  '2022-03-31': {'USD': 1, 'TUNGSTEN': 93.885676239416},\n",
       "  '2022-04-01': {'USD': 1, 'TUNGSTEN': 93.919469675912},\n",
       "  '2022-04-02': {'USD': 1, 'TUNGSTEN': 93.870656934307},\n",
       "  '2022-04-03': {'USD': 1, 'TUNGSTEN': 93.870656934307},\n",
       "  '2022-04-04': {'USD': 1, 'TUNGSTEN': 93.914776143066},\n",
       "  '2022-04-05': {'USD': 1, 'TUNGSTEN': 93.957017938686},\n",
       "  '2022-04-06': {'USD': 1, 'TUNGSTEN': 93.898818131387},\n",
       "  '2022-04-07': {'USD': 1, 'TUNGSTEN': 93.938243807299},\n",
       "  '2022-04-08': {'USD': 1, 'TUNGSTEN': 93.885676239416},\n",
       "  '2022-04-09': {'USD': 1, 'TUNGSTEN': 93.325689404935},\n",
       "  '2022-04-10': {'USD': 1, 'TUNGSTEN': 93.325689404935},\n",
       "  '2022-04-11': {'USD': 1, 'TUNGSTEN': 93.397550185776},\n",
       "  '2022-04-12': {'USD': 1, 'TUNGSTEN': 93.3938171582},\n",
       "  '2022-04-13': {'USD': 1, 'TUNGSTEN': 93.376085277213},\n",
       "  '2022-04-14': {'USD': 1, 'TUNGSTEN': 93.405016240929},\n",
       "  '2022-04-15': {'USD': 1, 'TUNGSTEN': 93.402216470247}}}"
      ]
     },
     "execution_count": 16,
     "metadata": {},
     "output_type": "execute_result"
    }
   ],
   "source": [
    "resp4"
   ]
  },
  {
   "cell_type": "code",
   "execution_count": 8,
   "id": "713dafd8",
   "metadata": {},
   "outputs": [],
   "source": [
    "import pandas as pd\n",
    "from pandas import json_normalize\n",
    "import json"
   ]
  },
  {
   "cell_type": "code",
   "execution_count": 39,
   "id": "265a5623",
   "metadata": {},
   "outputs": [],
   "source": [
    "info= pd.DataFrame.from_dict(resp4)"
   ]
  },
  {
   "cell_type": "code",
   "execution_count": 41,
   "id": "a40403a2",
   "metadata": {},
   "outputs": [
    {
     "data": {
      "text/html": [
       "<div>\n",
       "<style scoped>\n",
       "    .dataframe tbody tr th:only-of-type {\n",
       "        vertical-align: middle;\n",
       "    }\n",
       "\n",
       "    .dataframe tbody tr th {\n",
       "        vertical-align: top;\n",
       "    }\n",
       "\n",
       "    .dataframe thead th {\n",
       "        text-align: right;\n",
       "    }\n",
       "</style>\n",
       "<table border=\"1\" class=\"dataframe\">\n",
       "  <thead>\n",
       "    <tr style=\"text-align: right;\">\n",
       "      <th></th>\n",
       "      <th>success</th>\n",
       "      <th>timeseries</th>\n",
       "      <th>start_date</th>\n",
       "      <th>end_date</th>\n",
       "      <th>base</th>\n",
       "      <th>rates</th>\n",
       "    </tr>\n",
       "  </thead>\n",
       "  <tbody>\n",
       "    <tr>\n",
       "      <th>2022-02-04</th>\n",
       "      <td>True</td>\n",
       "      <td>True</td>\n",
       "      <td>2022-02-04</td>\n",
       "      <td>2022-04-15</td>\n",
       "      <td>USD</td>\n",
       "      <td>{'USD': 1, 'TUNGSTEN': 99.726985255814}</td>\n",
       "    </tr>\n",
       "    <tr>\n",
       "      <th>2022-02-05</th>\n",
       "      <td>True</td>\n",
       "      <td>True</td>\n",
       "      <td>2022-02-04</td>\n",
       "      <td>2022-04-15</td>\n",
       "      <td>USD</td>\n",
       "      <td>{'USD': 1, 'TUNGSTEN': 99.692093023256}</td>\n",
       "    </tr>\n",
       "    <tr>\n",
       "      <th>2022-02-06</th>\n",
       "      <td>True</td>\n",
       "      <td>True</td>\n",
       "      <td>2022-02-04</td>\n",
       "      <td>2022-04-15</td>\n",
       "      <td>USD</td>\n",
       "      <td>{'USD': 1, 'TUNGSTEN': 99.692093023256}</td>\n",
       "    </tr>\n",
       "    <tr>\n",
       "      <th>2022-02-07</th>\n",
       "      <td>True</td>\n",
       "      <td>True</td>\n",
       "      <td>2022-02-04</td>\n",
       "      <td>2022-04-15</td>\n",
       "      <td>USD</td>\n",
       "      <td>{'USD': 1, 'TUNGSTEN': 99.725988334884}</td>\n",
       "    </tr>\n",
       "    <tr>\n",
       "      <th>2022-02-08</th>\n",
       "      <td>True</td>\n",
       "      <td>True</td>\n",
       "      <td>2022-02-04</td>\n",
       "      <td>2022-04-15</td>\n",
       "      <td>USD</td>\n",
       "      <td>{'USD': 1, 'TUNGSTEN': 99.771846697674}</td>\n",
       "    </tr>\n",
       "    <tr>\n",
       "      <th>...</th>\n",
       "      <td>...</td>\n",
       "      <td>...</td>\n",
       "      <td>...</td>\n",
       "      <td>...</td>\n",
       "      <td>...</td>\n",
       "      <td>...</td>\n",
       "    </tr>\n",
       "    <tr>\n",
       "      <th>2022-04-11</th>\n",
       "      <td>True</td>\n",
       "      <td>True</td>\n",
       "      <td>2022-02-04</td>\n",
       "      <td>2022-04-15</td>\n",
       "      <td>USD</td>\n",
       "      <td>{'USD': 1, 'TUNGSTEN': 93.397550185776}</td>\n",
       "    </tr>\n",
       "    <tr>\n",
       "      <th>2022-04-12</th>\n",
       "      <td>True</td>\n",
       "      <td>True</td>\n",
       "      <td>2022-02-04</td>\n",
       "      <td>2022-04-15</td>\n",
       "      <td>USD</td>\n",
       "      <td>{'USD': 1, 'TUNGSTEN': 93.3938171582}</td>\n",
       "    </tr>\n",
       "    <tr>\n",
       "      <th>2022-04-13</th>\n",
       "      <td>True</td>\n",
       "      <td>True</td>\n",
       "      <td>2022-02-04</td>\n",
       "      <td>2022-04-15</td>\n",
       "      <td>USD</td>\n",
       "      <td>{'USD': 1, 'TUNGSTEN': 93.376085277213}</td>\n",
       "    </tr>\n",
       "    <tr>\n",
       "      <th>2022-04-14</th>\n",
       "      <td>True</td>\n",
       "      <td>True</td>\n",
       "      <td>2022-02-04</td>\n",
       "      <td>2022-04-15</td>\n",
       "      <td>USD</td>\n",
       "      <td>{'USD': 1, 'TUNGSTEN': 93.405016240929}</td>\n",
       "    </tr>\n",
       "    <tr>\n",
       "      <th>2022-04-15</th>\n",
       "      <td>True</td>\n",
       "      <td>True</td>\n",
       "      <td>2022-02-04</td>\n",
       "      <td>2022-04-15</td>\n",
       "      <td>USD</td>\n",
       "      <td>{'USD': 1, 'TUNGSTEN': 93.402216470247}</td>\n",
       "    </tr>\n",
       "  </tbody>\n",
       "</table>\n",
       "<p>71 rows × 6 columns</p>\n",
       "</div>"
      ],
      "text/plain": [
       "            success  timeseries  start_date    end_date base  \\\n",
       "2022-02-04     True        True  2022-02-04  2022-04-15  USD   \n",
       "2022-02-05     True        True  2022-02-04  2022-04-15  USD   \n",
       "2022-02-06     True        True  2022-02-04  2022-04-15  USD   \n",
       "2022-02-07     True        True  2022-02-04  2022-04-15  USD   \n",
       "2022-02-08     True        True  2022-02-04  2022-04-15  USD   \n",
       "...             ...         ...         ...         ...  ...   \n",
       "2022-04-11     True        True  2022-02-04  2022-04-15  USD   \n",
       "2022-04-12     True        True  2022-02-04  2022-04-15  USD   \n",
       "2022-04-13     True        True  2022-02-04  2022-04-15  USD   \n",
       "2022-04-14     True        True  2022-02-04  2022-04-15  USD   \n",
       "2022-04-15     True        True  2022-02-04  2022-04-15  USD   \n",
       "\n",
       "                                              rates  \n",
       "2022-02-04  {'USD': 1, 'TUNGSTEN': 99.726985255814}  \n",
       "2022-02-05  {'USD': 1, 'TUNGSTEN': 99.692093023256}  \n",
       "2022-02-06  {'USD': 1, 'TUNGSTEN': 99.692093023256}  \n",
       "2022-02-07  {'USD': 1, 'TUNGSTEN': 99.725988334884}  \n",
       "2022-02-08  {'USD': 1, 'TUNGSTEN': 99.771846697674}  \n",
       "...                                             ...  \n",
       "2022-04-11  {'USD': 1, 'TUNGSTEN': 93.397550185776}  \n",
       "2022-04-12    {'USD': 1, 'TUNGSTEN': 93.3938171582}  \n",
       "2022-04-13  {'USD': 1, 'TUNGSTEN': 93.376085277213}  \n",
       "2022-04-14  {'USD': 1, 'TUNGSTEN': 93.405016240929}  \n",
       "2022-04-15  {'USD': 1, 'TUNGSTEN': 93.402216470247}  \n",
       "\n",
       "[71 rows x 6 columns]"
      ]
     },
     "execution_count": 41,
     "metadata": {},
     "output_type": "execute_result"
    }
   ],
   "source": [
    "info"
   ]
  },
  {
   "cell_type": "code",
   "execution_count": null,
   "id": "659d2dd5",
   "metadata": {},
   "outputs": [],
   "source": []
  },
  {
   "cell_type": "code",
   "execution_count": 37,
   "id": "025d650c",
   "metadata": {},
   "outputs": [
    {
     "data": {
      "text/plain": [
       "dict"
      ]
     },
     "execution_count": 37,
     "metadata": {},
     "output_type": "execute_result"
    }
   ],
   "source": [
    "type(resp4)"
   ]
  },
  {
   "cell_type": "code",
   "execution_count": 23,
   "id": "29221a9a",
   "metadata": {},
   "outputs": [
    {
     "name": "stdout",
     "output_type": "stream",
     "text": [
      "{'success': True, 'timestamp': 1650393000, 'date': '2022-04-19', 'base': 'USD', 'rates': {'ALU': 9.851434833062, 'IRON': 206.75825729341, 'TIN': 0.81732663609309, 'TUNGSTEN': 93.385417846154, 'USD': 1}}\n"
     ]
    }
   ],
   "source": [
    "base_currency = 'USD'\n",
    "symbols = 'ALU,TUNGSTEN,TIN,IRON'  \n",
    "endpoint = 'latest'\n",
    "access_key = 'kw1gi2e747957w1xqebd3ok2hh7sgfljbt9q9f1y3hs37jxb2f9dcgh12xu4'\n",
    "\n",
    "resp5 = requests.get(\n",
    "        'https://www.metals-api.com/api/'+endpoint+'?access_key='+access_key+'&base='+base_currency+'&symbols='+symbols)\n",
    "if resp5.status_code != 200:\n",
    "        # This means something went wrong.\n",
    "    raise ApiError('GET /'+endpoint+'/ {}'.format(resp5.status_code))\n",
    "print(resp5.json())"
   ]
  },
  {
   "cell_type": "code",
   "execution_count": 36,
   "id": "19ef76b0",
   "metadata": {},
   "outputs": [
    {
     "ename": "TypeError",
     "evalue": "{'success': True, 'timeseries': True, 'start_date': '2022-02-04', 'end_date': '2022-04-15', 'base': 'USD', 'rates': {'2022-02-04': {'USD': 1, 'TUNGSTEN': 99.726985255814}, '2022-02-05': {'USD': 1, 'TUNGSTEN': 99.692093023256}, '2022-02-06': {'USD': 1, 'TUNGSTEN': 99.692093023256}, '2022-02-07': {'USD': 1, 'TUNGSTEN': 99.725988334884}, '2022-02-08': {'USD': 1, 'TUNGSTEN': 99.771846697674}, '2022-02-09': {'USD': 1, 'TUNGSTEN': 99.745926753488}, '2022-02-10': {'USD': 1, 'TUNGSTEN': 98.811793465438}, '2022-02-11': {'USD': 1, 'TUNGSTEN': 98.816732129032}, '2022-02-12': {'USD': 1, 'TUNGSTEN': 98.773271889401}, '2022-02-13': {'USD': 1, 'TUNGSTEN': 98.773271889401}, '2022-02-14': {'USD': 1, 'TUNGSTEN': 98.840437714286}, '2022-02-15': {'USD': 1, 'TUNGSTEN': 98.788087880184}, '2022-02-16': {'USD': 1, 'TUNGSTEN': 98.851302774194}, '2022-02-17': {'USD': 1, 'TUNGSTEN': 97.333447479576}, '2022-02-18': {'USD': 1, 'TUNGSTEN': 97.322746792738}, '2022-02-19': {'USD': 1, 'TUNGSTEN': 97.278971255673}, '2022-02-20': {'USD': 1, 'TUNGSTEN': 97.278971255673}, '2022-02-21': {'USD': 1, 'TUNGSTEN': 97.342202586989}, '2022-02-22': {'USD': 1, 'TUNGSTEN': 97.309127736762}, '2022-02-23': {'USD': 1, 'TUNGSTEN': 97.372359068079}, '2022-02-24': {'USD': 1, 'TUNGSTEN': 96.785693729323}, '2022-02-25': {'USD': 1, 'TUNGSTEN': 96.779892099248}, '2022-02-26': {'USD': 1, 'TUNGSTEN': 96.693834586466}, '2022-02-27': {'USD': 1, 'TUNGSTEN': 96.693834586466}, '2022-02-28': {'USD': 1, 'TUNGSTEN': 96.726710490226}, '2022-03-01': {'USD': 1, 'TUNGSTEN': 96.740247627068}, '2022-03-02': {'USD': 1, 'TUNGSTEN': 96.707371723308}, '2022-03-03': {'USD': 1, 'TUNGSTEN': 96.731545181955}, '2022-03-04': {'USD': 1, 'TUNGSTEN': 96.730578243609}, '2022-03-05': {'USD': 1, 'TUNGSTEN': 96.693834586466}, '2022-03-06': {'USD': 1, 'TUNGSTEN': 96.693834586466}, '2022-03-07': {'USD': 1, 'TUNGSTEN': 96.73734681203}, '2022-03-08': {'USD': 1, 'TUNGSTEN': 96.786660667669}, '2022-03-09': {'USD': 1, 'TUNGSTEN': 96.759586393985}, '2022-03-10': {'USD': 1, 'TUNGSTEN': 96.760553332331}, '2022-03-11': {'USD': 1, 'TUNGSTEN': 96.785693729323}, '2022-03-12': {'USD': 1, 'TUNGSTEN': 95.261333333333}, '2022-03-13': {'USD': 1, 'TUNGSTEN': 95.261333333333}, '2022-03-14': {'USD': 1, 'TUNGSTEN': 95.29181696}, '2022-03-15': {'USD': 1, 'TUNGSTEN': 95.289911733333}, '2022-03-16': {'USD': 1, 'TUNGSTEN': 95.305153546667}, '2022-03-17': {'USD': 1, 'TUNGSTEN': 95.352784213333}, '2022-03-18': {'USD': 1, 'TUNGSTEN': 95.2803856}, '2022-03-19': {'USD': 1, 'TUNGSTEN': 95.261333333333}, '2022-03-20': {'USD': 1, 'TUNGSTEN': 95.261333333333}, '2022-03-21': {'USD': 1, 'TUNGSTEN': 95.308011386667}, '2022-03-22': {'USD': 1, 'TUNGSTEN': 95.3375424}, '2022-03-23': {'USD': 1, 'TUNGSTEN': 95.3232532}, '2022-03-24': {'USD': 1, 'TUNGSTEN': 94.464516343612}, '2022-03-25': {'USD': 1, 'TUNGSTEN': 94.44657615859}, '2022-03-26': {'USD': 1, 'TUNGSTEN': 94.422026431718}, '2022-03-27': {'USD': 1, 'TUNGSTEN': 94.422026431718}, '2022-03-28': {'USD': 1, 'TUNGSTEN': 94.436189735683}, '2022-03-29': {'USD': 1, 'TUNGSTEN': 94.452241480176}, '2022-03-30': {'USD': 1, 'TUNGSTEN': 94.502285154185}, '2022-03-31': {'USD': 1, 'TUNGSTEN': 93.885676239416}, '2022-04-01': {'USD': 1, 'TUNGSTEN': 93.919469675912}, '2022-04-02': {'USD': 1, 'TUNGSTEN': 93.870656934307}, '2022-04-03': {'USD': 1, 'TUNGSTEN': 93.870656934307}, '2022-04-04': {'USD': 1, 'TUNGSTEN': 93.914776143066}, '2022-04-05': {'USD': 1, 'TUNGSTEN': 93.957017938686}, '2022-04-06': {'USD': 1, 'TUNGSTEN': 93.898818131387}, '2022-04-07': {'USD': 1, 'TUNGSTEN': 93.938243807299}, '2022-04-08': {'USD': 1, 'TUNGSTEN': 93.885676239416}, '2022-04-09': {'USD': 1, 'TUNGSTEN': 93.325689404935}, '2022-04-10': {'USD': 1, 'TUNGSTEN': 93.325689404935}, '2022-04-11': {'USD': 1, 'TUNGSTEN': 93.397550185776}, '2022-04-12': {'USD': 1, 'TUNGSTEN': 93.3938171582}, '2022-04-13': {'USD': 1, 'TUNGSTEN': 93.376085277213}, '2022-04-14': {'USD': 1, 'TUNGSTEN': 93.405016240929}, '2022-04-15': {'USD': 1, 'TUNGSTEN': 93.402216470247}}} has non list value {'2022-02-04': {'USD': 1, 'TUNGSTEN': 99.726985255814}, '2022-02-05': {'USD': 1, 'TUNGSTEN': 99.692093023256}, '2022-02-06': {'USD': 1, 'TUNGSTEN': 99.692093023256}, '2022-02-07': {'USD': 1, 'TUNGSTEN': 99.725988334884}, '2022-02-08': {'USD': 1, 'TUNGSTEN': 99.771846697674}, '2022-02-09': {'USD': 1, 'TUNGSTEN': 99.745926753488}, '2022-02-10': {'USD': 1, 'TUNGSTEN': 98.811793465438}, '2022-02-11': {'USD': 1, 'TUNGSTEN': 98.816732129032}, '2022-02-12': {'USD': 1, 'TUNGSTEN': 98.773271889401}, '2022-02-13': {'USD': 1, 'TUNGSTEN': 98.773271889401}, '2022-02-14': {'USD': 1, 'TUNGSTEN': 98.840437714286}, '2022-02-15': {'USD': 1, 'TUNGSTEN': 98.788087880184}, '2022-02-16': {'USD': 1, 'TUNGSTEN': 98.851302774194}, '2022-02-17': {'USD': 1, 'TUNGSTEN': 97.333447479576}, '2022-02-18': {'USD': 1, 'TUNGSTEN': 97.322746792738}, '2022-02-19': {'USD': 1, 'TUNGSTEN': 97.278971255673}, '2022-02-20': {'USD': 1, 'TUNGSTEN': 97.278971255673}, '2022-02-21': {'USD': 1, 'TUNGSTEN': 97.342202586989}, '2022-02-22': {'USD': 1, 'TUNGSTEN': 97.309127736762}, '2022-02-23': {'USD': 1, 'TUNGSTEN': 97.372359068079}, '2022-02-24': {'USD': 1, 'TUNGSTEN': 96.785693729323}, '2022-02-25': {'USD': 1, 'TUNGSTEN': 96.779892099248}, '2022-02-26': {'USD': 1, 'TUNGSTEN': 96.693834586466}, '2022-02-27': {'USD': 1, 'TUNGSTEN': 96.693834586466}, '2022-02-28': {'USD': 1, 'TUNGSTEN': 96.726710490226}, '2022-03-01': {'USD': 1, 'TUNGSTEN': 96.740247627068}, '2022-03-02': {'USD': 1, 'TUNGSTEN': 96.707371723308}, '2022-03-03': {'USD': 1, 'TUNGSTEN': 96.731545181955}, '2022-03-04': {'USD': 1, 'TUNGSTEN': 96.730578243609}, '2022-03-05': {'USD': 1, 'TUNGSTEN': 96.693834586466}, '2022-03-06': {'USD': 1, 'TUNGSTEN': 96.693834586466}, '2022-03-07': {'USD': 1, 'TUNGSTEN': 96.73734681203}, '2022-03-08': {'USD': 1, 'TUNGSTEN': 96.786660667669}, '2022-03-09': {'USD': 1, 'TUNGSTEN': 96.759586393985}, '2022-03-10': {'USD': 1, 'TUNGSTEN': 96.760553332331}, '2022-03-11': {'USD': 1, 'TUNGSTEN': 96.785693729323}, '2022-03-12': {'USD': 1, 'TUNGSTEN': 95.261333333333}, '2022-03-13': {'USD': 1, 'TUNGSTEN': 95.261333333333}, '2022-03-14': {'USD': 1, 'TUNGSTEN': 95.29181696}, '2022-03-15': {'USD': 1, 'TUNGSTEN': 95.289911733333}, '2022-03-16': {'USD': 1, 'TUNGSTEN': 95.305153546667}, '2022-03-17': {'USD': 1, 'TUNGSTEN': 95.352784213333}, '2022-03-18': {'USD': 1, 'TUNGSTEN': 95.2803856}, '2022-03-19': {'USD': 1, 'TUNGSTEN': 95.261333333333}, '2022-03-20': {'USD': 1, 'TUNGSTEN': 95.261333333333}, '2022-03-21': {'USD': 1, 'TUNGSTEN': 95.308011386667}, '2022-03-22': {'USD': 1, 'TUNGSTEN': 95.3375424}, '2022-03-23': {'USD': 1, 'TUNGSTEN': 95.3232532}, '2022-03-24': {'USD': 1, 'TUNGSTEN': 94.464516343612}, '2022-03-25': {'USD': 1, 'TUNGSTEN': 94.44657615859}, '2022-03-26': {'USD': 1, 'TUNGSTEN': 94.422026431718}, '2022-03-27': {'USD': 1, 'TUNGSTEN': 94.422026431718}, '2022-03-28': {'USD': 1, 'TUNGSTEN': 94.436189735683}, '2022-03-29': {'USD': 1, 'TUNGSTEN': 94.452241480176}, '2022-03-30': {'USD': 1, 'TUNGSTEN': 94.502285154185}, '2022-03-31': {'USD': 1, 'TUNGSTEN': 93.885676239416}, '2022-04-01': {'USD': 1, 'TUNGSTEN': 93.919469675912}, '2022-04-02': {'USD': 1, 'TUNGSTEN': 93.870656934307}, '2022-04-03': {'USD': 1, 'TUNGSTEN': 93.870656934307}, '2022-04-04': {'USD': 1, 'TUNGSTEN': 93.914776143066}, '2022-04-05': {'USD': 1, 'TUNGSTEN': 93.957017938686}, '2022-04-06': {'USD': 1, 'TUNGSTEN': 93.898818131387}, '2022-04-07': {'USD': 1, 'TUNGSTEN': 93.938243807299}, '2022-04-08': {'USD': 1, 'TUNGSTEN': 93.885676239416}, '2022-04-09': {'USD': 1, 'TUNGSTEN': 93.325689404935}, '2022-04-10': {'USD': 1, 'TUNGSTEN': 93.325689404935}, '2022-04-11': {'USD': 1, 'TUNGSTEN': 93.397550185776}, '2022-04-12': {'USD': 1, 'TUNGSTEN': 93.3938171582}, '2022-04-13': {'USD': 1, 'TUNGSTEN': 93.376085277213}, '2022-04-14': {'USD': 1, 'TUNGSTEN': 93.405016240929}, '2022-04-15': {'USD': 1, 'TUNGSTEN': 93.402216470247}} for path rates. Must be list or null.",
     "output_type": "error",
     "traceback": [
      "\u001b[1;31m---------------------------------------------------------------------------\u001b[0m",
      "\u001b[1;31mTypeError\u001b[0m                                 Traceback (most recent call last)",
      "\u001b[1;32m~\\AppData\\Local\\Temp\\ipykernel_4736\\4064992231.py\u001b[0m in \u001b[0;36m<module>\u001b[1;34m\u001b[0m\n\u001b[0;32m      1\u001b[0m pd.json_normalize(\n\u001b[1;32m----> 2\u001b[1;33m     resp4, 'rates', ['USD','TUNGSTEN'])\n\u001b[0m",
      "\u001b[1;32m~\\miniconda3\\envs\\proyectofinal\\lib\\site-packages\\pandas\\io\\json\\_normalize.py\u001b[0m in \u001b[0;36m_json_normalize\u001b[1;34m(data, record_path, meta, meta_prefix, record_prefix, errors, sep, max_level)\u001b[0m\n\u001b[0;32m    502\u001b[0m                 \u001b[0mrecords\u001b[0m\u001b[1;33m.\u001b[0m\u001b[0mextend\u001b[0m\u001b[1;33m(\u001b[0m\u001b[0mrecs\u001b[0m\u001b[1;33m)\u001b[0m\u001b[1;33m\u001b[0m\u001b[1;33m\u001b[0m\u001b[0m\n\u001b[0;32m    503\u001b[0m \u001b[1;33m\u001b[0m\u001b[0m\n\u001b[1;32m--> 504\u001b[1;33m     \u001b[0m_recursive_extract\u001b[0m\u001b[1;33m(\u001b[0m\u001b[0mdata\u001b[0m\u001b[1;33m,\u001b[0m \u001b[0mrecord_path\u001b[0m\u001b[1;33m,\u001b[0m \u001b[1;33m{\u001b[0m\u001b[1;33m}\u001b[0m\u001b[1;33m,\u001b[0m \u001b[0mlevel\u001b[0m\u001b[1;33m=\u001b[0m\u001b[1;36m0\u001b[0m\u001b[1;33m)\u001b[0m\u001b[1;33m\u001b[0m\u001b[1;33m\u001b[0m\u001b[0m\n\u001b[0m\u001b[0;32m    505\u001b[0m \u001b[1;33m\u001b[0m\u001b[0m\n\u001b[0;32m    506\u001b[0m     \u001b[0mresult\u001b[0m \u001b[1;33m=\u001b[0m \u001b[0mDataFrame\u001b[0m\u001b[1;33m(\u001b[0m\u001b[0mrecords\u001b[0m\u001b[1;33m)\u001b[0m\u001b[1;33m\u001b[0m\u001b[1;33m\u001b[0m\u001b[0m\n",
      "\u001b[1;32m~\\miniconda3\\envs\\proyectofinal\\lib\\site-packages\\pandas\\io\\json\\_normalize.py\u001b[0m in \u001b[0;36m_recursive_extract\u001b[1;34m(data, path, seen_meta, level)\u001b[0m\n\u001b[0;32m    475\u001b[0m         \u001b[1;32melse\u001b[0m\u001b[1;33m:\u001b[0m\u001b[1;33m\u001b[0m\u001b[1;33m\u001b[0m\u001b[0m\n\u001b[0;32m    476\u001b[0m             \u001b[1;32mfor\u001b[0m \u001b[0mobj\u001b[0m \u001b[1;32min\u001b[0m \u001b[0mdata\u001b[0m\u001b[1;33m:\u001b[0m\u001b[1;33m\u001b[0m\u001b[1;33m\u001b[0m\u001b[0m\n\u001b[1;32m--> 477\u001b[1;33m                 \u001b[0mrecs\u001b[0m \u001b[1;33m=\u001b[0m \u001b[0m_pull_records\u001b[0m\u001b[1;33m(\u001b[0m\u001b[0mobj\u001b[0m\u001b[1;33m,\u001b[0m \u001b[0mpath\u001b[0m\u001b[1;33m[\u001b[0m\u001b[1;36m0\u001b[0m\u001b[1;33m]\u001b[0m\u001b[1;33m)\u001b[0m\u001b[1;33m\u001b[0m\u001b[1;33m\u001b[0m\u001b[0m\n\u001b[0m\u001b[0;32m    478\u001b[0m                 recs = [\n\u001b[0;32m    479\u001b[0m                     \u001b[0mnested_to_record\u001b[0m\u001b[1;33m(\u001b[0m\u001b[0mr\u001b[0m\u001b[1;33m,\u001b[0m \u001b[0msep\u001b[0m\u001b[1;33m=\u001b[0m\u001b[0msep\u001b[0m\u001b[1;33m,\u001b[0m \u001b[0mmax_level\u001b[0m\u001b[1;33m=\u001b[0m\u001b[0mmax_level\u001b[0m\u001b[1;33m)\u001b[0m\u001b[1;33m\u001b[0m\u001b[1;33m\u001b[0m\u001b[0m\n",
      "\u001b[1;32m~\\miniconda3\\envs\\proyectofinal\\lib\\site-packages\\pandas\\io\\json\\_normalize.py\u001b[0m in \u001b[0;36m_pull_records\u001b[1;34m(js, spec)\u001b[0m\n\u001b[0;32m    406\u001b[0m             \u001b[1;32melse\u001b[0m\u001b[1;33m:\u001b[0m\u001b[1;33m\u001b[0m\u001b[1;33m\u001b[0m\u001b[0m\n\u001b[0;32m    407\u001b[0m                 raise TypeError(\n\u001b[1;32m--> 408\u001b[1;33m                     \u001b[1;34mf\"{js} has non list value {result} for path {spec}. \"\u001b[0m\u001b[1;33m\u001b[0m\u001b[1;33m\u001b[0m\u001b[0m\n\u001b[0m\u001b[0;32m    409\u001b[0m                     \u001b[1;34m\"Must be list or null.\"\u001b[0m\u001b[1;33m\u001b[0m\u001b[1;33m\u001b[0m\u001b[0m\n\u001b[0;32m    410\u001b[0m                 )\n",
      "\u001b[1;31mTypeError\u001b[0m: {'success': True, 'timeseries': True, 'start_date': '2022-02-04', 'end_date': '2022-04-15', 'base': 'USD', 'rates': {'2022-02-04': {'USD': 1, 'TUNGSTEN': 99.726985255814}, '2022-02-05': {'USD': 1, 'TUNGSTEN': 99.692093023256}, '2022-02-06': {'USD': 1, 'TUNGSTEN': 99.692093023256}, '2022-02-07': {'USD': 1, 'TUNGSTEN': 99.725988334884}, '2022-02-08': {'USD': 1, 'TUNGSTEN': 99.771846697674}, '2022-02-09': {'USD': 1, 'TUNGSTEN': 99.745926753488}, '2022-02-10': {'USD': 1, 'TUNGSTEN': 98.811793465438}, '2022-02-11': {'USD': 1, 'TUNGSTEN': 98.816732129032}, '2022-02-12': {'USD': 1, 'TUNGSTEN': 98.773271889401}, '2022-02-13': {'USD': 1, 'TUNGSTEN': 98.773271889401}, '2022-02-14': {'USD': 1, 'TUNGSTEN': 98.840437714286}, '2022-02-15': {'USD': 1, 'TUNGSTEN': 98.788087880184}, '2022-02-16': {'USD': 1, 'TUNGSTEN': 98.851302774194}, '2022-02-17': {'USD': 1, 'TUNGSTEN': 97.333447479576}, '2022-02-18': {'USD': 1, 'TUNGSTEN': 97.322746792738}, '2022-02-19': {'USD': 1, 'TUNGSTEN': 97.278971255673}, '2022-02-20': {'USD': 1, 'TUNGSTEN': 97.278971255673}, '2022-02-21': {'USD': 1, 'TUNGSTEN': 97.342202586989}, '2022-02-22': {'USD': 1, 'TUNGSTEN': 97.309127736762}, '2022-02-23': {'USD': 1, 'TUNGSTEN': 97.372359068079}, '2022-02-24': {'USD': 1, 'TUNGSTEN': 96.785693729323}, '2022-02-25': {'USD': 1, 'TUNGSTEN': 96.779892099248}, '2022-02-26': {'USD': 1, 'TUNGSTEN': 96.693834586466}, '2022-02-27': {'USD': 1, 'TUNGSTEN': 96.693834586466}, '2022-02-28': {'USD': 1, 'TUNGSTEN': 96.726710490226}, '2022-03-01': {'USD': 1, 'TUNGSTEN': 96.740247627068}, '2022-03-02': {'USD': 1, 'TUNGSTEN': 96.707371723308}, '2022-03-03': {'USD': 1, 'TUNGSTEN': 96.731545181955}, '2022-03-04': {'USD': 1, 'TUNGSTEN': 96.730578243609}, '2022-03-05': {'USD': 1, 'TUNGSTEN': 96.693834586466}, '2022-03-06': {'USD': 1, 'TUNGSTEN': 96.693834586466}, '2022-03-07': {'USD': 1, 'TUNGSTEN': 96.73734681203}, '2022-03-08': {'USD': 1, 'TUNGSTEN': 96.786660667669}, '2022-03-09': {'USD': 1, 'TUNGSTEN': 96.759586393985}, '2022-03-10': {'USD': 1, 'TUNGSTEN': 96.760553332331}, '2022-03-11': {'USD': 1, 'TUNGSTEN': 96.785693729323}, '2022-03-12': {'USD': 1, 'TUNGSTEN': 95.261333333333}, '2022-03-13': {'USD': 1, 'TUNGSTEN': 95.261333333333}, '2022-03-14': {'USD': 1, 'TUNGSTEN': 95.29181696}, '2022-03-15': {'USD': 1, 'TUNGSTEN': 95.289911733333}, '2022-03-16': {'USD': 1, 'TUNGSTEN': 95.305153546667}, '2022-03-17': {'USD': 1, 'TUNGSTEN': 95.352784213333}, '2022-03-18': {'USD': 1, 'TUNGSTEN': 95.2803856}, '2022-03-19': {'USD': 1, 'TUNGSTEN': 95.261333333333}, '2022-03-20': {'USD': 1, 'TUNGSTEN': 95.261333333333}, '2022-03-21': {'USD': 1, 'TUNGSTEN': 95.308011386667}, '2022-03-22': {'USD': 1, 'TUNGSTEN': 95.3375424}, '2022-03-23': {'USD': 1, 'TUNGSTEN': 95.3232532}, '2022-03-24': {'USD': 1, 'TUNGSTEN': 94.464516343612}, '2022-03-25': {'USD': 1, 'TUNGSTEN': 94.44657615859}, '2022-03-26': {'USD': 1, 'TUNGSTEN': 94.422026431718}, '2022-03-27': {'USD': 1, 'TUNGSTEN': 94.422026431718}, '2022-03-28': {'USD': 1, 'TUNGSTEN': 94.436189735683}, '2022-03-29': {'USD': 1, 'TUNGSTEN': 94.452241480176}, '2022-03-30': {'USD': 1, 'TUNGSTEN': 94.502285154185}, '2022-03-31': {'USD': 1, 'TUNGSTEN': 93.885676239416}, '2022-04-01': {'USD': 1, 'TUNGSTEN': 93.919469675912}, '2022-04-02': {'USD': 1, 'TUNGSTEN': 93.870656934307}, '2022-04-03': {'USD': 1, 'TUNGSTEN': 93.870656934307}, '2022-04-04': {'USD': 1, 'TUNGSTEN': 93.914776143066}, '2022-04-05': {'USD': 1, 'TUNGSTEN': 93.957017938686}, '2022-04-06': {'USD': 1, 'TUNGSTEN': 93.898818131387}, '2022-04-07': {'USD': 1, 'TUNGSTEN': 93.938243807299}, '2022-04-08': {'USD': 1, 'TUNGSTEN': 93.885676239416}, '2022-04-09': {'USD': 1, 'TUNGSTEN': 93.325689404935}, '2022-04-10': {'USD': 1, 'TUNGSTEN': 93.325689404935}, '2022-04-11': {'USD': 1, 'TUNGSTEN': 93.397550185776}, '2022-04-12': {'USD': 1, 'TUNGSTEN': 93.3938171582}, '2022-04-13': {'USD': 1, 'TUNGSTEN': 93.376085277213}, '2022-04-14': {'USD': 1, 'TUNGSTEN': 93.405016240929}, '2022-04-15': {'USD': 1, 'TUNGSTEN': 93.402216470247}}} has non list value {'2022-02-04': {'USD': 1, 'TUNGSTEN': 99.726985255814}, '2022-02-05': {'USD': 1, 'TUNGSTEN': 99.692093023256}, '2022-02-06': {'USD': 1, 'TUNGSTEN': 99.692093023256}, '2022-02-07': {'USD': 1, 'TUNGSTEN': 99.725988334884}, '2022-02-08': {'USD': 1, 'TUNGSTEN': 99.771846697674}, '2022-02-09': {'USD': 1, 'TUNGSTEN': 99.745926753488}, '2022-02-10': {'USD': 1, 'TUNGSTEN': 98.811793465438}, '2022-02-11': {'USD': 1, 'TUNGSTEN': 98.816732129032}, '2022-02-12': {'USD': 1, 'TUNGSTEN': 98.773271889401}, '2022-02-13': {'USD': 1, 'TUNGSTEN': 98.773271889401}, '2022-02-14': {'USD': 1, 'TUNGSTEN': 98.840437714286}, '2022-02-15': {'USD': 1, 'TUNGSTEN': 98.788087880184}, '2022-02-16': {'USD': 1, 'TUNGSTEN': 98.851302774194}, '2022-02-17': {'USD': 1, 'TUNGSTEN': 97.333447479576}, '2022-02-18': {'USD': 1, 'TUNGSTEN': 97.322746792738}, '2022-02-19': {'USD': 1, 'TUNGSTEN': 97.278971255673}, '2022-02-20': {'USD': 1, 'TUNGSTEN': 97.278971255673}, '2022-02-21': {'USD': 1, 'TUNGSTEN': 97.342202586989}, '2022-02-22': {'USD': 1, 'TUNGSTEN': 97.309127736762}, '2022-02-23': {'USD': 1, 'TUNGSTEN': 97.372359068079}, '2022-02-24': {'USD': 1, 'TUNGSTEN': 96.785693729323}, '2022-02-25': {'USD': 1, 'TUNGSTEN': 96.779892099248}, '2022-02-26': {'USD': 1, 'TUNGSTEN': 96.693834586466}, '2022-02-27': {'USD': 1, 'TUNGSTEN': 96.693834586466}, '2022-02-28': {'USD': 1, 'TUNGSTEN': 96.726710490226}, '2022-03-01': {'USD': 1, 'TUNGSTEN': 96.740247627068}, '2022-03-02': {'USD': 1, 'TUNGSTEN': 96.707371723308}, '2022-03-03': {'USD': 1, 'TUNGSTEN': 96.731545181955}, '2022-03-04': {'USD': 1, 'TUNGSTEN': 96.730578243609}, '2022-03-05': {'USD': 1, 'TUNGSTEN': 96.693834586466}, '2022-03-06': {'USD': 1, 'TUNGSTEN': 96.693834586466}, '2022-03-07': {'USD': 1, 'TUNGSTEN': 96.73734681203}, '2022-03-08': {'USD': 1, 'TUNGSTEN': 96.786660667669}, '2022-03-09': {'USD': 1, 'TUNGSTEN': 96.759586393985}, '2022-03-10': {'USD': 1, 'TUNGSTEN': 96.760553332331}, '2022-03-11': {'USD': 1, 'TUNGSTEN': 96.785693729323}, '2022-03-12': {'USD': 1, 'TUNGSTEN': 95.261333333333}, '2022-03-13': {'USD': 1, 'TUNGSTEN': 95.261333333333}, '2022-03-14': {'USD': 1, 'TUNGSTEN': 95.29181696}, '2022-03-15': {'USD': 1, 'TUNGSTEN': 95.289911733333}, '2022-03-16': {'USD': 1, 'TUNGSTEN': 95.305153546667}, '2022-03-17': {'USD': 1, 'TUNGSTEN': 95.352784213333}, '2022-03-18': {'USD': 1, 'TUNGSTEN': 95.2803856}, '2022-03-19': {'USD': 1, 'TUNGSTEN': 95.261333333333}, '2022-03-20': {'USD': 1, 'TUNGSTEN': 95.261333333333}, '2022-03-21': {'USD': 1, 'TUNGSTEN': 95.308011386667}, '2022-03-22': {'USD': 1, 'TUNGSTEN': 95.3375424}, '2022-03-23': {'USD': 1, 'TUNGSTEN': 95.3232532}, '2022-03-24': {'USD': 1, 'TUNGSTEN': 94.464516343612}, '2022-03-25': {'USD': 1, 'TUNGSTEN': 94.44657615859}, '2022-03-26': {'USD': 1, 'TUNGSTEN': 94.422026431718}, '2022-03-27': {'USD': 1, 'TUNGSTEN': 94.422026431718}, '2022-03-28': {'USD': 1, 'TUNGSTEN': 94.436189735683}, '2022-03-29': {'USD': 1, 'TUNGSTEN': 94.452241480176}, '2022-03-30': {'USD': 1, 'TUNGSTEN': 94.502285154185}, '2022-03-31': {'USD': 1, 'TUNGSTEN': 93.885676239416}, '2022-04-01': {'USD': 1, 'TUNGSTEN': 93.919469675912}, '2022-04-02': {'USD': 1, 'TUNGSTEN': 93.870656934307}, '2022-04-03': {'USD': 1, 'TUNGSTEN': 93.870656934307}, '2022-04-04': {'USD': 1, 'TUNGSTEN': 93.914776143066}, '2022-04-05': {'USD': 1, 'TUNGSTEN': 93.957017938686}, '2022-04-06': {'USD': 1, 'TUNGSTEN': 93.898818131387}, '2022-04-07': {'USD': 1, 'TUNGSTEN': 93.938243807299}, '2022-04-08': {'USD': 1, 'TUNGSTEN': 93.885676239416}, '2022-04-09': {'USD': 1, 'TUNGSTEN': 93.325689404935}, '2022-04-10': {'USD': 1, 'TUNGSTEN': 93.325689404935}, '2022-04-11': {'USD': 1, 'TUNGSTEN': 93.397550185776}, '2022-04-12': {'USD': 1, 'TUNGSTEN': 93.3938171582}, '2022-04-13': {'USD': 1, 'TUNGSTEN': 93.376085277213}, '2022-04-14': {'USD': 1, 'TUNGSTEN': 93.405016240929}, '2022-04-15': {'USD': 1, 'TUNGSTEN': 93.402216470247}} for path rates. Must be list or null."
     ]
    }
   ],
   "source": [
    "pd.json_normalize(\n",
    "    resp4, 'rates', ['USD','TUNGSTEN'])"
   ]
  },
  {
   "cell_type": "code",
   "execution_count": 34,
   "id": "a5133097",
   "metadata": {},
   "outputs": [
    {
     "ename": "SyntaxError",
     "evalue": "unexpected EOF while parsing (551497401.py, line 23)",
     "output_type": "error",
     "traceback": [
      "\u001b[1;36m  File \u001b[1;32m\"C:\\Users\\Diego Merello\\AppData\\Local\\Temp\\ipykernel_4736\\551497401.py\"\u001b[1;36m, line \u001b[1;32m23\u001b[0m\n\u001b[1;33m    data, \"counties\", [\"state\", \"shortname\", [\"info\", \"governor\"]]\u001b[0m\n\u001b[1;37m                                                                  ^\u001b[0m\n\u001b[1;31mSyntaxError\u001b[0m\u001b[1;31m:\u001b[0m unexpected EOF while parsing\n"
     ]
    }
   ],
   "source": [
    "data = [\n",
    "    {\n",
    "        \"state\": \"Florida\",\n",
    "        \"shortname\": \"FL\",\n",
    "        \"info\": {\"governor\": \"Rick Scott\"},\n",
    "        \"counties\": [\n",
    "            {\"name\": \"Dade\", \"population\": 12345},\n",
    "            {\"name\": \"Broward\", \"population\": 40000},\n",
    "            {\"name\": \"Palm Beach\", \"population\": 60000},\n",
    "        ],\n",
    "    },\n",
    "    {\n",
    "        \"state\": \"Ohio\",\n",
    "        \"shortname\": \"OH\",\n",
    "        \"info\": {\"governor\": \"John Kasich\"},\n",
    "        \"counties\": [\n",
    "            {\"name\": \"Summit\", \"population\": 1234},\n",
    "            {\"name\": \"Cuyahoga\", \"population\": 1337},\n",
    "        ],\n",
    "    },\n",
    "]\n",
    "result = pd.json_normalize(\n",
    "    data, \"counties\", [\"state\", \"shortname\", [\"info\", \"governor\"]]"
   ]
  },
  {
   "cell_type": "code",
   "execution_count": null,
   "id": "a2c20456",
   "metadata": {},
   "outputs": [],
   "source": []
  }
 ],
 "metadata": {
  "kernelspec": {
   "display_name": "Python [conda env:proyectofinal]",
   "language": "python",
   "name": "conda-env-proyectofinal-py"
  },
  "language_info": {
   "codemirror_mode": {
    "name": "ipython",
    "version": 3
   },
   "file_extension": ".py",
   "mimetype": "text/x-python",
   "name": "python",
   "nbconvert_exporter": "python",
   "pygments_lexer": "ipython3",
   "version": "3.7.13"
  }
 },
 "nbformat": 4,
 "nbformat_minor": 5
}
