{
 "cells": [
  {
   "cell_type": "code",
   "execution_count": 15,
   "id": "302a5947",
   "metadata": {},
   "outputs": [],
   "source": [
    "import requests\n",
    "import pandas as pd"
   ]
  },
  {
   "cell_type": "code",
   "execution_count": 3,
   "id": "de53ff6c",
   "metadata": {},
   "outputs": [],
   "source": [
    "#base_currency= 'USD'\n",
    "#symbol = 'ALU, TUNGSTEN, TIN, IRON' \n",
    "#endpoint = 'latest'\n",
    "#access_key = 'kw1gi2e747957w1xqebd3ok2hh7sgfljbt9q9f1y3hs37jxb2f9dcgh12xu4'"
   ]
  },
  {
   "cell_type": "code",
   "execution_count": 17,
   "id": "49d26a41",
   "metadata": {},
   "outputs": [],
   "source": [
    "resp = #requests.get('https://www.metals-api.com/api/latest?access_key=kw1gi2e747957w1xqebd3ok2hh7sgfljbt9q9f1y3hs37jxb2f9dcgh12xu4&base=USD&symbols=TUNGSTEN')"
   ]
  },
  {
   "cell_type": "code",
   "execution_count": 18,
   "id": "9db87401",
   "metadata": {},
   "outputs": [],
   "source": [
    "#if resp.status_code != 200:\n",
    "    #raise ApiError('GET /'+endpoint+'/ {}'.format(resp.status_code))"
   ]
  },
  {
   "cell_type": "code",
   "execution_count": 19,
   "id": "2b94ebf5",
   "metadata": {},
   "outputs": [
    {
     "name": "stdout",
     "output_type": "stream",
     "text": [
      "{'success': True, 'timestamp': 1649782320, 'date': '2022-04-12', 'base': 'USD', 'rates': {'TUNGSTEN': 93.38448458926, 'USD': 1}}\n"
     ]
    }
   ],
   "source": [
    " #print(resp.json())"
   ]
  },
  {
   "cell_type": "code",
   "execution_count": 15,
   "id": "11aec19c",
   "metadata": {},
   "outputs": [],
   "source": [
    "req1= requests.get('https://api.metals.live/v1/spot/commodities').json()\n",
    "if resp.status_code != 200:\n",
    "    raise ApiError('GET /'+endpoint+'/ {}'.format(resp.status_code))"
   ]
  },
  {
   "cell_type": "code",
   "execution_count": 16,
   "id": "04646182",
   "metadata": {},
   "outputs": [
    {
     "name": "stdout",
     "output_type": "stream",
     "text": [
      "[{'iridium': '6100.00'}, {'rhodium': '19100.00'}, {'ruthenium': '750.00'}, {'lead': '1.0843'}, {'aluminum': '1.47'}, {'copper': '4.6240'}, {'nickel': '77.960'}, {'tin': '19.65'}, {'zinc': '24.866'}, {'cobalt': '36.99'}, {'bronze': '1.77'}, {'brass': '2.11'}, {'timestamp': 1649781997664}]\n"
     ]
    }
   ],
   "source": [
    "print(req1)"
   ]
  },
  {
   "cell_type": "code",
   "execution_count": 27,
   "id": "c07a3050",
   "metadata": {},
   "outputs": [],
   "source": [
    "resp3= requests.get(\n",
    "        'https://www.metals-api.com/api/'+endpoint+'?access_key='+access_key+'&base='+base_currency+'&symbols='+symbol)"
   ]
  },
  {
   "cell_type": "code",
   "execution_count": 29,
   "id": "d4b4e7ea",
   "metadata": {},
   "outputs": [],
   "source": [
    "if resp3.status_code != 200:\n",
    "    raise ApiError('GET /'+endpoint+'/ {}'.format(resp.status_code))"
   ]
  },
  {
   "cell_type": "code",
   "execution_count": 30,
   "id": "8dbdfd18",
   "metadata": {},
   "outputs": [
    {
     "name": "stdout",
     "output_type": "stream",
     "text": [
      "{'success': True, 'timestamp': 1649788080, 'date': '2022-04-12', 'base': 'USD', 'rates': {'USD': 1, 'XCU': 3.4021553831438}, 'unit': 'per ounce'}\n"
     ]
    }
   ],
   "source": [
    " print(resp3.json())"
   ]
  },
  {
   "cell_type": "code",
   "execution_count": 11,
   "id": "67e52823",
   "metadata": {},
   "outputs": [
    {
     "ename": "JSONDecodeError",
     "evalue": "Expecting value: line 1 column 1 (char 0)",
     "output_type": "error",
     "traceback": [
      "\u001b[1;31m---------------------------------------------------------------------------\u001b[0m",
      "\u001b[1;31mJSONDecodeError\u001b[0m                           Traceback (most recent call last)",
      "\u001b[1;32m~\\AppData\\Local\\Temp\\ipykernel_11612\\720803679.py\u001b[0m in \u001b[0;36m<module>\u001b[1;34m\u001b[0m\n\u001b[0;32m     10\u001b[0m \u001b[0mtime_call\u001b[0m \u001b[1;33m=\u001b[0m \u001b[1;34m'https://www.metals-api.com/api/'\u001b[0m\u001b[1;33m+\u001b[0m\u001b[0mendpoint\u001b[0m\u001b[1;33m+\u001b[0m\u001b[1;34m'?access_key='\u001b[0m\u001b[1;33m+\u001b[0m\u001b[0maccess_key\u001b[0m\u001b[1;33m+\u001b[0m \u001b[1;34m'&start_date='\u001b[0m \u001b[1;33m+\u001b[0m \u001b[0mstart_date\u001b[0m \u001b[1;33m+\u001b[0m\u001b[1;34m'& end_date='\u001b[0m\u001b[1;33m+\u001b[0m\u001b[0mend_date\u001b[0m\u001b[1;33m+\u001b[0m\u001b[1;34m'&base='\u001b[0m\u001b[1;33m+\u001b[0m\u001b[0mbase_currency\u001b[0m\u001b[1;33m+\u001b[0m\u001b[1;34m'&symbols='\u001b[0m\u001b[1;33m+\u001b[0m\u001b[0msymbol\u001b[0m\u001b[1;33m\u001b[0m\u001b[1;33m\u001b[0m\u001b[0m\n\u001b[0;32m     11\u001b[0m \u001b[1;33m\u001b[0m\u001b[0m\n\u001b[1;32m---> 12\u001b[1;33m \u001b[0mresp4\u001b[0m\u001b[1;33m=\u001b[0m\u001b[0mrequests\u001b[0m\u001b[1;33m.\u001b[0m\u001b[0mget\u001b[0m\u001b[1;33m(\u001b[0m\u001b[0mtime_call\u001b[0m\u001b[1;33m)\u001b[0m\u001b[1;33m.\u001b[0m\u001b[0mjson\u001b[0m\u001b[1;33m(\u001b[0m\u001b[1;33m)\u001b[0m\u001b[1;33m\u001b[0m\u001b[1;33m\u001b[0m\u001b[0m\n\u001b[0m",
      "\u001b[1;32m~\\miniconda3\\envs\\proyectofinal\\lib\\site-packages\\requests\\models.py\u001b[0m in \u001b[0;36mjson\u001b[1;34m(self, **kwargs)\u001b[0m\n\u001b[0;32m    896\u001b[0m                     \u001b[1;31m# used.\u001b[0m\u001b[1;33m\u001b[0m\u001b[1;33m\u001b[0m\u001b[1;33m\u001b[0m\u001b[0m\n\u001b[0;32m    897\u001b[0m                     \u001b[1;32mpass\u001b[0m\u001b[1;33m\u001b[0m\u001b[1;33m\u001b[0m\u001b[0m\n\u001b[1;32m--> 898\u001b[1;33m         \u001b[1;32mreturn\u001b[0m \u001b[0mcomplexjson\u001b[0m\u001b[1;33m.\u001b[0m\u001b[0mloads\u001b[0m\u001b[1;33m(\u001b[0m\u001b[0mself\u001b[0m\u001b[1;33m.\u001b[0m\u001b[0mtext\u001b[0m\u001b[1;33m,\u001b[0m \u001b[1;33m**\u001b[0m\u001b[0mkwargs\u001b[0m\u001b[1;33m)\u001b[0m\u001b[1;33m\u001b[0m\u001b[1;33m\u001b[0m\u001b[0m\n\u001b[0m\u001b[0;32m    899\u001b[0m \u001b[1;33m\u001b[0m\u001b[0m\n\u001b[0;32m    900\u001b[0m     \u001b[1;33m@\u001b[0m\u001b[0mproperty\u001b[0m\u001b[1;33m\u001b[0m\u001b[1;33m\u001b[0m\u001b[0m\n",
      "\u001b[1;32m~\\miniconda3\\envs\\proyectofinal\\lib\\json\\__init__.py\u001b[0m in \u001b[0;36mloads\u001b[1;34m(s, encoding, cls, object_hook, parse_float, parse_int, parse_constant, object_pairs_hook, **kw)\u001b[0m\n\u001b[0;32m    346\u001b[0m             \u001b[0mparse_int\u001b[0m \u001b[1;32mis\u001b[0m \u001b[1;32mNone\u001b[0m \u001b[1;32mand\u001b[0m \u001b[0mparse_float\u001b[0m \u001b[1;32mis\u001b[0m \u001b[1;32mNone\u001b[0m \u001b[1;32mand\u001b[0m\u001b[1;33m\u001b[0m\u001b[1;33m\u001b[0m\u001b[0m\n\u001b[0;32m    347\u001b[0m             parse_constant is None and object_pairs_hook is None and not kw):\n\u001b[1;32m--> 348\u001b[1;33m         \u001b[1;32mreturn\u001b[0m \u001b[0m_default_decoder\u001b[0m\u001b[1;33m.\u001b[0m\u001b[0mdecode\u001b[0m\u001b[1;33m(\u001b[0m\u001b[0ms\u001b[0m\u001b[1;33m)\u001b[0m\u001b[1;33m\u001b[0m\u001b[1;33m\u001b[0m\u001b[0m\n\u001b[0m\u001b[0;32m    349\u001b[0m     \u001b[1;32mif\u001b[0m \u001b[0mcls\u001b[0m \u001b[1;32mis\u001b[0m \u001b[1;32mNone\u001b[0m\u001b[1;33m:\u001b[0m\u001b[1;33m\u001b[0m\u001b[1;33m\u001b[0m\u001b[0m\n\u001b[0;32m    350\u001b[0m         \u001b[0mcls\u001b[0m \u001b[1;33m=\u001b[0m \u001b[0mJSONDecoder\u001b[0m\u001b[1;33m\u001b[0m\u001b[1;33m\u001b[0m\u001b[0m\n",
      "\u001b[1;32m~\\miniconda3\\envs\\proyectofinal\\lib\\json\\decoder.py\u001b[0m in \u001b[0;36mdecode\u001b[1;34m(self, s, _w)\u001b[0m\n\u001b[0;32m    335\u001b[0m \u001b[1;33m\u001b[0m\u001b[0m\n\u001b[0;32m    336\u001b[0m         \"\"\"\n\u001b[1;32m--> 337\u001b[1;33m         \u001b[0mobj\u001b[0m\u001b[1;33m,\u001b[0m \u001b[0mend\u001b[0m \u001b[1;33m=\u001b[0m \u001b[0mself\u001b[0m\u001b[1;33m.\u001b[0m\u001b[0mraw_decode\u001b[0m\u001b[1;33m(\u001b[0m\u001b[0ms\u001b[0m\u001b[1;33m,\u001b[0m \u001b[0midx\u001b[0m\u001b[1;33m=\u001b[0m\u001b[0m_w\u001b[0m\u001b[1;33m(\u001b[0m\u001b[0ms\u001b[0m\u001b[1;33m,\u001b[0m \u001b[1;36m0\u001b[0m\u001b[1;33m)\u001b[0m\u001b[1;33m.\u001b[0m\u001b[0mend\u001b[0m\u001b[1;33m(\u001b[0m\u001b[1;33m)\u001b[0m\u001b[1;33m)\u001b[0m\u001b[1;33m\u001b[0m\u001b[1;33m\u001b[0m\u001b[0m\n\u001b[0m\u001b[0;32m    338\u001b[0m         \u001b[0mend\u001b[0m \u001b[1;33m=\u001b[0m \u001b[0m_w\u001b[0m\u001b[1;33m(\u001b[0m\u001b[0ms\u001b[0m\u001b[1;33m,\u001b[0m \u001b[0mend\u001b[0m\u001b[1;33m)\u001b[0m\u001b[1;33m.\u001b[0m\u001b[0mend\u001b[0m\u001b[1;33m(\u001b[0m\u001b[1;33m)\u001b[0m\u001b[1;33m\u001b[0m\u001b[1;33m\u001b[0m\u001b[0m\n\u001b[0;32m    339\u001b[0m         \u001b[1;32mif\u001b[0m \u001b[0mend\u001b[0m \u001b[1;33m!=\u001b[0m \u001b[0mlen\u001b[0m\u001b[1;33m(\u001b[0m\u001b[0ms\u001b[0m\u001b[1;33m)\u001b[0m\u001b[1;33m:\u001b[0m\u001b[1;33m\u001b[0m\u001b[1;33m\u001b[0m\u001b[0m\n",
      "\u001b[1;32m~\\miniconda3\\envs\\proyectofinal\\lib\\json\\decoder.py\u001b[0m in \u001b[0;36mraw_decode\u001b[1;34m(self, s, idx)\u001b[0m\n\u001b[0;32m    353\u001b[0m             \u001b[0mobj\u001b[0m\u001b[1;33m,\u001b[0m \u001b[0mend\u001b[0m \u001b[1;33m=\u001b[0m \u001b[0mself\u001b[0m\u001b[1;33m.\u001b[0m\u001b[0mscan_once\u001b[0m\u001b[1;33m(\u001b[0m\u001b[0ms\u001b[0m\u001b[1;33m,\u001b[0m \u001b[0midx\u001b[0m\u001b[1;33m)\u001b[0m\u001b[1;33m\u001b[0m\u001b[1;33m\u001b[0m\u001b[0m\n\u001b[0;32m    354\u001b[0m         \u001b[1;32mexcept\u001b[0m \u001b[0mStopIteration\u001b[0m \u001b[1;32mas\u001b[0m \u001b[0merr\u001b[0m\u001b[1;33m:\u001b[0m\u001b[1;33m\u001b[0m\u001b[1;33m\u001b[0m\u001b[0m\n\u001b[1;32m--> 355\u001b[1;33m             \u001b[1;32mraise\u001b[0m \u001b[0mJSONDecodeError\u001b[0m\u001b[1;33m(\u001b[0m\u001b[1;34m\"Expecting value\"\u001b[0m\u001b[1;33m,\u001b[0m \u001b[0ms\u001b[0m\u001b[1;33m,\u001b[0m \u001b[0merr\u001b[0m\u001b[1;33m.\u001b[0m\u001b[0mvalue\u001b[0m\u001b[1;33m)\u001b[0m \u001b[1;32mfrom\u001b[0m \u001b[1;32mNone\u001b[0m\u001b[1;33m\u001b[0m\u001b[1;33m\u001b[0m\u001b[0m\n\u001b[0m\u001b[0;32m    356\u001b[0m         \u001b[1;32mreturn\u001b[0m \u001b[0mobj\u001b[0m\u001b[1;33m,\u001b[0m \u001b[0mend\u001b[0m\u001b[1;33m\u001b[0m\u001b[1;33m\u001b[0m\u001b[0m\n",
      "\u001b[1;31mJSONDecodeError\u001b[0m: Expecting value: line 1 column 1 (char 0)"
     ]
    }
   ],
   "source": [
    "base_currency = 'USD'\n",
    "symbol = 'TUNGSTEN'  \n",
    "#endpoint = 'latest'\n",
    "access_key = 'kw1gi2e747957w1xqebd3ok2hh7sgfljbt9q9f1y3hs37jxb2f9dcgh12xu4'\n",
    "\n",
    "\n",
    "endpoint = 'timeseries'\n",
    "start_date = '2022-02-04'\n",
    "end_date = '2022-04-21'\n",
    "time_call = 'https://www.metals-api.com/api/'+endpoint+'?access_key='+access_key+ '&start_date=' + start_date +'& end_date='+end_date+'&base='+base_currency+'&symbols='+symbol\n",
    "\n",
    "resp4=requests.get(time_call).json()"
   ]
  },
  {
   "cell_type": "code",
   "execution_count": 10,
   "id": "60d03baa",
   "metadata": {},
   "outputs": [
    {
     "data": {
      "text/plain": [
       "{'success': True,\n",
       " 'timeseries': True,\n",
       " 'start_date': '2022-02-04',\n",
       " 'end_date': '2022-04-15',\n",
       " 'base': 'USD',\n",
       " 'rates': {'2022-02-04': {'USD': 1, 'TUNGSTEN': 99.726985255814},\n",
       "  '2022-02-05': {'USD': 1, 'TUNGSTEN': 99.692093023256},\n",
       "  '2022-02-06': {'USD': 1, 'TUNGSTEN': 99.692093023256},\n",
       "  '2022-02-07': {'USD': 1, 'TUNGSTEN': 99.725988334884},\n",
       "  '2022-02-08': {'USD': 1, 'TUNGSTEN': 99.771846697674},\n",
       "  '2022-02-09': {'USD': 1, 'TUNGSTEN': 99.745926753488},\n",
       "  '2022-02-10': {'USD': 1, 'TUNGSTEN': 98.811793465438},\n",
       "  '2022-02-11': {'USD': 1, 'TUNGSTEN': 98.816732129032},\n",
       "  '2022-02-12': {'USD': 1, 'TUNGSTEN': 98.773271889401},\n",
       "  '2022-02-13': {'USD': 1, 'TUNGSTEN': 98.773271889401},\n",
       "  '2022-02-14': {'USD': 1, 'TUNGSTEN': 98.840437714286},\n",
       "  '2022-02-15': {'USD': 1, 'TUNGSTEN': 98.788087880184},\n",
       "  '2022-02-16': {'USD': 1, 'TUNGSTEN': 98.851302774194},\n",
       "  '2022-02-17': {'USD': 1, 'TUNGSTEN': 97.333447479576},\n",
       "  '2022-02-18': {'USD': 1, 'TUNGSTEN': 97.322746792738},\n",
       "  '2022-02-19': {'USD': 1, 'TUNGSTEN': 97.278971255673},\n",
       "  '2022-02-20': {'USD': 1, 'TUNGSTEN': 97.278971255673},\n",
       "  '2022-02-21': {'USD': 1, 'TUNGSTEN': 97.342202586989},\n",
       "  '2022-02-22': {'USD': 1, 'TUNGSTEN': 97.309127736762},\n",
       "  '2022-02-23': {'USD': 1, 'TUNGSTEN': 97.372359068079},\n",
       "  '2022-02-24': {'USD': 1, 'TUNGSTEN': 96.785693729323},\n",
       "  '2022-02-25': {'USD': 1, 'TUNGSTEN': 96.779892099248},\n",
       "  '2022-02-26': {'USD': 1, 'TUNGSTEN': 96.693834586466},\n",
       "  '2022-02-27': {'USD': 1, 'TUNGSTEN': 96.693834586466},\n",
       "  '2022-02-28': {'USD': 1, 'TUNGSTEN': 96.726710490226},\n",
       "  '2022-03-01': {'USD': 1, 'TUNGSTEN': 96.740247627068},\n",
       "  '2022-03-02': {'USD': 1, 'TUNGSTEN': 96.707371723308},\n",
       "  '2022-03-03': {'USD': 1, 'TUNGSTEN': 96.731545181955},\n",
       "  '2022-03-04': {'USD': 1, 'TUNGSTEN': 96.730578243609},\n",
       "  '2022-03-05': {'USD': 1, 'TUNGSTEN': 96.693834586466},\n",
       "  '2022-03-06': {'USD': 1, 'TUNGSTEN': 96.693834586466},\n",
       "  '2022-03-07': {'USD': 1, 'TUNGSTEN': 96.73734681203},\n",
       "  '2022-03-08': {'USD': 1, 'TUNGSTEN': 96.786660667669},\n",
       "  '2022-03-09': {'USD': 1, 'TUNGSTEN': 96.759586393985},\n",
       "  '2022-03-10': {'USD': 1, 'TUNGSTEN': 96.760553332331},\n",
       "  '2022-03-11': {'USD': 1, 'TUNGSTEN': 96.785693729323},\n",
       "  '2022-03-12': {'USD': 1, 'TUNGSTEN': 95.261333333333},\n",
       "  '2022-03-13': {'USD': 1, 'TUNGSTEN': 95.261333333333},\n",
       "  '2022-03-14': {'USD': 1, 'TUNGSTEN': 95.29181696},\n",
       "  '2022-03-15': {'USD': 1, 'TUNGSTEN': 95.289911733333},\n",
       "  '2022-03-16': {'USD': 1, 'TUNGSTEN': 95.305153546667},\n",
       "  '2022-03-17': {'USD': 1, 'TUNGSTEN': 95.352784213333},\n",
       "  '2022-03-18': {'USD': 1, 'TUNGSTEN': 95.2803856},\n",
       "  '2022-03-19': {'USD': 1, 'TUNGSTEN': 95.261333333333},\n",
       "  '2022-03-20': {'USD': 1, 'TUNGSTEN': 95.261333333333},\n",
       "  '2022-03-21': {'USD': 1, 'TUNGSTEN': 95.308011386667},\n",
       "  '2022-03-22': {'USD': 1, 'TUNGSTEN': 95.3375424},\n",
       "  '2022-03-23': {'USD': 1, 'TUNGSTEN': 95.3232532},\n",
       "  '2022-03-24': {'USD': 1, 'TUNGSTEN': 94.464516343612},\n",
       "  '2022-03-25': {'USD': 1, 'TUNGSTEN': 94.44657615859},\n",
       "  '2022-03-26': {'USD': 1, 'TUNGSTEN': 94.422026431718},\n",
       "  '2022-03-27': {'USD': 1, 'TUNGSTEN': 94.422026431718},\n",
       "  '2022-03-28': {'USD': 1, 'TUNGSTEN': 94.436189735683},\n",
       "  '2022-03-29': {'USD': 1, 'TUNGSTEN': 94.452241480176},\n",
       "  '2022-03-30': {'USD': 1, 'TUNGSTEN': 94.502285154185},\n",
       "  '2022-03-31': {'USD': 1, 'TUNGSTEN': 93.885676239416},\n",
       "  '2022-04-01': {'USD': 1, 'TUNGSTEN': 93.919469675912},\n",
       "  '2022-04-02': {'USD': 1, 'TUNGSTEN': 93.870656934307},\n",
       "  '2022-04-03': {'USD': 1, 'TUNGSTEN': 93.870656934307},\n",
       "  '2022-04-04': {'USD': 1, 'TUNGSTEN': 93.914776143066},\n",
       "  '2022-04-05': {'USD': 1, 'TUNGSTEN': 93.957017938686},\n",
       "  '2022-04-06': {'USD': 1, 'TUNGSTEN': 93.898818131387},\n",
       "  '2022-04-07': {'USD': 1, 'TUNGSTEN': 93.938243807299},\n",
       "  '2022-04-08': {'USD': 1, 'TUNGSTEN': 93.885676239416},\n",
       "  '2022-04-09': {'USD': 1, 'TUNGSTEN': 93.325689404935},\n",
       "  '2022-04-10': {'USD': 1, 'TUNGSTEN': 93.325689404935},\n",
       "  '2022-04-11': {'USD': 1, 'TUNGSTEN': 93.397550185776},\n",
       "  '2022-04-12': {'USD': 1, 'TUNGSTEN': 93.3938171582},\n",
       "  '2022-04-13': {'USD': 1, 'TUNGSTEN': 93.376085277213},\n",
       "  '2022-04-14': {'USD': 1, 'TUNGSTEN': 93.405016240929},\n",
       "  '2022-04-15': {'USD': 1, 'TUNGSTEN': 93.402216470247}}}"
      ]
     },
     "execution_count": 10,
     "metadata": {},
     "output_type": "execute_result"
    }
   ],
   "source": [
    "resp4"
   ]
  },
  {
   "cell_type": "code",
   "execution_count": 34,
   "id": "713dafd8",
   "metadata": {},
   "outputs": [],
   "source": [
    "import pandas as pd\n",
    "from pandas import json_normalize\n",
    "import json"
   ]
  },
  {
   "cell_type": "code",
   "execution_count": 48,
   "id": "265a5623",
   "metadata": {},
   "outputs": [],
   "source": [
    "info= pd.DataFrame.from_dict(resp4)"
   ]
  },
  {
   "cell_type": "code",
   "execution_count": 49,
   "id": "a40403a2",
   "metadata": {},
   "outputs": [
    {
     "data": {
      "text/html": [
       "<div>\n",
       "<style scoped>\n",
       "    .dataframe tbody tr th:only-of-type {\n",
       "        vertical-align: middle;\n",
       "    }\n",
       "\n",
       "    .dataframe tbody tr th {\n",
       "        vertical-align: top;\n",
       "    }\n",
       "\n",
       "    .dataframe thead th {\n",
       "        text-align: right;\n",
       "    }\n",
       "</style>\n",
       "<table border=\"1\" class=\"dataframe\">\n",
       "  <thead>\n",
       "    <tr style=\"text-align: right;\">\n",
       "      <th></th>\n",
       "      <th>success</th>\n",
       "      <th>timeseries</th>\n",
       "      <th>start_date</th>\n",
       "      <th>end_date</th>\n",
       "      <th>base</th>\n",
       "      <th>rates</th>\n",
       "    </tr>\n",
       "  </thead>\n",
       "  <tbody>\n",
       "    <tr>\n",
       "      <th>2022-02-04</th>\n",
       "      <td>True</td>\n",
       "      <td>True</td>\n",
       "      <td>2022-02-04</td>\n",
       "      <td>2022-04-15</td>\n",
       "      <td>USD</td>\n",
       "      <td>{'USD': 1, 'TUNGSTEN': 99.726985255814}</td>\n",
       "    </tr>\n",
       "    <tr>\n",
       "      <th>2022-02-05</th>\n",
       "      <td>True</td>\n",
       "      <td>True</td>\n",
       "      <td>2022-02-04</td>\n",
       "      <td>2022-04-15</td>\n",
       "      <td>USD</td>\n",
       "      <td>{'USD': 1, 'TUNGSTEN': 99.692093023256}</td>\n",
       "    </tr>\n",
       "    <tr>\n",
       "      <th>2022-02-06</th>\n",
       "      <td>True</td>\n",
       "      <td>True</td>\n",
       "      <td>2022-02-04</td>\n",
       "      <td>2022-04-15</td>\n",
       "      <td>USD</td>\n",
       "      <td>{'USD': 1, 'TUNGSTEN': 99.692093023256}</td>\n",
       "    </tr>\n",
       "    <tr>\n",
       "      <th>2022-02-07</th>\n",
       "      <td>True</td>\n",
       "      <td>True</td>\n",
       "      <td>2022-02-04</td>\n",
       "      <td>2022-04-15</td>\n",
       "      <td>USD</td>\n",
       "      <td>{'USD': 1, 'TUNGSTEN': 99.725988334884}</td>\n",
       "    </tr>\n",
       "    <tr>\n",
       "      <th>2022-02-08</th>\n",
       "      <td>True</td>\n",
       "      <td>True</td>\n",
       "      <td>2022-02-04</td>\n",
       "      <td>2022-04-15</td>\n",
       "      <td>USD</td>\n",
       "      <td>{'USD': 1, 'TUNGSTEN': 99.771846697674}</td>\n",
       "    </tr>\n",
       "    <tr>\n",
       "      <th>...</th>\n",
       "      <td>...</td>\n",
       "      <td>...</td>\n",
       "      <td>...</td>\n",
       "      <td>...</td>\n",
       "      <td>...</td>\n",
       "      <td>...</td>\n",
       "    </tr>\n",
       "    <tr>\n",
       "      <th>2022-04-11</th>\n",
       "      <td>True</td>\n",
       "      <td>True</td>\n",
       "      <td>2022-02-04</td>\n",
       "      <td>2022-04-15</td>\n",
       "      <td>USD</td>\n",
       "      <td>{'USD': 1, 'TUNGSTEN': 93.397550185776}</td>\n",
       "    </tr>\n",
       "    <tr>\n",
       "      <th>2022-04-12</th>\n",
       "      <td>True</td>\n",
       "      <td>True</td>\n",
       "      <td>2022-02-04</td>\n",
       "      <td>2022-04-15</td>\n",
       "      <td>USD</td>\n",
       "      <td>{'USD': 1, 'TUNGSTEN': 93.3938171582}</td>\n",
       "    </tr>\n",
       "    <tr>\n",
       "      <th>2022-04-13</th>\n",
       "      <td>True</td>\n",
       "      <td>True</td>\n",
       "      <td>2022-02-04</td>\n",
       "      <td>2022-04-15</td>\n",
       "      <td>USD</td>\n",
       "      <td>{'USD': 1, 'TUNGSTEN': 93.376085277213}</td>\n",
       "    </tr>\n",
       "    <tr>\n",
       "      <th>2022-04-14</th>\n",
       "      <td>True</td>\n",
       "      <td>True</td>\n",
       "      <td>2022-02-04</td>\n",
       "      <td>2022-04-15</td>\n",
       "      <td>USD</td>\n",
       "      <td>{'USD': 1, 'TUNGSTEN': 93.405016240929}</td>\n",
       "    </tr>\n",
       "    <tr>\n",
       "      <th>2022-04-15</th>\n",
       "      <td>True</td>\n",
       "      <td>True</td>\n",
       "      <td>2022-02-04</td>\n",
       "      <td>2022-04-15</td>\n",
       "      <td>USD</td>\n",
       "      <td>{'USD': 1, 'TUNGSTEN': 93.402216470247}</td>\n",
       "    </tr>\n",
       "  </tbody>\n",
       "</table>\n",
       "<p>71 rows × 6 columns</p>\n",
       "</div>"
      ],
      "text/plain": [
       "            success  timeseries  start_date    end_date base  \\\n",
       "2022-02-04     True        True  2022-02-04  2022-04-15  USD   \n",
       "2022-02-05     True        True  2022-02-04  2022-04-15  USD   \n",
       "2022-02-06     True        True  2022-02-04  2022-04-15  USD   \n",
       "2022-02-07     True        True  2022-02-04  2022-04-15  USD   \n",
       "2022-02-08     True        True  2022-02-04  2022-04-15  USD   \n",
       "...             ...         ...         ...         ...  ...   \n",
       "2022-04-11     True        True  2022-02-04  2022-04-15  USD   \n",
       "2022-04-12     True        True  2022-02-04  2022-04-15  USD   \n",
       "2022-04-13     True        True  2022-02-04  2022-04-15  USD   \n",
       "2022-04-14     True        True  2022-02-04  2022-04-15  USD   \n",
       "2022-04-15     True        True  2022-02-04  2022-04-15  USD   \n",
       "\n",
       "                                              rates  \n",
       "2022-02-04  {'USD': 1, 'TUNGSTEN': 99.726985255814}  \n",
       "2022-02-05  {'USD': 1, 'TUNGSTEN': 99.692093023256}  \n",
       "2022-02-06  {'USD': 1, 'TUNGSTEN': 99.692093023256}  \n",
       "2022-02-07  {'USD': 1, 'TUNGSTEN': 99.725988334884}  \n",
       "2022-02-08  {'USD': 1, 'TUNGSTEN': 99.771846697674}  \n",
       "...                                             ...  \n",
       "2022-04-11  {'USD': 1, 'TUNGSTEN': 93.397550185776}  \n",
       "2022-04-12    {'USD': 1, 'TUNGSTEN': 93.3938171582}  \n",
       "2022-04-13  {'USD': 1, 'TUNGSTEN': 93.376085277213}  \n",
       "2022-04-14  {'USD': 1, 'TUNGSTEN': 93.405016240929}  \n",
       "2022-04-15  {'USD': 1, 'TUNGSTEN': 93.402216470247}  \n",
       "\n",
       "[71 rows x 6 columns]"
      ]
     },
     "execution_count": 49,
     "metadata": {},
     "output_type": "execute_result"
    }
   ],
   "source": [
    "info"
   ]
  },
  {
   "cell_type": "code",
   "execution_count": 50,
   "id": "025d650c",
   "metadata": {},
   "outputs": [
    {
     "data": {
      "text/plain": [
       "pandas.core.frame.DataFrame"
      ]
     },
     "execution_count": 50,
     "metadata": {},
     "output_type": "execute_result"
    }
   ],
   "source": [
    "type(info)"
   ]
  },
  {
   "cell_type": "code",
   "execution_count": 51,
   "id": "b1a676eb",
   "metadata": {},
   "outputs": [
    {
     "data": {
      "text/plain": [
       "Index(['success', 'timeseries', 'start_date', 'end_date', 'base', 'rates'], dtype='object')"
      ]
     },
     "execution_count": 51,
     "metadata": {},
     "output_type": "execute_result"
    }
   ],
   "source": [
    "info.columns"
   ]
  },
  {
   "cell_type": "code",
   "execution_count": 52,
   "id": "d1c0f87a",
   "metadata": {},
   "outputs": [],
   "source": [
    "info.drop(['success','timeseries', 'start_date','end_date', 'base'], axis=1, inplace=True)"
   ]
  },
  {
   "cell_type": "code",
   "execution_count": 53,
   "id": "9748c90e",
   "metadata": {},
   "outputs": [],
   "source": [
    "info.index.name='Date'"
   ]
  },
  {
   "cell_type": "code",
   "execution_count": 54,
   "id": "43fc4473",
   "metadata": {},
   "outputs": [
    {
     "data": {
      "text/html": [
       "<div>\n",
       "<style scoped>\n",
       "    .dataframe tbody tr th:only-of-type {\n",
       "        vertical-align: middle;\n",
       "    }\n",
       "\n",
       "    .dataframe tbody tr th {\n",
       "        vertical-align: top;\n",
       "    }\n",
       "\n",
       "    .dataframe thead th {\n",
       "        text-align: right;\n",
       "    }\n",
       "</style>\n",
       "<table border=\"1\" class=\"dataframe\">\n",
       "  <thead>\n",
       "    <tr style=\"text-align: right;\">\n",
       "      <th></th>\n",
       "      <th>rates</th>\n",
       "    </tr>\n",
       "    <tr>\n",
       "      <th>Date</th>\n",
       "      <th></th>\n",
       "    </tr>\n",
       "  </thead>\n",
       "  <tbody>\n",
       "    <tr>\n",
       "      <th>2022-02-04</th>\n",
       "      <td>{'USD': 1, 'TUNGSTEN': 99.726985255814}</td>\n",
       "    </tr>\n",
       "    <tr>\n",
       "      <th>2022-02-05</th>\n",
       "      <td>{'USD': 1, 'TUNGSTEN': 99.692093023256}</td>\n",
       "    </tr>\n",
       "    <tr>\n",
       "      <th>2022-02-06</th>\n",
       "      <td>{'USD': 1, 'TUNGSTEN': 99.692093023256}</td>\n",
       "    </tr>\n",
       "    <tr>\n",
       "      <th>2022-02-07</th>\n",
       "      <td>{'USD': 1, 'TUNGSTEN': 99.725988334884}</td>\n",
       "    </tr>\n",
       "    <tr>\n",
       "      <th>2022-02-08</th>\n",
       "      <td>{'USD': 1, 'TUNGSTEN': 99.771846697674}</td>\n",
       "    </tr>\n",
       "    <tr>\n",
       "      <th>...</th>\n",
       "      <td>...</td>\n",
       "    </tr>\n",
       "    <tr>\n",
       "      <th>2022-04-11</th>\n",
       "      <td>{'USD': 1, 'TUNGSTEN': 93.397550185776}</td>\n",
       "    </tr>\n",
       "    <tr>\n",
       "      <th>2022-04-12</th>\n",
       "      <td>{'USD': 1, 'TUNGSTEN': 93.3938171582}</td>\n",
       "    </tr>\n",
       "    <tr>\n",
       "      <th>2022-04-13</th>\n",
       "      <td>{'USD': 1, 'TUNGSTEN': 93.376085277213}</td>\n",
       "    </tr>\n",
       "    <tr>\n",
       "      <th>2022-04-14</th>\n",
       "      <td>{'USD': 1, 'TUNGSTEN': 93.405016240929}</td>\n",
       "    </tr>\n",
       "    <tr>\n",
       "      <th>2022-04-15</th>\n",
       "      <td>{'USD': 1, 'TUNGSTEN': 93.402216470247}</td>\n",
       "    </tr>\n",
       "  </tbody>\n",
       "</table>\n",
       "<p>71 rows × 1 columns</p>\n",
       "</div>"
      ],
      "text/plain": [
       "                                              rates\n",
       "Date                                               \n",
       "2022-02-04  {'USD': 1, 'TUNGSTEN': 99.726985255814}\n",
       "2022-02-05  {'USD': 1, 'TUNGSTEN': 99.692093023256}\n",
       "2022-02-06  {'USD': 1, 'TUNGSTEN': 99.692093023256}\n",
       "2022-02-07  {'USD': 1, 'TUNGSTEN': 99.725988334884}\n",
       "2022-02-08  {'USD': 1, 'TUNGSTEN': 99.771846697674}\n",
       "...                                             ...\n",
       "2022-04-11  {'USD': 1, 'TUNGSTEN': 93.397550185776}\n",
       "2022-04-12    {'USD': 1, 'TUNGSTEN': 93.3938171582}\n",
       "2022-04-13  {'USD': 1, 'TUNGSTEN': 93.376085277213}\n",
       "2022-04-14  {'USD': 1, 'TUNGSTEN': 93.405016240929}\n",
       "2022-04-15  {'USD': 1, 'TUNGSTEN': 93.402216470247}\n",
       "\n",
       "[71 rows x 1 columns]"
      ]
     },
     "execution_count": 54,
     "metadata": {},
     "output_type": "execute_result"
    }
   ],
   "source": [
    "info"
   ]
  },
  {
   "cell_type": "code",
   "execution_count": 55,
   "id": "c68f1e24",
   "metadata": {},
   "outputs": [],
   "source": [
    "info=info.rates.apply(pd.Series)"
   ]
  },
  {
   "cell_type": "code",
   "execution_count": 56,
   "id": "49832a55",
   "metadata": {},
   "outputs": [
    {
     "data": {
      "text/html": [
       "<div>\n",
       "<style scoped>\n",
       "    .dataframe tbody tr th:only-of-type {\n",
       "        vertical-align: middle;\n",
       "    }\n",
       "\n",
       "    .dataframe tbody tr th {\n",
       "        vertical-align: top;\n",
       "    }\n",
       "\n",
       "    .dataframe thead th {\n",
       "        text-align: right;\n",
       "    }\n",
       "</style>\n",
       "<table border=\"1\" class=\"dataframe\">\n",
       "  <thead>\n",
       "    <tr style=\"text-align: right;\">\n",
       "      <th></th>\n",
       "      <th>USD</th>\n",
       "      <th>TUNGSTEN</th>\n",
       "    </tr>\n",
       "    <tr>\n",
       "      <th>Date</th>\n",
       "      <th></th>\n",
       "      <th></th>\n",
       "    </tr>\n",
       "  </thead>\n",
       "  <tbody>\n",
       "    <tr>\n",
       "      <th>2022-02-04</th>\n",
       "      <td>1.0</td>\n",
       "      <td>99.726985</td>\n",
       "    </tr>\n",
       "    <tr>\n",
       "      <th>2022-02-05</th>\n",
       "      <td>1.0</td>\n",
       "      <td>99.692093</td>\n",
       "    </tr>\n",
       "    <tr>\n",
       "      <th>2022-02-06</th>\n",
       "      <td>1.0</td>\n",
       "      <td>99.692093</td>\n",
       "    </tr>\n",
       "    <tr>\n",
       "      <th>2022-02-07</th>\n",
       "      <td>1.0</td>\n",
       "      <td>99.725988</td>\n",
       "    </tr>\n",
       "    <tr>\n",
       "      <th>2022-02-08</th>\n",
       "      <td>1.0</td>\n",
       "      <td>99.771847</td>\n",
       "    </tr>\n",
       "    <tr>\n",
       "      <th>...</th>\n",
       "      <td>...</td>\n",
       "      <td>...</td>\n",
       "    </tr>\n",
       "    <tr>\n",
       "      <th>2022-04-11</th>\n",
       "      <td>1.0</td>\n",
       "      <td>93.397550</td>\n",
       "    </tr>\n",
       "    <tr>\n",
       "      <th>2022-04-12</th>\n",
       "      <td>1.0</td>\n",
       "      <td>93.393817</td>\n",
       "    </tr>\n",
       "    <tr>\n",
       "      <th>2022-04-13</th>\n",
       "      <td>1.0</td>\n",
       "      <td>93.376085</td>\n",
       "    </tr>\n",
       "    <tr>\n",
       "      <th>2022-04-14</th>\n",
       "      <td>1.0</td>\n",
       "      <td>93.405016</td>\n",
       "    </tr>\n",
       "    <tr>\n",
       "      <th>2022-04-15</th>\n",
       "      <td>1.0</td>\n",
       "      <td>93.402216</td>\n",
       "    </tr>\n",
       "  </tbody>\n",
       "</table>\n",
       "<p>71 rows × 2 columns</p>\n",
       "</div>"
      ],
      "text/plain": [
       "            USD   TUNGSTEN\n",
       "Date                      \n",
       "2022-02-04  1.0  99.726985\n",
       "2022-02-05  1.0  99.692093\n",
       "2022-02-06  1.0  99.692093\n",
       "2022-02-07  1.0  99.725988\n",
       "2022-02-08  1.0  99.771847\n",
       "...         ...        ...\n",
       "2022-04-11  1.0  93.397550\n",
       "2022-04-12  1.0  93.393817\n",
       "2022-04-13  1.0  93.376085\n",
       "2022-04-14  1.0  93.405016\n",
       "2022-04-15  1.0  93.402216\n",
       "\n",
       "[71 rows x 2 columns]"
      ]
     },
     "execution_count": 56,
     "metadata": {},
     "output_type": "execute_result"
    }
   ],
   "source": [
    "info"
   ]
  },
  {
   "cell_type": "code",
   "execution_count": 57,
   "id": "131d8fc7",
   "metadata": {},
   "outputs": [
    {
     "data": {
      "text/plain": [
       "Index(['USD', 'TUNGSTEN'], dtype='object')"
      ]
     },
     "execution_count": 57,
     "metadata": {},
     "output_type": "execute_result"
    }
   ],
   "source": [
    "info.columns"
   ]
  },
  {
   "cell_type": "code",
   "execution_count": 58,
   "id": "7ef4cab5",
   "metadata": {},
   "outputs": [
    {
     "data": {
      "text/html": [
       "<div>\n",
       "<style scoped>\n",
       "    .dataframe tbody tr th:only-of-type {\n",
       "        vertical-align: middle;\n",
       "    }\n",
       "\n",
       "    .dataframe tbody tr th {\n",
       "        vertical-align: top;\n",
       "    }\n",
       "\n",
       "    .dataframe thead th {\n",
       "        text-align: right;\n",
       "    }\n",
       "</style>\n",
       "<table border=\"1\" class=\"dataframe\">\n",
       "  <thead>\n",
       "    <tr style=\"text-align: right;\">\n",
       "      <th></th>\n",
       "      <th>TUNGSTEN</th>\n",
       "    </tr>\n",
       "    <tr>\n",
       "      <th>Date</th>\n",
       "      <th></th>\n",
       "    </tr>\n",
       "  </thead>\n",
       "  <tbody>\n",
       "    <tr>\n",
       "      <th>2022-02-04</th>\n",
       "      <td>99.726985</td>\n",
       "    </tr>\n",
       "    <tr>\n",
       "      <th>2022-02-05</th>\n",
       "      <td>99.692093</td>\n",
       "    </tr>\n",
       "    <tr>\n",
       "      <th>2022-02-06</th>\n",
       "      <td>99.692093</td>\n",
       "    </tr>\n",
       "    <tr>\n",
       "      <th>2022-02-07</th>\n",
       "      <td>99.725988</td>\n",
       "    </tr>\n",
       "    <tr>\n",
       "      <th>2022-02-08</th>\n",
       "      <td>99.771847</td>\n",
       "    </tr>\n",
       "    <tr>\n",
       "      <th>...</th>\n",
       "      <td>...</td>\n",
       "    </tr>\n",
       "    <tr>\n",
       "      <th>2022-04-11</th>\n",
       "      <td>93.397550</td>\n",
       "    </tr>\n",
       "    <tr>\n",
       "      <th>2022-04-12</th>\n",
       "      <td>93.393817</td>\n",
       "    </tr>\n",
       "    <tr>\n",
       "      <th>2022-04-13</th>\n",
       "      <td>93.376085</td>\n",
       "    </tr>\n",
       "    <tr>\n",
       "      <th>2022-04-14</th>\n",
       "      <td>93.405016</td>\n",
       "    </tr>\n",
       "    <tr>\n",
       "      <th>2022-04-15</th>\n",
       "      <td>93.402216</td>\n",
       "    </tr>\n",
       "  </tbody>\n",
       "</table>\n",
       "<p>71 rows × 1 columns</p>\n",
       "</div>"
      ],
      "text/plain": [
       "             TUNGSTEN\n",
       "Date                 \n",
       "2022-02-04  99.726985\n",
       "2022-02-05  99.692093\n",
       "2022-02-06  99.692093\n",
       "2022-02-07  99.725988\n",
       "2022-02-08  99.771847\n",
       "...               ...\n",
       "2022-04-11  93.397550\n",
       "2022-04-12  93.393817\n",
       "2022-04-13  93.376085\n",
       "2022-04-14  93.405016\n",
       "2022-04-15  93.402216\n",
       "\n",
       "[71 rows x 1 columns]"
      ]
     },
     "execution_count": 58,
     "metadata": {},
     "output_type": "execute_result"
    }
   ],
   "source": [
    "info.drop('USD', axis=1, inplace=True)\n",
    "info"
   ]
  },
  {
   "cell_type": "code",
   "execution_count": 12,
   "id": "29221a9a",
   "metadata": {},
   "outputs": [
    {
     "name": "stdout",
     "output_type": "stream",
     "text": [
      "{'success': True, 'timestamp': 1650561300, 'date': '2022-04-21', 'base': 'USD', 'rates': {'ALU': 9.7093689436699, 'IRON': 208.30143449258, 'TIN': 0.81763716742448, 'TUNGSTEN': 93.404082984035, 'USD': 1}}\n"
     ]
    }
   ],
   "source": [
    "base_currency = 'USD'\n",
    "symbols = 'ALU,TUNGSTEN,TIN,IRON, XCU'  \n",
    "endpoint = 'latest'\n",
    "access_key = 'kw1gi2e747957w1xqebd3ok2hh7sgfljbt9q9f1y3hs37jxb2f9dcgh12xu4'\n",
    "\n",
    "resp5 = requests.get(\n",
    "        'https://www.metals-api.com/api/'+endpoint+'?access_key='+access_key+'&base='+base_currency+'&symbols='+symbols)\n",
    "if resp5.status_code != 200:\n",
    "        # This means something went wrong.\n",
    "    raise ApiError('GET /'+endpoint+'/ {}'.format(resp5.status_code))\n",
    "print(resp5.json())"
   ]
  },
  {
   "cell_type": "code",
   "execution_count": 13,
   "id": "a2c20456",
   "metadata": {},
   "outputs": [
    {
     "data": {
      "text/plain": [
       "requests.models.Response"
      ]
     },
     "execution_count": 13,
     "metadata": {},
     "output_type": "execute_result"
    }
   ],
   "source": [
    "type(resp5)"
   ]
  },
  {
   "cell_type": "code",
   "execution_count": 24,
   "id": "ef53907e",
   "metadata": {},
   "outputs": [
    {
     "ename": "NameError",
     "evalue": "name 'json' is not defined",
     "output_type": "error",
     "traceback": [
      "\u001b[1;31m---------------------------------------------------------------------------\u001b[0m",
      "\u001b[1;31mNameError\u001b[0m                                 Traceback (most recent call last)",
      "\u001b[1;32m~\\AppData\\Local\\Temp\\ipykernel_11612\\1436960680.py\u001b[0m in \u001b[0;36m<module>\u001b[1;34m\u001b[0m\n\u001b[1;32m----> 1\u001b[1;33m \u001b[0mjson\u001b[0m\u001b[1;33m.\u001b[0m\u001b[0mloads\u001b[0m\u001b[1;33m(\u001b[0m\u001b[0mresp5\u001b[0m\u001b[1;33m[\u001b[0m\u001b[1;36m0\u001b[0m\u001b[1;33m]\u001b[0m\u001b[1;33m.\u001b[0m\u001b[0mtext\u001b[0m\u001b[1;33m)\u001b[0m\u001b[1;33m\u001b[0m\u001b[1;33m\u001b[0m\u001b[0m\n\u001b[0m",
      "\u001b[1;31mNameError\u001b[0m: name 'json' is not defined"
     ]
    }
   ],
   "source": [
    "json.loads(resp5[0].text)"
   ]
  },
  {
   "cell_type": "code",
   "execution_count": 16,
   "id": "521c9725",
   "metadata": {},
   "outputs": [],
   "source": [
    "info2=pd.DataFrame.from_dict(resp5)"
   ]
  },
  {
   "cell_type": "code",
   "execution_count": 20,
   "id": "087a24ba",
   "metadata": {},
   "outputs": [
    {
     "data": {
      "text/plain": [
       "pandas.core.frame.DataFrame"
      ]
     },
     "execution_count": 20,
     "metadata": {},
     "output_type": "execute_result"
    }
   ],
   "source": [
    "type(info2)"
   ]
  },
  {
   "cell_type": "code",
   "execution_count": 21,
   "id": "a42b4353",
   "metadata": {},
   "outputs": [
    {
     "data": {
      "text/html": [
       "<div>\n",
       "<style scoped>\n",
       "    .dataframe tbody tr th:only-of-type {\n",
       "        vertical-align: middle;\n",
       "    }\n",
       "\n",
       "    .dataframe tbody tr th {\n",
       "        vertical-align: top;\n",
       "    }\n",
       "\n",
       "    .dataframe thead th {\n",
       "        text-align: right;\n",
       "    }\n",
       "</style>\n",
       "<table border=\"1\" class=\"dataframe\">\n",
       "  <thead>\n",
       "    <tr style=\"text-align: right;\">\n",
       "      <th></th>\n",
       "      <th>0</th>\n",
       "    </tr>\n",
       "  </thead>\n",
       "  <tbody>\n",
       "    <tr>\n",
       "      <th>0</th>\n",
       "      <td>b'{\"success\":true,\"timestamp\":1650561300,\"date...</td>\n",
       "    </tr>\n",
       "    <tr>\n",
       "      <th>1</th>\n",
       "      <td>b'IN\":0.81763716742448,\"TUNGSTEN\":93.404082984...</td>\n",
       "    </tr>\n",
       "  </tbody>\n",
       "</table>\n",
       "</div>"
      ],
      "text/plain": [
       "                                                   0\n",
       "0  b'{\"success\":true,\"timestamp\":1650561300,\"date...\n",
       "1  b'IN\":0.81763716742448,\"TUNGSTEN\":93.404082984..."
      ]
     },
     "execution_count": 21,
     "metadata": {},
     "output_type": "execute_result"
    }
   ],
   "source": [
    "info2"
   ]
  },
  {
   "cell_type": "code",
   "execution_count": null,
   "id": "aed84ade",
   "metadata": {},
   "outputs": [],
   "source": []
  }
 ],
 "metadata": {
  "kernelspec": {
   "display_name": "Python [conda env:proyectofinal]",
   "language": "python",
   "name": "conda-env-proyectofinal-py"
  },
  "language_info": {
   "codemirror_mode": {
    "name": "ipython",
    "version": 3
   },
   "file_extension": ".py",
   "mimetype": "text/x-python",
   "name": "python",
   "nbconvert_exporter": "python",
   "pygments_lexer": "ipython3",
   "version": "3.7.13"
  }
 },
 "nbformat": 4,
 "nbformat_minor": 5
}
