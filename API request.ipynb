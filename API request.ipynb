{
 "cells": [
  {
   "cell_type": "code",
   "execution_count": 13,
   "id": "302a5947",
   "metadata": {},
   "outputs": [],
   "source": [
    "import requests\n",
    "import pandas as pd"
   ]
  },
  {
   "cell_type": "code",
   "execution_count": 14,
   "id": "67e52823",
   "metadata": {},
   "outputs": [],
   "source": [
    "base_currency = 'USD'\n",
    "symbol = 'TUNGSTEN'\n",
    "access_key = 'm29rswz853qlppfxspn1tprffref065jsc4ihybl7h7tzf7yo04yrvw34wqp'\n",
    "endpoint = 'timeseries'\n",
    "start_date = '2022-02-04'\n",
    "end_date = '2022-04-26'\n",
    "#time_call = 'https://www.metals-api.com/api/'+endpoint+'?access_key='+access_key+ '&start_date=' + start_date +'& end_date='+end_date+'&base='+base_currency+'&symbols='+symbol"
   ]
  },
  {
   "cell_type": "code",
   "execution_count": 15,
   "id": "d7b044d5",
   "metadata": {},
   "outputs": [
    {
     "ename": "JSONDecodeError",
     "evalue": "Expecting value: line 1 column 1 (char 0)",
     "output_type": "error",
     "traceback": [
      "\u001b[1;31m---------------------------------------------------------------------------\u001b[0m",
      "\u001b[1;31mJSONDecodeError\u001b[0m                           Traceback (most recent call last)",
      "\u001b[1;32m~\\AppData\\Local\\Temp\\ipykernel_20564\\2601799393.py\u001b[0m in \u001b[0;36m<module>\u001b[1;34m\u001b[0m\n\u001b[0;32m      1\u001b[0m resp=requests.get(\n\u001b[1;32m----> 2\u001b[1;33m     'https://www.metals-api.com/api/'+endpoint+'?access_key='+access_key+ '&start_date=' + start_date +'& end_date='+end_date+'&base='+base_currency+'&symbols='+symbol).json()\n\u001b[0m\u001b[0;32m      3\u001b[0m \u001b[1;33m\u001b[0m\u001b[0m\n\u001b[0;32m      4\u001b[0m \u001b[1;32mif\u001b[0m \u001b[0mresp\u001b[0m\u001b[1;33m.\u001b[0m\u001b[0mstatus_code\u001b[0m \u001b[1;33m!=\u001b[0m \u001b[1;36m200\u001b[0m\u001b[1;33m:\u001b[0m\u001b[1;33m\u001b[0m\u001b[1;33m\u001b[0m\u001b[0m\n\u001b[0;32m      5\u001b[0m         \u001b[1;31m# This means something went wrong.\u001b[0m\u001b[1;33m\u001b[0m\u001b[1;33m\u001b[0m\u001b[1;33m\u001b[0m\u001b[0m\n",
      "\u001b[1;32m~\\miniconda3\\envs\\proyectofinal\\lib\\site-packages\\requests\\models.py\u001b[0m in \u001b[0;36mjson\u001b[1;34m(self, **kwargs)\u001b[0m\n\u001b[0;32m    896\u001b[0m                     \u001b[1;31m# used.\u001b[0m\u001b[1;33m\u001b[0m\u001b[1;33m\u001b[0m\u001b[1;33m\u001b[0m\u001b[0m\n\u001b[0;32m    897\u001b[0m                     \u001b[1;32mpass\u001b[0m\u001b[1;33m\u001b[0m\u001b[1;33m\u001b[0m\u001b[0m\n\u001b[1;32m--> 898\u001b[1;33m         \u001b[1;32mreturn\u001b[0m \u001b[0mcomplexjson\u001b[0m\u001b[1;33m.\u001b[0m\u001b[0mloads\u001b[0m\u001b[1;33m(\u001b[0m\u001b[0mself\u001b[0m\u001b[1;33m.\u001b[0m\u001b[0mtext\u001b[0m\u001b[1;33m,\u001b[0m \u001b[1;33m**\u001b[0m\u001b[0mkwargs\u001b[0m\u001b[1;33m)\u001b[0m\u001b[1;33m\u001b[0m\u001b[1;33m\u001b[0m\u001b[0m\n\u001b[0m\u001b[0;32m    899\u001b[0m \u001b[1;33m\u001b[0m\u001b[0m\n\u001b[0;32m    900\u001b[0m     \u001b[1;33m@\u001b[0m\u001b[0mproperty\u001b[0m\u001b[1;33m\u001b[0m\u001b[1;33m\u001b[0m\u001b[0m\n",
      "\u001b[1;32m~\\miniconda3\\envs\\proyectofinal\\lib\\json\\__init__.py\u001b[0m in \u001b[0;36mloads\u001b[1;34m(s, encoding, cls, object_hook, parse_float, parse_int, parse_constant, object_pairs_hook, **kw)\u001b[0m\n\u001b[0;32m    346\u001b[0m             \u001b[0mparse_int\u001b[0m \u001b[1;32mis\u001b[0m \u001b[1;32mNone\u001b[0m \u001b[1;32mand\u001b[0m \u001b[0mparse_float\u001b[0m \u001b[1;32mis\u001b[0m \u001b[1;32mNone\u001b[0m \u001b[1;32mand\u001b[0m\u001b[1;33m\u001b[0m\u001b[1;33m\u001b[0m\u001b[0m\n\u001b[0;32m    347\u001b[0m             parse_constant is None and object_pairs_hook is None and not kw):\n\u001b[1;32m--> 348\u001b[1;33m         \u001b[1;32mreturn\u001b[0m \u001b[0m_default_decoder\u001b[0m\u001b[1;33m.\u001b[0m\u001b[0mdecode\u001b[0m\u001b[1;33m(\u001b[0m\u001b[0ms\u001b[0m\u001b[1;33m)\u001b[0m\u001b[1;33m\u001b[0m\u001b[1;33m\u001b[0m\u001b[0m\n\u001b[0m\u001b[0;32m    349\u001b[0m     \u001b[1;32mif\u001b[0m \u001b[0mcls\u001b[0m \u001b[1;32mis\u001b[0m \u001b[1;32mNone\u001b[0m\u001b[1;33m:\u001b[0m\u001b[1;33m\u001b[0m\u001b[1;33m\u001b[0m\u001b[0m\n\u001b[0;32m    350\u001b[0m         \u001b[0mcls\u001b[0m \u001b[1;33m=\u001b[0m \u001b[0mJSONDecoder\u001b[0m\u001b[1;33m\u001b[0m\u001b[1;33m\u001b[0m\u001b[0m\n",
      "\u001b[1;32m~\\miniconda3\\envs\\proyectofinal\\lib\\json\\decoder.py\u001b[0m in \u001b[0;36mdecode\u001b[1;34m(self, s, _w)\u001b[0m\n\u001b[0;32m    335\u001b[0m \u001b[1;33m\u001b[0m\u001b[0m\n\u001b[0;32m    336\u001b[0m         \"\"\"\n\u001b[1;32m--> 337\u001b[1;33m         \u001b[0mobj\u001b[0m\u001b[1;33m,\u001b[0m \u001b[0mend\u001b[0m \u001b[1;33m=\u001b[0m \u001b[0mself\u001b[0m\u001b[1;33m.\u001b[0m\u001b[0mraw_decode\u001b[0m\u001b[1;33m(\u001b[0m\u001b[0ms\u001b[0m\u001b[1;33m,\u001b[0m \u001b[0midx\u001b[0m\u001b[1;33m=\u001b[0m\u001b[0m_w\u001b[0m\u001b[1;33m(\u001b[0m\u001b[0ms\u001b[0m\u001b[1;33m,\u001b[0m \u001b[1;36m0\u001b[0m\u001b[1;33m)\u001b[0m\u001b[1;33m.\u001b[0m\u001b[0mend\u001b[0m\u001b[1;33m(\u001b[0m\u001b[1;33m)\u001b[0m\u001b[1;33m)\u001b[0m\u001b[1;33m\u001b[0m\u001b[1;33m\u001b[0m\u001b[0m\n\u001b[0m\u001b[0;32m    338\u001b[0m         \u001b[0mend\u001b[0m \u001b[1;33m=\u001b[0m \u001b[0m_w\u001b[0m\u001b[1;33m(\u001b[0m\u001b[0ms\u001b[0m\u001b[1;33m,\u001b[0m \u001b[0mend\u001b[0m\u001b[1;33m)\u001b[0m\u001b[1;33m.\u001b[0m\u001b[0mend\u001b[0m\u001b[1;33m(\u001b[0m\u001b[1;33m)\u001b[0m\u001b[1;33m\u001b[0m\u001b[1;33m\u001b[0m\u001b[0m\n\u001b[0;32m    339\u001b[0m         \u001b[1;32mif\u001b[0m \u001b[0mend\u001b[0m \u001b[1;33m!=\u001b[0m \u001b[0mlen\u001b[0m\u001b[1;33m(\u001b[0m\u001b[0ms\u001b[0m\u001b[1;33m)\u001b[0m\u001b[1;33m:\u001b[0m\u001b[1;33m\u001b[0m\u001b[1;33m\u001b[0m\u001b[0m\n",
      "\u001b[1;32m~\\miniconda3\\envs\\proyectofinal\\lib\\json\\decoder.py\u001b[0m in \u001b[0;36mraw_decode\u001b[1;34m(self, s, idx)\u001b[0m\n\u001b[0;32m    353\u001b[0m             \u001b[0mobj\u001b[0m\u001b[1;33m,\u001b[0m \u001b[0mend\u001b[0m \u001b[1;33m=\u001b[0m \u001b[0mself\u001b[0m\u001b[1;33m.\u001b[0m\u001b[0mscan_once\u001b[0m\u001b[1;33m(\u001b[0m\u001b[0ms\u001b[0m\u001b[1;33m,\u001b[0m \u001b[0midx\u001b[0m\u001b[1;33m)\u001b[0m\u001b[1;33m\u001b[0m\u001b[1;33m\u001b[0m\u001b[0m\n\u001b[0;32m    354\u001b[0m         \u001b[1;32mexcept\u001b[0m \u001b[0mStopIteration\u001b[0m \u001b[1;32mas\u001b[0m \u001b[0merr\u001b[0m\u001b[1;33m:\u001b[0m\u001b[1;33m\u001b[0m\u001b[1;33m\u001b[0m\u001b[0m\n\u001b[1;32m--> 355\u001b[1;33m             \u001b[1;32mraise\u001b[0m \u001b[0mJSONDecodeError\u001b[0m\u001b[1;33m(\u001b[0m\u001b[1;34m\"Expecting value\"\u001b[0m\u001b[1;33m,\u001b[0m \u001b[0ms\u001b[0m\u001b[1;33m,\u001b[0m \u001b[0merr\u001b[0m\u001b[1;33m.\u001b[0m\u001b[0mvalue\u001b[0m\u001b[1;33m)\u001b[0m \u001b[1;32mfrom\u001b[0m \u001b[1;32mNone\u001b[0m\u001b[1;33m\u001b[0m\u001b[1;33m\u001b[0m\u001b[0m\n\u001b[0m\u001b[0;32m    356\u001b[0m         \u001b[1;32mreturn\u001b[0m \u001b[0mobj\u001b[0m\u001b[1;33m,\u001b[0m \u001b[0mend\u001b[0m\u001b[1;33m\u001b[0m\u001b[1;33m\u001b[0m\u001b[0m\n",
      "\u001b[1;31mJSONDecodeError\u001b[0m: Expecting value: line 1 column 1 (char 0)"
     ]
    }
   ],
   "source": [
    "resp=requests.get(\n",
    "    'https://www.metals-api.com/api/'+endpoint+'?access_key='+access_key+ '&start_date=' + start_date +'& end_date='+end_date+'&base='+base_currency+'&symbols='+symbol).json()\n",
    "\n",
    "if resp.status_code != 200:\n",
    "        # This means something went wrong.\n",
    "    raise ApiError('GET /'+endpoint+'/ {}'.format(resp.status_code))\n",
    "print(resp.json())"
   ]
  },
  {
   "cell_type": "code",
   "execution_count": 16,
   "id": "60d03baa",
   "metadata": {},
   "outputs": [
    {
     "data": {
      "text/plain": [
       "{'success': False,\n",
       " 'error': {'code': 104,\n",
       "  'type': 'request_limit_reached',\n",
       "  'info': 'The maximum allowed amount of monthly API requests has been reached.'}}"
      ]
     },
     "execution_count": 16,
     "metadata": {},
     "output_type": "execute_result"
    }
   ],
   "source": [
    "resp"
   ]
  },
  {
   "cell_type": "code",
   "execution_count": 8,
   "id": "713dafd8",
   "metadata": {},
   "outputs": [],
   "source": [
    "from pandas import json_normalize\n",
    "import json"
   ]
  },
  {
   "cell_type": "code",
   "execution_count": 22,
   "id": "265a5623",
   "metadata": {},
   "outputs": [],
   "source": [
    "info= pd.DataFrame.from_dict(resp)"
   ]
  },
  {
   "cell_type": "code",
   "execution_count": 23,
   "id": "a40403a2",
   "metadata": {},
   "outputs": [
    {
     "data": {
      "text/html": [
       "<div>\n",
       "<style scoped>\n",
       "    .dataframe tbody tr th:only-of-type {\n",
       "        vertical-align: middle;\n",
       "    }\n",
       "\n",
       "    .dataframe tbody tr th {\n",
       "        vertical-align: top;\n",
       "    }\n",
       "\n",
       "    .dataframe thead th {\n",
       "        text-align: right;\n",
       "    }\n",
       "</style>\n",
       "<table border=\"1\" class=\"dataframe\">\n",
       "  <thead>\n",
       "    <tr style=\"text-align: right;\">\n",
       "      <th></th>\n",
       "      <th>success</th>\n",
       "      <th>timeseries</th>\n",
       "      <th>start_date</th>\n",
       "      <th>end_date</th>\n",
       "      <th>base</th>\n",
       "      <th>rates</th>\n",
       "    </tr>\n",
       "  </thead>\n",
       "  <tbody>\n",
       "    <tr>\n",
       "      <th>2022-02-04</th>\n",
       "      <td>True</td>\n",
       "      <td>True</td>\n",
       "      <td>2022-02-04</td>\n",
       "      <td>2022-04-21</td>\n",
       "      <td>USD</td>\n",
       "      <td>{'USD': 1, 'TUNGSTEN': 99.726985255814}</td>\n",
       "    </tr>\n",
       "    <tr>\n",
       "      <th>2022-02-05</th>\n",
       "      <td>True</td>\n",
       "      <td>True</td>\n",
       "      <td>2022-02-04</td>\n",
       "      <td>2022-04-21</td>\n",
       "      <td>USD</td>\n",
       "      <td>{'USD': 1, 'TUNGSTEN': 99.692093023256}</td>\n",
       "    </tr>\n",
       "    <tr>\n",
       "      <th>2022-02-06</th>\n",
       "      <td>True</td>\n",
       "      <td>True</td>\n",
       "      <td>2022-02-04</td>\n",
       "      <td>2022-04-21</td>\n",
       "      <td>USD</td>\n",
       "      <td>{'USD': 1, 'TUNGSTEN': 99.692093023256}</td>\n",
       "    </tr>\n",
       "    <tr>\n",
       "      <th>2022-02-07</th>\n",
       "      <td>True</td>\n",
       "      <td>True</td>\n",
       "      <td>2022-02-04</td>\n",
       "      <td>2022-04-21</td>\n",
       "      <td>USD</td>\n",
       "      <td>{'USD': 1, 'TUNGSTEN': 99.725988334884}</td>\n",
       "    </tr>\n",
       "    <tr>\n",
       "      <th>2022-02-08</th>\n",
       "      <td>True</td>\n",
       "      <td>True</td>\n",
       "      <td>2022-02-04</td>\n",
       "      <td>2022-04-21</td>\n",
       "      <td>USD</td>\n",
       "      <td>{'USD': 1, 'TUNGSTEN': 99.771846697674}</td>\n",
       "    </tr>\n",
       "    <tr>\n",
       "      <th>...</th>\n",
       "      <td>...</td>\n",
       "      <td>...</td>\n",
       "      <td>...</td>\n",
       "      <td>...</td>\n",
       "      <td>...</td>\n",
       "      <td>...</td>\n",
       "    </tr>\n",
       "    <tr>\n",
       "      <th>2022-04-17</th>\n",
       "      <td>True</td>\n",
       "      <td>True</td>\n",
       "      <td>2022-02-04</td>\n",
       "      <td>2022-04-21</td>\n",
       "      <td>USD</td>\n",
       "      <td>{'USD': 1, 'TUNGSTEN': 93.325689404935}</td>\n",
       "    </tr>\n",
       "    <tr>\n",
       "      <th>2022-04-18</th>\n",
       "      <td>True</td>\n",
       "      <td>True</td>\n",
       "      <td>2022-02-04</td>\n",
       "      <td>2022-04-21</td>\n",
       "      <td>USD</td>\n",
       "      <td>{'USD': 1, 'TUNGSTEN': 93.342488029028}</td>\n",
       "    </tr>\n",
       "    <tr>\n",
       "      <th>2022-04-19</th>\n",
       "      <td>True</td>\n",
       "      <td>True</td>\n",
       "      <td>2022-02-04</td>\n",
       "      <td>2022-04-21</td>\n",
       "      <td>USD</td>\n",
       "      <td>{'USD': 1, 'TUNGSTEN': 93.347154313498}</td>\n",
       "    </tr>\n",
       "    <tr>\n",
       "      <th>2022-04-20</th>\n",
       "      <td>True</td>\n",
       "      <td>True</td>\n",
       "      <td>2022-02-04</td>\n",
       "      <td>2022-04-21</td>\n",
       "      <td>USD</td>\n",
       "      <td>{'USD': 1, 'TUNGSTEN': 93.38915087373}</td>\n",
       "    </tr>\n",
       "    <tr>\n",
       "      <th>2022-04-21</th>\n",
       "      <td>True</td>\n",
       "      <td>True</td>\n",
       "      <td>2022-02-04</td>\n",
       "      <td>2022-04-21</td>\n",
       "      <td>USD</td>\n",
       "      <td>{'USD': 1, 'TUNGSTEN': 93.361153166909}</td>\n",
       "    </tr>\n",
       "  </tbody>\n",
       "</table>\n",
       "<p>77 rows × 6 columns</p>\n",
       "</div>"
      ],
      "text/plain": [
       "            success  timeseries  start_date    end_date base  \\\n",
       "2022-02-04     True        True  2022-02-04  2022-04-21  USD   \n",
       "2022-02-05     True        True  2022-02-04  2022-04-21  USD   \n",
       "2022-02-06     True        True  2022-02-04  2022-04-21  USD   \n",
       "2022-02-07     True        True  2022-02-04  2022-04-21  USD   \n",
       "2022-02-08     True        True  2022-02-04  2022-04-21  USD   \n",
       "...             ...         ...         ...         ...  ...   \n",
       "2022-04-17     True        True  2022-02-04  2022-04-21  USD   \n",
       "2022-04-18     True        True  2022-02-04  2022-04-21  USD   \n",
       "2022-04-19     True        True  2022-02-04  2022-04-21  USD   \n",
       "2022-04-20     True        True  2022-02-04  2022-04-21  USD   \n",
       "2022-04-21     True        True  2022-02-04  2022-04-21  USD   \n",
       "\n",
       "                                              rates  \n",
       "2022-02-04  {'USD': 1, 'TUNGSTEN': 99.726985255814}  \n",
       "2022-02-05  {'USD': 1, 'TUNGSTEN': 99.692093023256}  \n",
       "2022-02-06  {'USD': 1, 'TUNGSTEN': 99.692093023256}  \n",
       "2022-02-07  {'USD': 1, 'TUNGSTEN': 99.725988334884}  \n",
       "2022-02-08  {'USD': 1, 'TUNGSTEN': 99.771846697674}  \n",
       "...                                             ...  \n",
       "2022-04-17  {'USD': 1, 'TUNGSTEN': 93.325689404935}  \n",
       "2022-04-18  {'USD': 1, 'TUNGSTEN': 93.342488029028}  \n",
       "2022-04-19  {'USD': 1, 'TUNGSTEN': 93.347154313498}  \n",
       "2022-04-20   {'USD': 1, 'TUNGSTEN': 93.38915087373}  \n",
       "2022-04-21  {'USD': 1, 'TUNGSTEN': 93.361153166909}  \n",
       "\n",
       "[77 rows x 6 columns]"
      ]
     },
     "execution_count": 23,
     "metadata": {},
     "output_type": "execute_result"
    }
   ],
   "source": [
    "info"
   ]
  },
  {
   "cell_type": "code",
   "execution_count": 24,
   "id": "025d650c",
   "metadata": {},
   "outputs": [
    {
     "data": {
      "text/plain": [
       "pandas.core.frame.DataFrame"
      ]
     },
     "execution_count": 24,
     "metadata": {},
     "output_type": "execute_result"
    }
   ],
   "source": [
    "type(info)"
   ]
  },
  {
   "cell_type": "code",
   "execution_count": 25,
   "id": "b1a676eb",
   "metadata": {},
   "outputs": [
    {
     "data": {
      "text/plain": [
       "Index(['success', 'timeseries', 'start_date', 'end_date', 'base', 'rates'], dtype='object')"
      ]
     },
     "execution_count": 25,
     "metadata": {},
     "output_type": "execute_result"
    }
   ],
   "source": [
    "info.columns"
   ]
  },
  {
   "cell_type": "code",
   "execution_count": 26,
   "id": "d1c0f87a",
   "metadata": {},
   "outputs": [],
   "source": [
    "info.drop(['success','timeseries', 'start_date','end_date', 'base'], axis=1, inplace=True)"
   ]
  },
  {
   "cell_type": "code",
   "execution_count": 27,
   "id": "9748c90e",
   "metadata": {},
   "outputs": [],
   "source": [
    "info.index.name='Date'"
   ]
  },
  {
   "cell_type": "code",
   "execution_count": 28,
   "id": "43fc4473",
   "metadata": {},
   "outputs": [
    {
     "data": {
      "text/html": [
       "<div>\n",
       "<style scoped>\n",
       "    .dataframe tbody tr th:only-of-type {\n",
       "        vertical-align: middle;\n",
       "    }\n",
       "\n",
       "    .dataframe tbody tr th {\n",
       "        vertical-align: top;\n",
       "    }\n",
       "\n",
       "    .dataframe thead th {\n",
       "        text-align: right;\n",
       "    }\n",
       "</style>\n",
       "<table border=\"1\" class=\"dataframe\">\n",
       "  <thead>\n",
       "    <tr style=\"text-align: right;\">\n",
       "      <th></th>\n",
       "      <th>rates</th>\n",
       "    </tr>\n",
       "    <tr>\n",
       "      <th>Date</th>\n",
       "      <th></th>\n",
       "    </tr>\n",
       "  </thead>\n",
       "  <tbody>\n",
       "    <tr>\n",
       "      <th>2022-02-04</th>\n",
       "      <td>{'USD': 1, 'TUNGSTEN': 99.726985255814}</td>\n",
       "    </tr>\n",
       "    <tr>\n",
       "      <th>2022-02-05</th>\n",
       "      <td>{'USD': 1, 'TUNGSTEN': 99.692093023256}</td>\n",
       "    </tr>\n",
       "    <tr>\n",
       "      <th>2022-02-06</th>\n",
       "      <td>{'USD': 1, 'TUNGSTEN': 99.692093023256}</td>\n",
       "    </tr>\n",
       "    <tr>\n",
       "      <th>2022-02-07</th>\n",
       "      <td>{'USD': 1, 'TUNGSTEN': 99.725988334884}</td>\n",
       "    </tr>\n",
       "    <tr>\n",
       "      <th>2022-02-08</th>\n",
       "      <td>{'USD': 1, 'TUNGSTEN': 99.771846697674}</td>\n",
       "    </tr>\n",
       "    <tr>\n",
       "      <th>...</th>\n",
       "      <td>...</td>\n",
       "    </tr>\n",
       "    <tr>\n",
       "      <th>2022-04-17</th>\n",
       "      <td>{'USD': 1, 'TUNGSTEN': 93.325689404935}</td>\n",
       "    </tr>\n",
       "    <tr>\n",
       "      <th>2022-04-18</th>\n",
       "      <td>{'USD': 1, 'TUNGSTEN': 93.342488029028}</td>\n",
       "    </tr>\n",
       "    <tr>\n",
       "      <th>2022-04-19</th>\n",
       "      <td>{'USD': 1, 'TUNGSTEN': 93.347154313498}</td>\n",
       "    </tr>\n",
       "    <tr>\n",
       "      <th>2022-04-20</th>\n",
       "      <td>{'USD': 1, 'TUNGSTEN': 93.38915087373}</td>\n",
       "    </tr>\n",
       "    <tr>\n",
       "      <th>2022-04-21</th>\n",
       "      <td>{'USD': 1, 'TUNGSTEN': 93.361153166909}</td>\n",
       "    </tr>\n",
       "  </tbody>\n",
       "</table>\n",
       "<p>77 rows × 1 columns</p>\n",
       "</div>"
      ],
      "text/plain": [
       "                                              rates\n",
       "Date                                               \n",
       "2022-02-04  {'USD': 1, 'TUNGSTEN': 99.726985255814}\n",
       "2022-02-05  {'USD': 1, 'TUNGSTEN': 99.692093023256}\n",
       "2022-02-06  {'USD': 1, 'TUNGSTEN': 99.692093023256}\n",
       "2022-02-07  {'USD': 1, 'TUNGSTEN': 99.725988334884}\n",
       "2022-02-08  {'USD': 1, 'TUNGSTEN': 99.771846697674}\n",
       "...                                             ...\n",
       "2022-04-17  {'USD': 1, 'TUNGSTEN': 93.325689404935}\n",
       "2022-04-18  {'USD': 1, 'TUNGSTEN': 93.342488029028}\n",
       "2022-04-19  {'USD': 1, 'TUNGSTEN': 93.347154313498}\n",
       "2022-04-20   {'USD': 1, 'TUNGSTEN': 93.38915087373}\n",
       "2022-04-21  {'USD': 1, 'TUNGSTEN': 93.361153166909}\n",
       "\n",
       "[77 rows x 1 columns]"
      ]
     },
     "execution_count": 28,
     "metadata": {},
     "output_type": "execute_result"
    }
   ],
   "source": [
    "info"
   ]
  },
  {
   "cell_type": "code",
   "execution_count": 29,
   "id": "c68f1e24",
   "metadata": {},
   "outputs": [],
   "source": [
    "info=info.rates.apply(pd.Series)"
   ]
  },
  {
   "cell_type": "code",
   "execution_count": 30,
   "id": "49832a55",
   "metadata": {},
   "outputs": [
    {
     "data": {
      "text/html": [
       "<div>\n",
       "<style scoped>\n",
       "    .dataframe tbody tr th:only-of-type {\n",
       "        vertical-align: middle;\n",
       "    }\n",
       "\n",
       "    .dataframe tbody tr th {\n",
       "        vertical-align: top;\n",
       "    }\n",
       "\n",
       "    .dataframe thead th {\n",
       "        text-align: right;\n",
       "    }\n",
       "</style>\n",
       "<table border=\"1\" class=\"dataframe\">\n",
       "  <thead>\n",
       "    <tr style=\"text-align: right;\">\n",
       "      <th></th>\n",
       "      <th>USD</th>\n",
       "      <th>TUNGSTEN</th>\n",
       "    </tr>\n",
       "    <tr>\n",
       "      <th>Date</th>\n",
       "      <th></th>\n",
       "      <th></th>\n",
       "    </tr>\n",
       "  </thead>\n",
       "  <tbody>\n",
       "    <tr>\n",
       "      <th>2022-02-04</th>\n",
       "      <td>1.0</td>\n",
       "      <td>99.726985</td>\n",
       "    </tr>\n",
       "    <tr>\n",
       "      <th>2022-02-05</th>\n",
       "      <td>1.0</td>\n",
       "      <td>99.692093</td>\n",
       "    </tr>\n",
       "    <tr>\n",
       "      <th>2022-02-06</th>\n",
       "      <td>1.0</td>\n",
       "      <td>99.692093</td>\n",
       "    </tr>\n",
       "    <tr>\n",
       "      <th>2022-02-07</th>\n",
       "      <td>1.0</td>\n",
       "      <td>99.725988</td>\n",
       "    </tr>\n",
       "    <tr>\n",
       "      <th>2022-02-08</th>\n",
       "      <td>1.0</td>\n",
       "      <td>99.771847</td>\n",
       "    </tr>\n",
       "    <tr>\n",
       "      <th>...</th>\n",
       "      <td>...</td>\n",
       "      <td>...</td>\n",
       "    </tr>\n",
       "    <tr>\n",
       "      <th>2022-04-17</th>\n",
       "      <td>1.0</td>\n",
       "      <td>93.325689</td>\n",
       "    </tr>\n",
       "    <tr>\n",
       "      <th>2022-04-18</th>\n",
       "      <td>1.0</td>\n",
       "      <td>93.342488</td>\n",
       "    </tr>\n",
       "    <tr>\n",
       "      <th>2022-04-19</th>\n",
       "      <td>1.0</td>\n",
       "      <td>93.347154</td>\n",
       "    </tr>\n",
       "    <tr>\n",
       "      <th>2022-04-20</th>\n",
       "      <td>1.0</td>\n",
       "      <td>93.389151</td>\n",
       "    </tr>\n",
       "    <tr>\n",
       "      <th>2022-04-21</th>\n",
       "      <td>1.0</td>\n",
       "      <td>93.361153</td>\n",
       "    </tr>\n",
       "  </tbody>\n",
       "</table>\n",
       "<p>77 rows × 2 columns</p>\n",
       "</div>"
      ],
      "text/plain": [
       "            USD   TUNGSTEN\n",
       "Date                      \n",
       "2022-02-04  1.0  99.726985\n",
       "2022-02-05  1.0  99.692093\n",
       "2022-02-06  1.0  99.692093\n",
       "2022-02-07  1.0  99.725988\n",
       "2022-02-08  1.0  99.771847\n",
       "...         ...        ...\n",
       "2022-04-17  1.0  93.325689\n",
       "2022-04-18  1.0  93.342488\n",
       "2022-04-19  1.0  93.347154\n",
       "2022-04-20  1.0  93.389151\n",
       "2022-04-21  1.0  93.361153\n",
       "\n",
       "[77 rows x 2 columns]"
      ]
     },
     "execution_count": 30,
     "metadata": {},
     "output_type": "execute_result"
    }
   ],
   "source": [
    "info"
   ]
  },
  {
   "cell_type": "code",
   "execution_count": 31,
   "id": "131d8fc7",
   "metadata": {},
   "outputs": [
    {
     "data": {
      "text/plain": [
       "Index(['USD', 'TUNGSTEN'], dtype='object')"
      ]
     },
     "execution_count": 31,
     "metadata": {},
     "output_type": "execute_result"
    }
   ],
   "source": [
    "info.columns"
   ]
  },
  {
   "cell_type": "code",
   "execution_count": 32,
   "id": "7ef4cab5",
   "metadata": {},
   "outputs": [
    {
     "data": {
      "text/html": [
       "<div>\n",
       "<style scoped>\n",
       "    .dataframe tbody tr th:only-of-type {\n",
       "        vertical-align: middle;\n",
       "    }\n",
       "\n",
       "    .dataframe tbody tr th {\n",
       "        vertical-align: top;\n",
       "    }\n",
       "\n",
       "    .dataframe thead th {\n",
       "        text-align: right;\n",
       "    }\n",
       "</style>\n",
       "<table border=\"1\" class=\"dataframe\">\n",
       "  <thead>\n",
       "    <tr style=\"text-align: right;\">\n",
       "      <th></th>\n",
       "      <th>TUNGSTEN</th>\n",
       "    </tr>\n",
       "    <tr>\n",
       "      <th>Date</th>\n",
       "      <th></th>\n",
       "    </tr>\n",
       "  </thead>\n",
       "  <tbody>\n",
       "    <tr>\n",
       "      <th>2022-02-04</th>\n",
       "      <td>99.726985</td>\n",
       "    </tr>\n",
       "    <tr>\n",
       "      <th>2022-02-05</th>\n",
       "      <td>99.692093</td>\n",
       "    </tr>\n",
       "    <tr>\n",
       "      <th>2022-02-06</th>\n",
       "      <td>99.692093</td>\n",
       "    </tr>\n",
       "    <tr>\n",
       "      <th>2022-02-07</th>\n",
       "      <td>99.725988</td>\n",
       "    </tr>\n",
       "    <tr>\n",
       "      <th>2022-02-08</th>\n",
       "      <td>99.771847</td>\n",
       "    </tr>\n",
       "    <tr>\n",
       "      <th>...</th>\n",
       "      <td>...</td>\n",
       "    </tr>\n",
       "    <tr>\n",
       "      <th>2022-04-17</th>\n",
       "      <td>93.325689</td>\n",
       "    </tr>\n",
       "    <tr>\n",
       "      <th>2022-04-18</th>\n",
       "      <td>93.342488</td>\n",
       "    </tr>\n",
       "    <tr>\n",
       "      <th>2022-04-19</th>\n",
       "      <td>93.347154</td>\n",
       "    </tr>\n",
       "    <tr>\n",
       "      <th>2022-04-20</th>\n",
       "      <td>93.389151</td>\n",
       "    </tr>\n",
       "    <tr>\n",
       "      <th>2022-04-21</th>\n",
       "      <td>93.361153</td>\n",
       "    </tr>\n",
       "  </tbody>\n",
       "</table>\n",
       "<p>77 rows × 1 columns</p>\n",
       "</div>"
      ],
      "text/plain": [
       "             TUNGSTEN\n",
       "Date                 \n",
       "2022-02-04  99.726985\n",
       "2022-02-05  99.692093\n",
       "2022-02-06  99.692093\n",
       "2022-02-07  99.725988\n",
       "2022-02-08  99.771847\n",
       "...               ...\n",
       "2022-04-17  93.325689\n",
       "2022-04-18  93.342488\n",
       "2022-04-19  93.347154\n",
       "2022-04-20  93.389151\n",
       "2022-04-21  93.361153\n",
       "\n",
       "[77 rows x 1 columns]"
      ]
     },
     "execution_count": 32,
     "metadata": {},
     "output_type": "execute_result"
    }
   ],
   "source": [
    "info.drop('USD', axis=1, inplace=True)\n",
    "info"
   ]
  },
  {
   "cell_type": "code",
   "execution_count": 33,
   "id": "95d65c5f",
   "metadata": {},
   "outputs": [
    {
     "data": {
      "text/html": [
       "<div>\n",
       "<style scoped>\n",
       "    .dataframe tbody tr th:only-of-type {\n",
       "        vertical-align: middle;\n",
       "    }\n",
       "\n",
       "    .dataframe tbody tr th {\n",
       "        vertical-align: top;\n",
       "    }\n",
       "\n",
       "    .dataframe thead th {\n",
       "        text-align: right;\n",
       "    }\n",
       "</style>\n",
       "<table border=\"1\" class=\"dataframe\">\n",
       "  <thead>\n",
       "    <tr style=\"text-align: right;\">\n",
       "      <th></th>\n",
       "      <th>TUNGSTEN</th>\n",
       "      <th>Tungsten Price</th>\n",
       "    </tr>\n",
       "    <tr>\n",
       "      <th>Date</th>\n",
       "      <th></th>\n",
       "      <th></th>\n",
       "    </tr>\n",
       "  </thead>\n",
       "  <tbody>\n",
       "    <tr>\n",
       "      <th>2022-02-04</th>\n",
       "      <td>99.726985</td>\n",
       "      <td>322.390173</td>\n",
       "    </tr>\n",
       "    <tr>\n",
       "      <th>2022-02-05</th>\n",
       "      <td>99.692093</td>\n",
       "      <td>322.503009</td>\n",
       "    </tr>\n",
       "    <tr>\n",
       "      <th>2022-02-06</th>\n",
       "      <td>99.692093</td>\n",
       "      <td>322.503009</td>\n",
       "    </tr>\n",
       "    <tr>\n",
       "      <th>2022-02-07</th>\n",
       "      <td>99.725988</td>\n",
       "      <td>322.393396</td>\n",
       "    </tr>\n",
       "    <tr>\n",
       "      <th>2022-02-08</th>\n",
       "      <td>99.771847</td>\n",
       "      <td>322.245213</td>\n",
       "    </tr>\n",
       "    <tr>\n",
       "      <th>...</th>\n",
       "      <td>...</td>\n",
       "      <td>...</td>\n",
       "    </tr>\n",
       "    <tr>\n",
       "      <th>2022-04-17</th>\n",
       "      <td>93.325689</td>\n",
       "      <td>344.503215</td>\n",
       "    </tr>\n",
       "    <tr>\n",
       "      <th>2022-04-18</th>\n",
       "      <td>93.342488</td>\n",
       "      <td>344.441215</td>\n",
       "    </tr>\n",
       "    <tr>\n",
       "      <th>2022-04-19</th>\n",
       "      <td>93.347154</td>\n",
       "      <td>344.423997</td>\n",
       "    </tr>\n",
       "    <tr>\n",
       "      <th>2022-04-20</th>\n",
       "      <td>93.389151</td>\n",
       "      <td>344.269112</td>\n",
       "    </tr>\n",
       "    <tr>\n",
       "      <th>2022-04-21</th>\n",
       "      <td>93.361153</td>\n",
       "      <td>344.372353</td>\n",
       "    </tr>\n",
       "  </tbody>\n",
       "</table>\n",
       "<p>77 rows × 2 columns</p>\n",
       "</div>"
      ],
      "text/plain": [
       "             TUNGSTEN  Tungsten Price\n",
       "Date                                 \n",
       "2022-02-04  99.726985      322.390173\n",
       "2022-02-05  99.692093      322.503009\n",
       "2022-02-06  99.692093      322.503009\n",
       "2022-02-07  99.725988      322.393396\n",
       "2022-02-08  99.771847      322.245213\n",
       "...               ...             ...\n",
       "2022-04-17  93.325689      344.503215\n",
       "2022-04-18  93.342488      344.441215\n",
       "2022-04-19  93.347154      344.423997\n",
       "2022-04-20  93.389151      344.269112\n",
       "2022-04-21  93.361153      344.372353\n",
       "\n",
       "[77 rows x 2 columns]"
      ]
     },
     "execution_count": 33,
     "metadata": {},
     "output_type": "execute_result"
    }
   ],
   "source": [
    "info['Tungsten Price']= (1/info['TUNGSTEN'])*32151\n",
    "info"
   ]
  },
  {
   "cell_type": "code",
   "execution_count": 34,
   "id": "81be3f39",
   "metadata": {},
   "outputs": [],
   "source": [
    "info.drop('TUNGSTEN',axis=1, inplace=True)"
   ]
  },
  {
   "cell_type": "code",
   "execution_count": 35,
   "id": "200c4c4a",
   "metadata": {},
   "outputs": [
    {
     "data": {
      "text/html": [
       "<div>\n",
       "<style scoped>\n",
       "    .dataframe tbody tr th:only-of-type {\n",
       "        vertical-align: middle;\n",
       "    }\n",
       "\n",
       "    .dataframe tbody tr th {\n",
       "        vertical-align: top;\n",
       "    }\n",
       "\n",
       "    .dataframe thead th {\n",
       "        text-align: right;\n",
       "    }\n",
       "</style>\n",
       "<table border=\"1\" class=\"dataframe\">\n",
       "  <thead>\n",
       "    <tr style=\"text-align: right;\">\n",
       "      <th></th>\n",
       "      <th>Tungsten Price</th>\n",
       "    </tr>\n",
       "    <tr>\n",
       "      <th>Date</th>\n",
       "      <th></th>\n",
       "    </tr>\n",
       "  </thead>\n",
       "  <tbody>\n",
       "    <tr>\n",
       "      <th>2022-02-04</th>\n",
       "      <td>322.390173</td>\n",
       "    </tr>\n",
       "    <tr>\n",
       "      <th>2022-02-05</th>\n",
       "      <td>322.503009</td>\n",
       "    </tr>\n",
       "    <tr>\n",
       "      <th>2022-02-06</th>\n",
       "      <td>322.503009</td>\n",
       "    </tr>\n",
       "    <tr>\n",
       "      <th>2022-02-07</th>\n",
       "      <td>322.393396</td>\n",
       "    </tr>\n",
       "    <tr>\n",
       "      <th>2022-02-08</th>\n",
       "      <td>322.245213</td>\n",
       "    </tr>\n",
       "    <tr>\n",
       "      <th>...</th>\n",
       "      <td>...</td>\n",
       "    </tr>\n",
       "    <tr>\n",
       "      <th>2022-04-17</th>\n",
       "      <td>344.503215</td>\n",
       "    </tr>\n",
       "    <tr>\n",
       "      <th>2022-04-18</th>\n",
       "      <td>344.441215</td>\n",
       "    </tr>\n",
       "    <tr>\n",
       "      <th>2022-04-19</th>\n",
       "      <td>344.423997</td>\n",
       "    </tr>\n",
       "    <tr>\n",
       "      <th>2022-04-20</th>\n",
       "      <td>344.269112</td>\n",
       "    </tr>\n",
       "    <tr>\n",
       "      <th>2022-04-21</th>\n",
       "      <td>344.372353</td>\n",
       "    </tr>\n",
       "  </tbody>\n",
       "</table>\n",
       "<p>77 rows × 1 columns</p>\n",
       "</div>"
      ],
      "text/plain": [
       "            Tungsten Price\n",
       "Date                      \n",
       "2022-02-04      322.390173\n",
       "2022-02-05      322.503009\n",
       "2022-02-06      322.503009\n",
       "2022-02-07      322.393396\n",
       "2022-02-08      322.245213\n",
       "...                    ...\n",
       "2022-04-17      344.503215\n",
       "2022-04-18      344.441215\n",
       "2022-04-19      344.423997\n",
       "2022-04-20      344.269112\n",
       "2022-04-21      344.372353\n",
       "\n",
       "[77 rows x 1 columns]"
      ]
     },
     "execution_count": 35,
     "metadata": {},
     "output_type": "execute_result"
    }
   ],
   "source": [
    "info"
   ]
  },
  {
   "cell_type": "code",
   "execution_count": 17,
   "id": "29221a9a",
   "metadata": {},
   "outputs": [
    {
     "name": "stdout",
     "output_type": "stream",
     "text": [
      "{'success': False, 'error': {'code': 104, 'type': 'request_limit_reached', 'info': 'The maximum allowed amount of monthly API requests has been reached.'}}\n"
     ]
    }
   ],
   "source": [
    "base_currency = 'USD'\n",
    "symbols = 'ALU,TUNGSTEN,TIN,IRON,XCU'  \n",
    "endpoint = 'latest'\n",
    "access_key = 'kw1gi2e747957w1xqebd3ok2hh7sgfljbt9q9f1y3hs37jxb2f9dcgh12xu4'\n",
    "\n",
    "resp5 = requests.get(\n",
    "        'https://www.metals-api.com/api/'+endpoint+'?access_key='+access_key+'&base='+base_currency+'&symbols='+symbols)\n",
    "if resp5.status_code != 200:\n",
    "        # This means something went wrong.\n",
    "    raise ApiError('GET /'+endpoint+'/ {}'.format(resp5.status_code))\n",
    "print(resp5.json())"
   ]
  },
  {
   "cell_type": "code",
   "execution_count": 18,
   "id": "a2c20456",
   "metadata": {},
   "outputs": [
    {
     "name": "stdout",
     "output_type": "stream",
     "text": [
      "{'success': False, 'error': {'code': 104, 'type': 'request_limit_reached', 'info': 'The maximum allowed amount of monthly API requests has been reached.'}}\n"
     ]
    }
   ],
   "source": [
    "print(resp5.json())"
   ]
  },
  {
   "cell_type": "code",
   "execution_count": 38,
   "id": "ef53907e",
   "metadata": {},
   "outputs": [
    {
     "data": {
      "text/plain": [
       "requests.models.Response"
      ]
     },
     "execution_count": 38,
     "metadata": {},
     "output_type": "execute_result"
    }
   ],
   "source": [
    "type(resp5)"
   ]
  },
  {
   "cell_type": "code",
   "execution_count": 39,
   "id": "5b650daf",
   "metadata": {},
   "outputs": [],
   "source": [
    "import json"
   ]
  },
  {
   "cell_type": "code",
   "execution_count": 40,
   "id": "f11e9c3c",
   "metadata": {},
   "outputs": [
    {
     "data": {
      "text/plain": [
       "{'success': True,\n",
       " 'timestamp': 1650996060,\n",
       " 'date': '2022-04-26',\n",
       " 'base': 'USD',\n",
       " 'rates': {'ALU': 10.394353490938,\n",
       "  'IRON': 210.96025775562,\n",
       "  'TIN': 0.81733480797023,\n",
       "  'TUNGSTEN': 94.750338353461,\n",
       "  'USD': 1,\n",
       "  'XCU': 3.5976629213483},\n",
       " 'unit': 'per ounce'}"
      ]
     },
     "execution_count": 40,
     "metadata": {},
     "output_type": "execute_result"
    }
   ],
   "source": [
    "json_data = json.loads(resp5.text)\n",
    "json_data"
   ]
  },
  {
   "cell_type": "code",
   "execution_count": 41,
   "id": "521c9725",
   "metadata": {},
   "outputs": [],
   "source": [
    "info2=pd.DataFrame.from_dict(json_data)"
   ]
  },
  {
   "cell_type": "code",
   "execution_count": 42,
   "id": "087a24ba",
   "metadata": {},
   "outputs": [
    {
     "data": {
      "text/plain": [
       "dict"
      ]
     },
     "execution_count": 42,
     "metadata": {},
     "output_type": "execute_result"
    }
   ],
   "source": [
    "type(json_data)"
   ]
  },
  {
   "cell_type": "code",
   "execution_count": 43,
   "id": "a42b4353",
   "metadata": {},
   "outputs": [
    {
     "data": {
      "text/html": [
       "<div>\n",
       "<style scoped>\n",
       "    .dataframe tbody tr th:only-of-type {\n",
       "        vertical-align: middle;\n",
       "    }\n",
       "\n",
       "    .dataframe tbody tr th {\n",
       "        vertical-align: top;\n",
       "    }\n",
       "\n",
       "    .dataframe thead th {\n",
       "        text-align: right;\n",
       "    }\n",
       "</style>\n",
       "<table border=\"1\" class=\"dataframe\">\n",
       "  <thead>\n",
       "    <tr style=\"text-align: right;\">\n",
       "      <th></th>\n",
       "      <th>success</th>\n",
       "      <th>timestamp</th>\n",
       "      <th>date</th>\n",
       "      <th>base</th>\n",
       "      <th>rates</th>\n",
       "      <th>unit</th>\n",
       "    </tr>\n",
       "    <tr>\n",
       "      <th>Metal</th>\n",
       "      <th></th>\n",
       "      <th></th>\n",
       "      <th></th>\n",
       "      <th></th>\n",
       "      <th></th>\n",
       "      <th></th>\n",
       "    </tr>\n",
       "  </thead>\n",
       "  <tbody>\n",
       "    <tr>\n",
       "      <th>ALU</th>\n",
       "      <td>True</td>\n",
       "      <td>1650996060</td>\n",
       "      <td>2022-04-26</td>\n",
       "      <td>USD</td>\n",
       "      <td>10.394353</td>\n",
       "      <td>per ounce</td>\n",
       "    </tr>\n",
       "    <tr>\n",
       "      <th>IRON</th>\n",
       "      <td>True</td>\n",
       "      <td>1650996060</td>\n",
       "      <td>2022-04-26</td>\n",
       "      <td>USD</td>\n",
       "      <td>210.960258</td>\n",
       "      <td>per ounce</td>\n",
       "    </tr>\n",
       "    <tr>\n",
       "      <th>TIN</th>\n",
       "      <td>True</td>\n",
       "      <td>1650996060</td>\n",
       "      <td>2022-04-26</td>\n",
       "      <td>USD</td>\n",
       "      <td>0.817335</td>\n",
       "      <td>per ounce</td>\n",
       "    </tr>\n",
       "    <tr>\n",
       "      <th>TUNGSTEN</th>\n",
       "      <td>True</td>\n",
       "      <td>1650996060</td>\n",
       "      <td>2022-04-26</td>\n",
       "      <td>USD</td>\n",
       "      <td>94.750338</td>\n",
       "      <td>per ounce</td>\n",
       "    </tr>\n",
       "    <tr>\n",
       "      <th>USD</th>\n",
       "      <td>True</td>\n",
       "      <td>1650996060</td>\n",
       "      <td>2022-04-26</td>\n",
       "      <td>USD</td>\n",
       "      <td>1.000000</td>\n",
       "      <td>per ounce</td>\n",
       "    </tr>\n",
       "    <tr>\n",
       "      <th>XCU</th>\n",
       "      <td>True</td>\n",
       "      <td>1650996060</td>\n",
       "      <td>2022-04-26</td>\n",
       "      <td>USD</td>\n",
       "      <td>3.597663</td>\n",
       "      <td>per ounce</td>\n",
       "    </tr>\n",
       "  </tbody>\n",
       "</table>\n",
       "</div>"
      ],
      "text/plain": [
       "          success   timestamp        date base       rates       unit\n",
       "Metal                                                                \n",
       "ALU          True  1650996060  2022-04-26  USD   10.394353  per ounce\n",
       "IRON         True  1650996060  2022-04-26  USD  210.960258  per ounce\n",
       "TIN          True  1650996060  2022-04-26  USD    0.817335  per ounce\n",
       "TUNGSTEN     True  1650996060  2022-04-26  USD   94.750338  per ounce\n",
       "USD          True  1650996060  2022-04-26  USD    1.000000  per ounce\n",
       "XCU          True  1650996060  2022-04-26  USD    3.597663  per ounce"
      ]
     },
     "execution_count": 43,
     "metadata": {},
     "output_type": "execute_result"
    }
   ],
   "source": [
    "info2.index.name='Metal'\n",
    "info2"
   ]
  },
  {
   "cell_type": "code",
   "execution_count": 44,
   "id": "aed84ade",
   "metadata": {},
   "outputs": [],
   "source": [
    "info2.drop(['success', 'timestamp', 'base'], axis=1, inplace=True)"
   ]
  },
  {
   "cell_type": "code",
   "execution_count": 45,
   "id": "d269a681",
   "metadata": {},
   "outputs": [
    {
     "data": {
      "text/html": [
       "<div>\n",
       "<style scoped>\n",
       "    .dataframe tbody tr th:only-of-type {\n",
       "        vertical-align: middle;\n",
       "    }\n",
       "\n",
       "    .dataframe tbody tr th {\n",
       "        vertical-align: top;\n",
       "    }\n",
       "\n",
       "    .dataframe thead th {\n",
       "        text-align: right;\n",
       "    }\n",
       "</style>\n",
       "<table border=\"1\" class=\"dataframe\">\n",
       "  <thead>\n",
       "    <tr style=\"text-align: right;\">\n",
       "      <th></th>\n",
       "      <th>date</th>\n",
       "      <th>rates</th>\n",
       "      <th>unit</th>\n",
       "    </tr>\n",
       "    <tr>\n",
       "      <th>Metal</th>\n",
       "      <th></th>\n",
       "      <th></th>\n",
       "      <th></th>\n",
       "    </tr>\n",
       "  </thead>\n",
       "  <tbody>\n",
       "    <tr>\n",
       "      <th>ALU</th>\n",
       "      <td>2022-04-26</td>\n",
       "      <td>10.394353</td>\n",
       "      <td>per ounce</td>\n",
       "    </tr>\n",
       "    <tr>\n",
       "      <th>IRON</th>\n",
       "      <td>2022-04-26</td>\n",
       "      <td>210.960258</td>\n",
       "      <td>per ounce</td>\n",
       "    </tr>\n",
       "    <tr>\n",
       "      <th>TIN</th>\n",
       "      <td>2022-04-26</td>\n",
       "      <td>0.817335</td>\n",
       "      <td>per ounce</td>\n",
       "    </tr>\n",
       "    <tr>\n",
       "      <th>TUNGSTEN</th>\n",
       "      <td>2022-04-26</td>\n",
       "      <td>94.750338</td>\n",
       "      <td>per ounce</td>\n",
       "    </tr>\n",
       "    <tr>\n",
       "      <th>USD</th>\n",
       "      <td>2022-04-26</td>\n",
       "      <td>1.000000</td>\n",
       "      <td>per ounce</td>\n",
       "    </tr>\n",
       "    <tr>\n",
       "      <th>XCU</th>\n",
       "      <td>2022-04-26</td>\n",
       "      <td>3.597663</td>\n",
       "      <td>per ounce</td>\n",
       "    </tr>\n",
       "  </tbody>\n",
       "</table>\n",
       "</div>"
      ],
      "text/plain": [
       "                date       rates       unit\n",
       "Metal                                      \n",
       "ALU       2022-04-26   10.394353  per ounce\n",
       "IRON      2022-04-26  210.960258  per ounce\n",
       "TIN       2022-04-26    0.817335  per ounce\n",
       "TUNGSTEN  2022-04-26   94.750338  per ounce\n",
       "USD       2022-04-26    1.000000  per ounce\n",
       "XCU       2022-04-26    3.597663  per ounce"
      ]
     },
     "execution_count": 45,
     "metadata": {},
     "output_type": "execute_result"
    }
   ],
   "source": [
    "info2"
   ]
  },
  {
   "cell_type": "code",
   "execution_count": 46,
   "id": "f83bc3ed",
   "metadata": {},
   "outputs": [],
   "source": [
    "tonne_troy=32151 "
   ]
  },
  {
   "cell_type": "code",
   "execution_count": 47,
   "id": "250fc775",
   "metadata": {},
   "outputs": [
    {
     "data": {
      "text/html": [
       "<div>\n",
       "<style scoped>\n",
       "    .dataframe tbody tr th:only-of-type {\n",
       "        vertical-align: middle;\n",
       "    }\n",
       "\n",
       "    .dataframe tbody tr th {\n",
       "        vertical-align: top;\n",
       "    }\n",
       "\n",
       "    .dataframe thead th {\n",
       "        text-align: right;\n",
       "    }\n",
       "</style>\n",
       "<table border=\"1\" class=\"dataframe\">\n",
       "  <thead>\n",
       "    <tr style=\"text-align: right;\">\n",
       "      <th></th>\n",
       "      <th>Date</th>\n",
       "      <th>Price</th>\n",
       "      <th>unit</th>\n",
       "    </tr>\n",
       "    <tr>\n",
       "      <th>Metal</th>\n",
       "      <th></th>\n",
       "      <th></th>\n",
       "      <th></th>\n",
       "    </tr>\n",
       "  </thead>\n",
       "  <tbody>\n",
       "    <tr>\n",
       "      <th>ALU</th>\n",
       "      <td>2022-04-26</td>\n",
       "      <td>10.394353</td>\n",
       "      <td>per ounce</td>\n",
       "    </tr>\n",
       "    <tr>\n",
       "      <th>IRON</th>\n",
       "      <td>2022-04-26</td>\n",
       "      <td>210.960258</td>\n",
       "      <td>per ounce</td>\n",
       "    </tr>\n",
       "    <tr>\n",
       "      <th>TIN</th>\n",
       "      <td>2022-04-26</td>\n",
       "      <td>0.817335</td>\n",
       "      <td>per ounce</td>\n",
       "    </tr>\n",
       "    <tr>\n",
       "      <th>TUNGSTEN</th>\n",
       "      <td>2022-04-26</td>\n",
       "      <td>94.750338</td>\n",
       "      <td>per ounce</td>\n",
       "    </tr>\n",
       "    <tr>\n",
       "      <th>USD</th>\n",
       "      <td>2022-04-26</td>\n",
       "      <td>1.000000</td>\n",
       "      <td>per ounce</td>\n",
       "    </tr>\n",
       "    <tr>\n",
       "      <th>XCU</th>\n",
       "      <td>2022-04-26</td>\n",
       "      <td>3.597663</td>\n",
       "      <td>per ounce</td>\n",
       "    </tr>\n",
       "  </tbody>\n",
       "</table>\n",
       "</div>"
      ],
      "text/plain": [
       "                Date       Price       unit\n",
       "Metal                                      \n",
       "ALU       2022-04-26   10.394353  per ounce\n",
       "IRON      2022-04-26  210.960258  per ounce\n",
       "TIN       2022-04-26    0.817335  per ounce\n",
       "TUNGSTEN  2022-04-26   94.750338  per ounce\n",
       "USD       2022-04-26    1.000000  per ounce\n",
       "XCU       2022-04-26    3.597663  per ounce"
      ]
     },
     "execution_count": 47,
     "metadata": {},
     "output_type": "execute_result"
    }
   ],
   "source": [
    "info2.rename(columns={'rates':'Price','date':'Date'})"
   ]
  },
  {
   "cell_type": "code",
   "execution_count": 77,
   "id": "6a356e5d",
   "metadata": {},
   "outputs": [
    {
     "data": {
      "text/plain": [
       "Index(['date', 'rates', 'unit'], dtype='object')"
      ]
     },
     "execution_count": 77,
     "metadata": {},
     "output_type": "execute_result"
    }
   ],
   "source": [
    "info2.columns"
   ]
  },
  {
   "cell_type": "code",
   "execution_count": 48,
   "id": "db72970b",
   "metadata": {},
   "outputs": [],
   "source": [
    "info2['USD per tonne']=((1/info2.rates)*tonne_troy)\n"
   ]
  },
  {
   "cell_type": "code",
   "execution_count": 49,
   "id": "6f0b4c14",
   "metadata": {},
   "outputs": [
    {
     "data": {
      "text/html": [
       "<div>\n",
       "<style scoped>\n",
       "    .dataframe tbody tr th:only-of-type {\n",
       "        vertical-align: middle;\n",
       "    }\n",
       "\n",
       "    .dataframe tbody tr th {\n",
       "        vertical-align: top;\n",
       "    }\n",
       "\n",
       "    .dataframe thead th {\n",
       "        text-align: right;\n",
       "    }\n",
       "</style>\n",
       "<table border=\"1\" class=\"dataframe\">\n",
       "  <thead>\n",
       "    <tr style=\"text-align: right;\">\n",
       "      <th></th>\n",
       "      <th>date</th>\n",
       "      <th>rates</th>\n",
       "      <th>unit</th>\n",
       "      <th>USD per tonne</th>\n",
       "    </tr>\n",
       "    <tr>\n",
       "      <th>Metal</th>\n",
       "      <th></th>\n",
       "      <th></th>\n",
       "      <th></th>\n",
       "      <th></th>\n",
       "    </tr>\n",
       "  </thead>\n",
       "  <tbody>\n",
       "    <tr>\n",
       "      <th>ALU</th>\n",
       "      <td>2022-04-26</td>\n",
       "      <td>10.394353</td>\n",
       "      <td>per ounce</td>\n",
       "      <td>3093.121667</td>\n",
       "    </tr>\n",
       "    <tr>\n",
       "      <th>IRON</th>\n",
       "      <td>2022-04-26</td>\n",
       "      <td>210.960258</td>\n",
       "      <td>per ounce</td>\n",
       "      <td>152.403113</td>\n",
       "    </tr>\n",
       "    <tr>\n",
       "      <th>TIN</th>\n",
       "      <td>2022-04-26</td>\n",
       "      <td>0.817335</td>\n",
       "      <td>per ounce</td>\n",
       "      <td>39336.389062</td>\n",
       "    </tr>\n",
       "    <tr>\n",
       "      <th>TUNGSTEN</th>\n",
       "      <td>2022-04-26</td>\n",
       "      <td>94.750338</td>\n",
       "      <td>per ounce</td>\n",
       "      <td>339.323327</td>\n",
       "    </tr>\n",
       "    <tr>\n",
       "      <th>USD</th>\n",
       "      <td>2022-04-26</td>\n",
       "      <td>1.000000</td>\n",
       "      <td>per ounce</td>\n",
       "      <td>32151.000000</td>\n",
       "    </tr>\n",
       "    <tr>\n",
       "      <th>XCU</th>\n",
       "      <td>2022-04-26</td>\n",
       "      <td>3.597663</td>\n",
       "      <td>per ounce</td>\n",
       "      <td>8936.634894</td>\n",
       "    </tr>\n",
       "  </tbody>\n",
       "</table>\n",
       "</div>"
      ],
      "text/plain": [
       "                date       rates       unit  USD per tonne\n",
       "Metal                                                     \n",
       "ALU       2022-04-26   10.394353  per ounce    3093.121667\n",
       "IRON      2022-04-26  210.960258  per ounce     152.403113\n",
       "TIN       2022-04-26    0.817335  per ounce   39336.389062\n",
       "TUNGSTEN  2022-04-26   94.750338  per ounce     339.323327\n",
       "USD       2022-04-26    1.000000  per ounce   32151.000000\n",
       "XCU       2022-04-26    3.597663  per ounce    8936.634894"
      ]
     },
     "execution_count": 49,
     "metadata": {},
     "output_type": "execute_result"
    }
   ],
   "source": [
    "info2"
   ]
  },
  {
   "cell_type": "code",
   "execution_count": 50,
   "id": "d9ec14d7",
   "metadata": {},
   "outputs": [],
   "source": [
    "info2=info2.rename(columns={'rates':'Price','date':'Date'})"
   ]
  },
  {
   "cell_type": "code",
   "execution_count": 51,
   "id": "aa78278c",
   "metadata": {},
   "outputs": [
    {
     "data": {
      "text/html": [
       "<div>\n",
       "<style scoped>\n",
       "    .dataframe tbody tr th:only-of-type {\n",
       "        vertical-align: middle;\n",
       "    }\n",
       "\n",
       "    .dataframe tbody tr th {\n",
       "        vertical-align: top;\n",
       "    }\n",
       "\n",
       "    .dataframe thead th {\n",
       "        text-align: right;\n",
       "    }\n",
       "</style>\n",
       "<table border=\"1\" class=\"dataframe\">\n",
       "  <thead>\n",
       "    <tr style=\"text-align: right;\">\n",
       "      <th></th>\n",
       "      <th>Date</th>\n",
       "      <th>Price</th>\n",
       "      <th>unit</th>\n",
       "      <th>USD per tonne</th>\n",
       "    </tr>\n",
       "    <tr>\n",
       "      <th>Metal</th>\n",
       "      <th></th>\n",
       "      <th></th>\n",
       "      <th></th>\n",
       "      <th></th>\n",
       "    </tr>\n",
       "  </thead>\n",
       "  <tbody>\n",
       "    <tr>\n",
       "      <th>ALU</th>\n",
       "      <td>2022-04-26</td>\n",
       "      <td>10.394353</td>\n",
       "      <td>per ounce</td>\n",
       "      <td>3093.121667</td>\n",
       "    </tr>\n",
       "    <tr>\n",
       "      <th>IRON</th>\n",
       "      <td>2022-04-26</td>\n",
       "      <td>210.960258</td>\n",
       "      <td>per ounce</td>\n",
       "      <td>152.403113</td>\n",
       "    </tr>\n",
       "    <tr>\n",
       "      <th>TIN</th>\n",
       "      <td>2022-04-26</td>\n",
       "      <td>0.817335</td>\n",
       "      <td>per ounce</td>\n",
       "      <td>39336.389062</td>\n",
       "    </tr>\n",
       "    <tr>\n",
       "      <th>TUNGSTEN</th>\n",
       "      <td>2022-04-26</td>\n",
       "      <td>94.750338</td>\n",
       "      <td>per ounce</td>\n",
       "      <td>339.323327</td>\n",
       "    </tr>\n",
       "    <tr>\n",
       "      <th>USD</th>\n",
       "      <td>2022-04-26</td>\n",
       "      <td>1.000000</td>\n",
       "      <td>per ounce</td>\n",
       "      <td>32151.000000</td>\n",
       "    </tr>\n",
       "    <tr>\n",
       "      <th>XCU</th>\n",
       "      <td>2022-04-26</td>\n",
       "      <td>3.597663</td>\n",
       "      <td>per ounce</td>\n",
       "      <td>8936.634894</td>\n",
       "    </tr>\n",
       "  </tbody>\n",
       "</table>\n",
       "</div>"
      ],
      "text/plain": [
       "                Date       Price       unit  USD per tonne\n",
       "Metal                                                     \n",
       "ALU       2022-04-26   10.394353  per ounce    3093.121667\n",
       "IRON      2022-04-26  210.960258  per ounce     152.403113\n",
       "TIN       2022-04-26    0.817335  per ounce   39336.389062\n",
       "TUNGSTEN  2022-04-26   94.750338  per ounce     339.323327\n",
       "USD       2022-04-26    1.000000  per ounce   32151.000000\n",
       "XCU       2022-04-26    3.597663  per ounce    8936.634894"
      ]
     },
     "execution_count": 51,
     "metadata": {},
     "output_type": "execute_result"
    }
   ],
   "source": [
    "info2"
   ]
  },
  {
   "cell_type": "code",
   "execution_count": 52,
   "id": "378ea385",
   "metadata": {},
   "outputs": [],
   "source": [
    "info2.drop(['Price','unit'], axis=1, inplace=True)"
   ]
  },
  {
   "cell_type": "code",
   "execution_count": 53,
   "id": "15b1376b",
   "metadata": {},
   "outputs": [
    {
     "data": {
      "text/html": [
       "<div>\n",
       "<style scoped>\n",
       "    .dataframe tbody tr th:only-of-type {\n",
       "        vertical-align: middle;\n",
       "    }\n",
       "\n",
       "    .dataframe tbody tr th {\n",
       "        vertical-align: top;\n",
       "    }\n",
       "\n",
       "    .dataframe thead th {\n",
       "        text-align: right;\n",
       "    }\n",
       "</style>\n",
       "<table border=\"1\" class=\"dataframe\">\n",
       "  <thead>\n",
       "    <tr style=\"text-align: right;\">\n",
       "      <th></th>\n",
       "      <th>Date</th>\n",
       "      <th>USD per tonne</th>\n",
       "    </tr>\n",
       "    <tr>\n",
       "      <th>Metal</th>\n",
       "      <th></th>\n",
       "      <th></th>\n",
       "    </tr>\n",
       "  </thead>\n",
       "  <tbody>\n",
       "    <tr>\n",
       "      <th>ALU</th>\n",
       "      <td>2022-04-26</td>\n",
       "      <td>3093.121667</td>\n",
       "    </tr>\n",
       "    <tr>\n",
       "      <th>IRON</th>\n",
       "      <td>2022-04-26</td>\n",
       "      <td>152.403113</td>\n",
       "    </tr>\n",
       "    <tr>\n",
       "      <th>TIN</th>\n",
       "      <td>2022-04-26</td>\n",
       "      <td>39336.389062</td>\n",
       "    </tr>\n",
       "    <tr>\n",
       "      <th>TUNGSTEN</th>\n",
       "      <td>2022-04-26</td>\n",
       "      <td>339.323327</td>\n",
       "    </tr>\n",
       "    <tr>\n",
       "      <th>USD</th>\n",
       "      <td>2022-04-26</td>\n",
       "      <td>32151.000000</td>\n",
       "    </tr>\n",
       "    <tr>\n",
       "      <th>XCU</th>\n",
       "      <td>2022-04-26</td>\n",
       "      <td>8936.634894</td>\n",
       "    </tr>\n",
       "  </tbody>\n",
       "</table>\n",
       "</div>"
      ],
      "text/plain": [
       "                Date  USD per tonne\n",
       "Metal                              \n",
       "ALU       2022-04-26    3093.121667\n",
       "IRON      2022-04-26     152.403113\n",
       "TIN       2022-04-26   39336.389062\n",
       "TUNGSTEN  2022-04-26     339.323327\n",
       "USD       2022-04-26   32151.000000\n",
       "XCU       2022-04-26    8936.634894"
      ]
     },
     "execution_count": 53,
     "metadata": {},
     "output_type": "execute_result"
    }
   ],
   "source": [
    "info2"
   ]
  },
  {
   "cell_type": "code",
   "execution_count": 1,
   "id": "9ecba2dd",
   "metadata": {},
   "outputs": [],
   "source": [
    "import matplotlib.pyplot as plt\n",
    "import datetime\n",
    "import numpy as np\n",
    "import pandas as pd\n",
    "import seaborn as sns"
   ]
  },
  {
   "cell_type": "code",
   "execution_count": 69,
   "id": "3d098166",
   "metadata": {},
   "outputs": [
    {
     "data": {
      "text/plain": [
       "<AxesSubplot:xlabel='Date'>"
      ]
     },
     "execution_count": 69,
     "metadata": {},
     "output_type": "execute_result"
    },
    {
     "data": {
      "text/plain": [
       "<Figure size 1728x7200 with 0 Axes>"
      ]
     },
     "metadata": {},
     "output_type": "display_data"
    },
    {
     "data": {
      "image/png": "[encoded data removed]",
      "text/plain": [
       "<Figure size 432x288 with 1 Axes>"
      ]
     },
     "metadata": {
      "needs_background": "light"
     },
     "output_type": "display_data"
    }
   ],
   "source": [
    "fig = plt.figure(figsize=(24, 100))\n",
    "info.plot(color='m',label='Tungsten Price', linewidth=3)"
   ]
  },
  {
   "cell_type": "code",
   "execution_count": null,
   "id": "3db4f69b",
   "metadata": {},
   "outputs": [],
   "source": []
  }
 ],
 "metadata": {
  "kernelspec": {
   "display_name": "Python [conda env:proyectofinal]",
   "language": "python",
   "name": "conda-env-proyectofinal-py"
  },
  "language_info": {
   "codemirror_mode": {
    "name": "ipython",
    "version": 3
   },
   "file_extension": ".py",
   "mimetype": "text/x-python",
   "name": "python",
   "nbconvert_exporter": "python",
   "pygments_lexer": "ipython3",
   "version": "3.7.13"
  }
 },
 "nbformat": 4,
 "nbformat_minor": 5
}
