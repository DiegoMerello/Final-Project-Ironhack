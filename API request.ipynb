{
 "cells": [
  {
   "cell_type": "code",
   "execution_count": 1,
   "id": "302a5947",
   "metadata": {},
   "outputs": [],
   "source": [
    "import requests "
   ]
  },
  {
   "cell_type": "code",
   "execution_count": 26,
   "id": "de53ff6c",
   "metadata": {},
   "outputs": [],
   "source": [
    "base_currency= 'USD'\n",
    "symbol = 'XCU, ALU, TUNGSTEN, TIN, IRON' \n",
    "endpoint = 'latest'\n",
    "access_key = 'kw1gi2e747957w1xqebd3ok2hh7sgfljbt9q9f1y3hs37jxb2f9dcgh12xu4'"
   ]
  },
  {
   "cell_type": "code",
   "execution_count": 17,
   "id": "49d26a41",
   "metadata": {},
   "outputs": [],
   "source": [
    "resp = requests.get(\n",
    "        'https://www.metals-api.com/api/latest?access_key=kw1gi2e747957w1xqebd3ok2hh7sgfljbt9q9f1y3hs37jxb2f9dcgh12xu4&base=USD&symbols=TUNGSTEN')"
   ]
  },
  {
   "cell_type": "code",
   "execution_count": 18,
   "id": "9db87401",
   "metadata": {},
   "outputs": [],
   "source": [
    "if resp.status_code != 200:\n",
    "    raise ApiError('GET /'+endpoint+'/ {}'.format(resp.status_code))"
   ]
  },
  {
   "cell_type": "code",
   "execution_count": 19,
   "id": "2b94ebf5",
   "metadata": {},
   "outputs": [
    {
     "name": "stdout",
     "output_type": "stream",
     "text": [
      "{'success': True, 'timestamp': 1649782320, 'date': '2022-04-12', 'base': 'USD', 'rates': {'TUNGSTEN': 93.38448458926, 'USD': 1}}\n"
     ]
    }
   ],
   "source": [
    " print(resp.json())"
   ]
  },
  {
   "cell_type": "code",
   "execution_count": 15,
   "id": "11aec19c",
   "metadata": {},
   "outputs": [],
   "source": [
    "req1= requests.get('https://api.metals.live/v1/spot/commodities').json()\n",
    "if resp.status_code != 200:\n",
    "    raise ApiError('GET /'+endpoint+'/ {}'.format(resp.status_code))"
   ]
  },
  {
   "cell_type": "code",
   "execution_count": 16,
   "id": "04646182",
   "metadata": {},
   "outputs": [
    {
     "name": "stdout",
     "output_type": "stream",
     "text": [
      "[{'iridium': '6100.00'}, {'rhodium': '19100.00'}, {'ruthenium': '750.00'}, {'lead': '1.0843'}, {'aluminum': '1.47'}, {'copper': '4.6240'}, {'nickel': '77.960'}, {'tin': '19.65'}, {'zinc': '24.866'}, {'cobalt': '36.99'}, {'bronze': '1.77'}, {'brass': '2.11'}, {'timestamp': 1649781997664}]\n"
     ]
    }
   ],
   "source": [
    "print(req1)"
   ]
  },
  {
   "cell_type": "code",
   "execution_count": 23,
   "id": "46ffbe3f",
   "metadata": {},
   "outputs": [],
   "source": [
    "resp2=requests.get(\n",
    "        'https://www.metals-api.com/api/2019-12-01?access_key=kw1gi2e747957w1xqebd3ok2hh7sgfljbt9q9f1y3hs37jxb2f9dcgh12xu4&base=USD&symbols=TUNGSTEN')"
   ]
  },
  {
   "cell_type": "code",
   "execution_count": 24,
   "id": "0308884c",
   "metadata": {},
   "outputs": [],
   "source": [
    "if resp2.status_code != 200:\n",
    "    raise ApiError('GET /'+endpoint+'/ {}'.format(resp.status_code))"
   ]
  },
  {
   "cell_type": "code",
   "execution_count": 25,
   "id": "0899f413",
   "metadata": {},
   "outputs": [
    {
     "name": "stdout",
     "output_type": "stream",
     "text": [
      "{'success': True, 'historical': True, 'date': '2019-12-01', 'base': 'USD', 'rates': {'USD': 1.1}}\n"
     ]
    }
   ],
   "source": [
    " print(resp2.json())"
   ]
  },
  {
   "cell_type": "code",
   "execution_count": 27,
   "id": "c07a3050",
   "metadata": {},
   "outputs": [],
   "source": [
    "resp3= requests.get(\n",
    "        'https://www.metals-api.com/api/'+endpoint+'?access_key='+access_key+'&base='+base_currency+'&symbols='+symbol)"
   ]
  },
  {
   "cell_type": "code",
   "execution_count": 29,
   "id": "d4b4e7ea",
   "metadata": {},
   "outputs": [],
   "source": [
    "if resp3.status_code != 200:\n",
    "    raise ApiError('GET /'+endpoint+'/ {}'.format(resp.status_code))"
   ]
  },
  {
   "cell_type": "code",
   "execution_count": 30,
   "id": "8dbdfd18",
   "metadata": {},
   "outputs": [
    {
     "name": "stdout",
     "output_type": "stream",
     "text": [
      "{'success': True, 'timestamp': 1649788080, 'date': '2022-04-12', 'base': 'USD', 'rates': {'USD': 1, 'XCU': 3.4021553831438}, 'unit': 'per ounce'}\n"
     ]
    }
   ],
   "source": [
    " print(resp3.json())"
   ]
  },
  {
   "cell_type": "code",
   "execution_count": null,
   "id": "67e52823",
   "metadata": {},
   "outputs": [],
   "source": []
  }
 ],
 "metadata": {
  "kernelspec": {
   "display_name": "Python [conda env:proyectofinal]",
   "language": "python",
   "name": "conda-env-proyectofinal-py"
  },
  "language_info": {
   "codemirror_mode": {
    "name": "ipython",
    "version": 3
   },
   "file_extension": ".py",
   "mimetype": "text/x-python",
   "name": "python",
   "nbconvert_exporter": "python",
   "pygments_lexer": "ipython3",
   "version": "3.7.13"
  }
 },
 "nbformat": 4,
 "nbformat_minor": 5
}
