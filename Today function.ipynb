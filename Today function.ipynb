{
 "cells": [
  {
   "cell_type": "code",
   "execution_count": 41,
   "id": "3580063b",
   "metadata": {},
   "outputs": [],
   "source": [
    "from datetime import datetime, timedelta"
   ]
  },
  {
   "cell_type": "code",
   "execution_count": 44,
   "id": "cc746b9d",
   "metadata": {},
   "outputs": [
    {
     "name": "stdout",
     "output_type": "stream",
     "text": [
      "2022-04-29\n"
     ]
    }
   ],
   "source": [
    "dia=date.today().weekday()\n",
    "if dia == 5:\n",
    "    d = datetime.today() - timedelta(days=1)\n",
    "    date_time_str = d.strftime(\"%Y-%m-%d\")\n",
    "    print(date_time_str)\n",
    "elif dia == 6:\n",
    "    d = datetime.today() - timedelta(days=2)\n",
    "    date_time_str = d.strftime(\"%Y-%m-%d\")\n",
    "    print(date_time_str)\n",
    "else:\n",
    "    d=datetime.today()\n",
    "    date_time_str = d.strftime(\"%Y-%m-%d\")\n",
    "    print(date_time_str)"
   ]
  },
  {
   "cell_type": "code",
   "execution_count": 38,
   "id": "036bfe6c",
   "metadata": {},
   "outputs": [
    {
     "name": "stdout",
     "output_type": "stream",
     "text": [
      "4\n"
     ]
    }
   ],
   "source": [
    "if dia == 5 or dia ==6:\n",
    "    print(4)\n",
    "else:\n",
    "    print(dia)"
   ]
  },
  {
   "cell_type": "code",
   "execution_count": 21,
   "id": "1b0d700f",
   "metadata": {},
   "outputs": [
    {
     "ename": "TypeError",
     "evalue": "descriptor 'strftime' requires a 'datetime.date' object but received a 'str'",
     "output_type": "error",
     "traceback": [
      "\u001b[1;31m---------------------------------------------------------------------------\u001b[0m",
      "\u001b[1;31mTypeError\u001b[0m                                 Traceback (most recent call last)",
      "\u001b[1;32m~\\AppData\\Local\\Temp\\ipykernel_2940\\2394534191.py\u001b[0m in \u001b[0;36m<module>\u001b[1;34m\u001b[0m\n\u001b[1;32m----> 1\u001b[1;33m \u001b[0mdate_time_str\u001b[0m \u001b[1;33m=\u001b[0m \u001b[0mdate\u001b[0m\u001b[1;33m.\u001b[0m\u001b[0mstrftime\u001b[0m\u001b[1;33m(\u001b[0m\u001b[1;34m\"%Y-%m-%d\"\u001b[0m\u001b[1;33m)\u001b[0m\u001b[1;33m\u001b[0m\u001b[1;33m\u001b[0m\u001b[0m\n\u001b[0m\u001b[0;32m      2\u001b[0m \u001b[0mdate_time_str\u001b[0m\u001b[1;33m.\u001b[0m\u001b[0mweekday\u001b[0m\u001b[1;33m(\u001b[0m\u001b[1;33m)\u001b[0m\u001b[1;33m\u001b[0m\u001b[1;33m\u001b[0m\u001b[0m\n",
      "\u001b[1;31mTypeError\u001b[0m: descriptor 'strftime' requires a 'datetime.date' object but received a 'str'"
     ]
    }
   ],
   "source": [
    "date_time_str = date.strftime(\"%Y-%m-%d\")"
   ]
  },
  {
   "cell_type": "code",
   "execution_count": 7,
   "id": "0f580063",
   "metadata": {},
   "outputs": [
    {
     "name": "stdout",
     "output_type": "stream",
     "text": [
      "DateTime String: 2022-04-30\n"
     ]
    }
   ],
   "source": [
    "print('DateTime String:', date_time_str)"
   ]
  },
  {
   "cell_type": "code",
   "execution_count": 51,
   "id": "afcec311",
   "metadata": {},
   "outputs": [],
   "source": [
    "def today():\n",
    "    dia=date.today().weekday()\n",
    "    if dia == 5:\n",
    "        d = datetime.today() - timedelta(days=1)\n",
    "        date_time_str = d.strftime(\"%Y-%m-%d\")\n",
    "        return (date_time_str)\n",
    "    \n",
    "    elif dia == 6:\n",
    "        d = datetime.today() - timedelta(days=2)\n",
    "        date_time_str = d.strftime(\"%Y-%m-%d\")\n",
    "        return (date_time_str)\n",
    "    \n",
    "    else:\n",
    "        d=datetime.today()\n",
    "        date_time_str = d.strftime(\"%Y-%m-%d\")\n",
    "        print(date_time_str)\n",
    "        return (date_time_str)"
   ]
  },
  {
   "cell_type": "code",
   "execution_count": 52,
   "id": "04c40ae8",
   "metadata": {},
   "outputs": [
    {
     "data": {
      "text/plain": [
       "'2022-04-29'"
      ]
     },
     "execution_count": 52,
     "metadata": {},
     "output_type": "execute_result"
    }
   ],
   "source": [
    "today()"
   ]
  },
  {
   "cell_type": "code",
   "execution_count": null,
   "id": "d7f82c6a",
   "metadata": {},
   "outputs": [],
   "source": []
  }
 ],
 "metadata": {
  "kernelspec": {
   "display_name": "Python [conda env:proyectofinal]",
   "language": "python",
   "name": "conda-env-proyectofinal-py"
  },
  "language_info": {
   "codemirror_mode": {
    "name": "ipython",
    "version": 3
   },
   "file_extension": ".py",
   "mimetype": "text/x-python",
   "name": "python",
   "nbconvert_exporter": "python",
   "pygments_lexer": "ipython3",
   "version": "3.7.13"
  }
 },
 "nbformat": 4,
 "nbformat_minor": 5
}
