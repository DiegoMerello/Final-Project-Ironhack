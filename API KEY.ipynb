{
 "cells": [
  {
   "cell_type": "markdown",
   "id": "2b8a7ef3",
   "metadata": {},
   "source": [
    "kw1gi2e747957w1xqebd3ok2hh7sgfljbt9q9f1y3hs37jxb2f9dcgh12xu4"
   ]
  }
 ],
 "metadata": {
  "kernelspec": {
   "display_name": "Python [conda env:proyectofinal]",
   "language": "python",
   "name": "conda-env-proyectofinal-py"
  },
  "language_info": {
   "codemirror_mode": {
    "name": "ipython",
    "version": 3
   },
   "file_extension": ".py",
   "mimetype": "text/x-python",
   "name": "python",
   "nbconvert_exporter": "python",
   "pygments_lexer": "ipython3",
   "version": "3.7.13"
  }
 },
 "nbformat": 4,
 "nbformat_minor": 5
}
