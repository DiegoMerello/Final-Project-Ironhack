{
 "cells": [
  {
   "cell_type": "code",
   "execution_count": 1,
   "id": "f87731e0",
   "metadata": {},
   "outputs": [],
   "source": [
    "import re"
   ]
  },
  {
   "cell_type": "code",
   "execution_count": 2,
   "id": "f049c463",
   "metadata": {},
   "outputs": [],
   "source": [
    "import datetime\n",
    "import requests\n",
    "from bs4 import BeautifulSoup\n"
   ]
  },
  {
   "cell_type": "code",
   "execution_count": 10,
   "id": "3001c24e",
   "metadata": {},
   "outputs": [],
   "source": [
    "def get_metal_values():\n",
    "    names = []\n",
    "    prices = []\n",
    "    metals = requests.get('https://www.lme.com/').text\n",
    "    soup = BeautifulSoup(metals, 'lxml')\n",
    "    metal_table = soup.find(\"table\", attrs={\"class\": \"ring-times\"})\n",
    "    metal_table_names, metal_table_prices = metal_table.tbody.find_all(\"th\"), metal_table.tbody.find_all(\"td\")\n",
    "    for name in metal_table_names:\n",
    "        names.append(name.text.replace(\"LME \", \"\"))\n",
    "    for price in metal_table_prices:\n",
    "        prices.append(price.text.strip())\n",
    "    return names, prices"
   ]
  },
  {
   "cell_type": "code",
   "execution_count": 11,
   "id": "d78f038d",
   "metadata": {},
   "outputs": [],
   "source": [
    "def get_time():\n",
    "    date = datetime.datetime.now()\n",
    "    time = (f'{date.day}/{date.month}/{date.year} | {date.hour}:{date.minute}')\n",
    "    return time"
   ]
  },
  {
   "cell_type": "code",
   "execution_count": 12,
   "id": "0ac7f1ca",
   "metadata": {},
   "outputs": [],
   "source": [
    "def get_euro_conversion():\n",
    "    peso = requests.get('https://themoneyconverter.com/USD/EUR').text\n",
    "    soup1 = BeautifulSoup(peso, 'lxml')\n",
    "    conversion = soup1.find(\"div\", class_=\"cc-result\").text\n",
    "    rate = re.search(\"\\d{2}\\.\\d{4}\", conversion).group()\n",
    "    return rate"
   ]
  },
  {
   "cell_type": "code",
   "execution_count": 13,
   "id": "a546d5e7",
   "metadata": {},
   "outputs": [],
   "source": [
    "metal_translation = {\"Aluminium\": \"Aluminio\", \"Copper\": \"Cobre\", \"Zinc\": \"Zinc\", \"Nickel\": \"Níquel\", \"Lead\": \"Plomo\", \n",
    "                     \"Tin\": \"Estaño\", \"Aluminium Alloy\": \"Aleación de Aluminio\", \"Cobalt\": \"Cobalto\", \"Gold*\": \"Oro*\", \n",
    "                     \"Silver*\": \"Plata*\", \"Steel Scrap**\": \"Chatarra de Acero\", \"NASAAC\": \"NASAAC\", \"Steel Rebar**\": \"Varilla de Acero\"}"
   ]
  },
  {
   "cell_type": "code",
   "execution_count": 14,
   "id": "fc84139a",
   "metadata": {},
   "outputs": [],
   "source": [
    "def convert_values():\n",
    "    names, prices = get_metal_values()\n",
    "    rate = get_euro_conversion()\n",
    "    metal_data = dict(zip(names, prices))\n",
    "    for k, v in metal_data.items():\n",
    "        v = (float(v.replace(\",\", \"\")) * float(rate))\n",
    "        v = (\"%.2f\" % v)\n",
    "        k = metal_translation[k]\n",
    "        print(f'{k}: {v} $')"
   ]
  },
  {
   "cell_type": "code",
   "execution_count": 15,
   "id": "fc564c6b",
   "metadata": {},
   "outputs": [],
   "source": [
    "def program_run():\n",
    "    print(\"Metal Prices by Diego Merello\")\n",
    "    print(\"================================================\")\n",
    "    print(f'{get_time()} | 1 USD = {get_euro_conversion()} EUR\\n')\n",
    "    print(\"Precios de metales de London Metal Exchange: (Por tonelada métrica, *Por onza Troy)\\n\")\n",
    "    convert_values()\n",
    "    print(\"================================================\")"
   ]
  },
  {
   "cell_type": "code",
   "execution_count": 16,
   "id": "d2108922",
   "metadata": {},
   "outputs": [
    {
     "name": "stdout",
     "output_type": "stream",
     "text": [
      "Metal Prices by Diego Merello\n",
      "================================================\n"
     ]
    },
    {
     "ename": "AttributeError",
     "evalue": "'NoneType' object has no attribute 'group'",
     "output_type": "error",
     "traceback": [
      "\u001b[1;31m---------------------------------------------------------------------------\u001b[0m",
      "\u001b[1;31mAttributeError\u001b[0m                            Traceback (most recent call last)",
      "\u001b[1;32m~\\AppData\\Local\\Temp\\ipykernel_10512\\1685257627.py\u001b[0m in \u001b[0;36m<module>\u001b[1;34m\u001b[0m\n\u001b[1;32m----> 1\u001b[1;33m \u001b[0mprogram_run\u001b[0m\u001b[1;33m(\u001b[0m\u001b[1;33m)\u001b[0m\u001b[1;33m\u001b[0m\u001b[1;33m\u001b[0m\u001b[0m\n\u001b[0m\u001b[0;32m      2\u001b[0m \u001b[0minput\u001b[0m\u001b[1;33m(\u001b[0m\u001b[1;34m\"\\nEscribe 'x' para terminar.\\n\"\u001b[0m\u001b[1;33m)\u001b[0m\u001b[1;33m\u001b[0m\u001b[1;33m\u001b[0m\u001b[0m\n",
      "\u001b[1;32m~\\AppData\\Local\\Temp\\ipykernel_10512\\846740982.py\u001b[0m in \u001b[0;36mprogram_run\u001b[1;34m()\u001b[0m\n\u001b[0;32m      2\u001b[0m     \u001b[0mprint\u001b[0m\u001b[1;33m(\u001b[0m\u001b[1;34m\"Metal Prices by Diego Merello\"\u001b[0m\u001b[1;33m)\u001b[0m\u001b[1;33m\u001b[0m\u001b[1;33m\u001b[0m\u001b[0m\n\u001b[0;32m      3\u001b[0m     \u001b[0mprint\u001b[0m\u001b[1;33m(\u001b[0m\u001b[1;34m\"================================================\"\u001b[0m\u001b[1;33m)\u001b[0m\u001b[1;33m\u001b[0m\u001b[1;33m\u001b[0m\u001b[0m\n\u001b[1;32m----> 4\u001b[1;33m     \u001b[0mprint\u001b[0m\u001b[1;33m(\u001b[0m\u001b[1;34mf'{get_time()} | 1 USD = {get_euro_conversion()} EUR\\n'\u001b[0m\u001b[1;33m)\u001b[0m\u001b[1;33m\u001b[0m\u001b[1;33m\u001b[0m\u001b[0m\n\u001b[0m\u001b[0;32m      5\u001b[0m     \u001b[0mprint\u001b[0m\u001b[1;33m(\u001b[0m\u001b[1;34m\"Precios de metales de London Metal Exchange: (Por tonelada métrica, *Por onza Troy)\\n\"\u001b[0m\u001b[1;33m)\u001b[0m\u001b[1;33m\u001b[0m\u001b[1;33m\u001b[0m\u001b[0m\n\u001b[0;32m      6\u001b[0m     \u001b[0mconvert_values\u001b[0m\u001b[1;33m(\u001b[0m\u001b[1;33m)\u001b[0m\u001b[1;33m\u001b[0m\u001b[1;33m\u001b[0m\u001b[0m\n",
      "\u001b[1;32m~\\AppData\\Local\\Temp\\ipykernel_10512\\2920609389.py\u001b[0m in \u001b[0;36mget_euro_conversion\u001b[1;34m()\u001b[0m\n\u001b[0;32m      3\u001b[0m     \u001b[0msoup1\u001b[0m \u001b[1;33m=\u001b[0m \u001b[0mBeautifulSoup\u001b[0m\u001b[1;33m(\u001b[0m\u001b[0mpeso\u001b[0m\u001b[1;33m,\u001b[0m \u001b[1;34m'lxml'\u001b[0m\u001b[1;33m)\u001b[0m\u001b[1;33m\u001b[0m\u001b[1;33m\u001b[0m\u001b[0m\n\u001b[0;32m      4\u001b[0m     \u001b[0mconversion\u001b[0m \u001b[1;33m=\u001b[0m \u001b[0msoup1\u001b[0m\u001b[1;33m.\u001b[0m\u001b[0mfind\u001b[0m\u001b[1;33m(\u001b[0m\u001b[1;34m\"div\"\u001b[0m\u001b[1;33m,\u001b[0m \u001b[0mclass_\u001b[0m\u001b[1;33m=\u001b[0m\u001b[1;34m\"cc-result\"\u001b[0m\u001b[1;33m)\u001b[0m\u001b[1;33m.\u001b[0m\u001b[0mtext\u001b[0m\u001b[1;33m\u001b[0m\u001b[1;33m\u001b[0m\u001b[0m\n\u001b[1;32m----> 5\u001b[1;33m     \u001b[0mrate\u001b[0m \u001b[1;33m=\u001b[0m \u001b[0mre\u001b[0m\u001b[1;33m.\u001b[0m\u001b[0msearch\u001b[0m\u001b[1;33m(\u001b[0m\u001b[1;34m\"\\d{2}\\.\\d{4}\"\u001b[0m\u001b[1;33m,\u001b[0m \u001b[0mconversion\u001b[0m\u001b[1;33m)\u001b[0m\u001b[1;33m.\u001b[0m\u001b[0mgroup\u001b[0m\u001b[1;33m(\u001b[0m\u001b[1;33m)\u001b[0m\u001b[1;33m\u001b[0m\u001b[1;33m\u001b[0m\u001b[0m\n\u001b[0m\u001b[0;32m      6\u001b[0m     \u001b[1;32mreturn\u001b[0m \u001b[0mrate\u001b[0m\u001b[1;33m\u001b[0m\u001b[1;33m\u001b[0m\u001b[0m\n",
      "\u001b[1;31mAttributeError\u001b[0m: 'NoneType' object has no attribute 'group'"
     ]
    }
   ],
   "source": [
    "program_run()\n",
    "input(\"\\nEscribe 'x' para terminar.\\n\")"
   ]
  },
  {
   "cell_type": "code",
   "execution_count": null,
   "id": "b24de450",
   "metadata": {},
   "outputs": [],
   "source": []
  }
 ],
 "metadata": {
  "kernelspec": {
   "display_name": "Python [conda env:proyectofinal]",
   "language": "python",
   "name": "conda-env-proyectofinal-py"
  },
  "language_info": {
   "codemirror_mode": {
    "name": "ipython",
    "version": 3
   },
   "file_extension": ".py",
   "mimetype": "text/x-python",
   "name": "python",
   "nbconvert_exporter": "python",
   "pygments_lexer": "ipython3",
   "version": "3.7.13"
  }
 },
 "nbformat": 4,
 "nbformat_minor": 5
}
